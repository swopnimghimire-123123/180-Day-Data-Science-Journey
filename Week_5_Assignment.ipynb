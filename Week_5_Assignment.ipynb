{
  "nbformat": 4,
  "nbformat_minor": 0,
  "metadata": {
    "colab": {
      "provenance": [],
      "authorship_tag": "ABX9TyMY2uxlptMYbvJSASnLwoUg",
      "include_colab_link": true
    },
    "kernelspec": {
      "name": "python3",
      "display_name": "Python 3"
    },
    "language_info": {
      "name": "python"
    }
  },
  "cells": [
    {
      "cell_type": "markdown",
      "metadata": {
        "id": "view-in-github",
        "colab_type": "text"
      },
      "source": [
        "<a href=\"https://colab.research.google.com/github/swopnimghimire-123123/180-Day-Data-Science-Journey/blob/main/Week_5_Assignment.ipynb\" target=\"_parent\"><img src=\"https://colab.research.google.com/assets/colab-badge.svg\" alt=\"Open In Colab\"/></a>"
      ]
    },
    {
      "cell_type": "markdown",
      "source": [
        "# Week 5: Statistics Basics – Descriptive Statistics\n",
        "- Mean, Median, Mode – Concepts & Formulas\n",
        "- Variance & Standard Deviation – Why do we need them?\n",
        "- Range, Quartiles, IQR\n",
        "- Understanding Data Distribution (Normal vs Skewed)\n",
        "- Hands-on with Python: mean(), median(), std(), describe() in NumPy & Pandas"
      ],
      "metadata": {
        "id": "ZBit32PMDHE4"
      }
    },
    {
      "cell_type": "markdown",
      "metadata": {
        "id": "5dd16ca0"
      },
      "source": [
        "## Descriptive Statistics\n",
        "\n",
        "Descriptive statistics are used to summarize and describe the main features of a dataset. They provide simple summaries about the sample and about the observations that have been made.\n",
        "\n",
        "### Measures of Central Tendency\n",
        "\n",
        "These measures describe the center point of a dataset.\n",
        "\n",
        "*   **Mean:** The average of all values.\n",
        "    *   **Formula:** Sum of all values divided by the number of values ($\\bar{x} = \\frac{\\sum x_i}{n}$)\n",
        "*   **Median:** The middle value when the data is ordered. If there's an even number of values, it's the average of the two middle values.\n",
        "*   **Mode:** The value that appears most frequently in the dataset.\n",
        "\n",
        "### Measures of Variability (Spread)\n",
        "\n",
        "These measures describe how spread out the data is.\n",
        "\n",
        "*   **Variance:** The average of the squared differences from the mean. It measures how far each number in the set is from the mean.\n",
        "    *   **Formula (Sample Variance):** $s^2 = \\frac{\\sum (x_i - \\bar{x})^2}{n-1}$\n",
        "    *   **Formula (Population Variance):** $\\sigma^2 = \\frac{\\sum (x_i - \\mu)^2}{N}$\n",
        "*   **Standard Deviation:** The square root of the variance. It provides a measure of spread in the same units as the original data.\n",
        "    *   **Formula (Sample Standard Deviation):** $s = \\sqrt{\\frac{\\sum (x_i - \\bar{x})^2}{n-1}}$\n",
        "    *   **Formula (Population Standard Deviation):** $\\sigma = \\sqrt{\\frac{\\sum (x_i - \\mu)^2}{N}}$\n",
        "    *   **Why do we need them?** Variance and standard deviation tell us about the dispersion of data points around the mean. A higher variance/standard deviation indicates that the data points are more spread out, while a lower value indicates they are clustered closer to the mean.\n",
        "\n",
        "*   **Range:** The difference between the highest and lowest values in a dataset.\n",
        "*   **Quartiles:** Values that divide the data into four equal parts.\n",
        "    *   **Q1 (First Quartile):** 25th percentile\n",
        "    *   **Q2 (Second Quartile):** 50th percentile (which is also the median)\n",
        "    *   **Q3 (Third Quartile):** 75th percentile\n",
        "*   **IQR (Interquartile Range):** The difference between the third quartile (Q3) and the first quartile (Q1). It represents the range of the middle 50% of the data.\n",
        "\n",
        "### Understanding Data Distribution\n",
        "\n",
        "*   **Normal Distribution:** A symmetrical distribution where the mean, median, and mode are all equal and located at the center. It is often described as a bell curve.\n",
        "*   **Skewed Distribution:** A distribution that is not symmetrical.\n",
        "    *   **Positively (Right) Skewed:** The tail of the distribution extends to the right. The mean is typically greater than the median.\n",
        "    *   **Negatively (Left) Skewed:** The tail of the distribution extends to the left. The mean is typically less than the median.\n",
        "\n",
        "### Hands-on with Python\n",
        "\n",
        "You can calculate these descriptive statistics using libraries like NumPy and Pandas.\n",
        "\n",
        "**Using NumPy:**\n"
      ]
    },
    {
      "cell_type": "code",
      "metadata": {
        "colab": {
          "base_uri": "https://localhost:8080/"
        },
        "id": "7bd58646",
        "outputId": "af48645f-6f79-429a-c5b0-f917018086fc"
      },
      "source": [
        "import pandas as pd\n",
        "\n",
        "data = pd.Series([1, 2, 3, 4, 5, 6, 7, 8, 9, 10])\n",
        "\n",
        "mean = data.mean()\n",
        "median = data.median()\n",
        "std_dev = data.std() # Calculates sample standard deviation by default\n",
        "variance = data.var() # Calculates sample variance by default\n",
        "description = data.describe()\n",
        "\n",
        "print(f\"Mean: {mean}\")\n",
        "print(f\"Median: {median}\")\n",
        "print(f\"Standard Deviation: {std_dev}\")\n",
        "print(f\"Variance: {variance}\")\n",
        "print(\"\\nDescription:\\n\", description)\n",
        "\n",
        "# For population standard deviation and variance, you can use ddof=0\n",
        "population_std_dev = data.std(ddof=0)\n",
        "population_variance = data.var(ddof=0)\n",
        "print(f\"Population Standard Deviation: {population_std_dev}\")\n",
        "print(f\"Population Variance: {population_variance}\")"
      ],
      "execution_count": 1,
      "outputs": [
        {
          "output_type": "stream",
          "name": "stdout",
          "text": [
            "Mean: 5.5\n",
            "Median: 5.5\n",
            "Standard Deviation: 3.0276503540974917\n",
            "Variance: 9.166666666666666\n",
            "\n",
            "Description:\n",
            " count    10.00000\n",
            "mean      5.50000\n",
            "std       3.02765\n",
            "min       1.00000\n",
            "25%       3.25000\n",
            "50%       5.50000\n",
            "75%       7.75000\n",
            "max      10.00000\n",
            "dtype: float64\n",
            "Population Standard Deviation: 2.8722813232690143\n",
            "Population Variance: 8.25\n"
          ]
        }
      ]
    },
    {
      "cell_type": "markdown",
      "source": [
        "### Q1. Create a NumPy array of 10 random integers between 1 and 100. Find its mean."
      ],
      "metadata": {
        "id": "V8fDEolAEcRR"
      }
    },
    {
      "cell_type": "code",
      "execution_count": 3,
      "metadata": {
        "colab": {
          "base_uri": "https://localhost:8080/"
        },
        "id": "VrtvGhbmDC1a",
        "outputId": "a4a23da7-1c4c-4552-fb25-ff052d21b329"
      },
      "outputs": [
        {
          "output_type": "stream",
          "name": "stdout",
          "text": [
            "Mean: 53.8\n"
          ]
        }
      ],
      "source": [
        "import numpy as np\n",
        "# creating an array of 10 random integers from 1 to 100\n",
        "arr = np.random.randint(1, 101, 10)\n",
        "\n",
        "# finding the mean of the array\n",
        "mean = np.mean(arr)\n",
        "\n",
        "# calculate and display the mean\n",
        "print(\"Mean:\",mean)"
      ]
    },
    {
      "cell_type": "markdown",
      "source": [
        "### Q2. Calculate the median of the array: [10, 5, 8, 12, 3, 7]."
      ],
      "metadata": {
        "id": "s_HBGeByE2Ud"
      }
    },
    {
      "cell_type": "code",
      "source": [
        "import numpy as np\n",
        "\n",
        "# creating an array\n",
        "arr = np.array([10, 5, 8, 12, 3, 7])\n",
        "\n",
        "# finding the median\n",
        "median = np.median(arr)\n",
        "\n",
        "# displaying the median\n",
        "print(\"Median:\",median)"
      ],
      "metadata": {
        "colab": {
          "base_uri": "https://localhost:8080/"
        },
        "id": "SGyV06K0DGDi",
        "outputId": "11a4bd56-ebc0-473b-bf15-0d8e0c6a2f8d"
      },
      "execution_count": 5,
      "outputs": [
        {
          "output_type": "stream",
          "name": "stdout",
          "text": [
            "Median: 7.5\n"
          ]
        }
      ]
    },
    {
      "cell_type": "markdown",
      "source": [
        "### Q3. Generate an array of 15 random numbers between 1 and 50. Find its standard deviation"
      ],
      "metadata": {
        "id": "6OuHkwdxFUQB"
      }
    },
    {
      "cell_type": "code",
      "source": [
        "import numpy as np\n",
        "\n",
        "# creating an array\n",
        "arr = np.random.randint(1,51,15)\n",
        "\n",
        "# finding the standard deviation\n",
        "std = np.std(arr)\n",
        "\n",
        "# displaying the result\n",
        "print(\"Standard Deviation:\",std)"
      ],
      "metadata": {
        "colab": {
          "base_uri": "https://localhost:8080/"
        },
        "id": "sY43-EFeDGGZ",
        "outputId": "aa7aaa3f-905c-4df8-ca54-a92f988fe946"
      },
      "execution_count": 7,
      "outputs": [
        {
          "output_type": "stream",
          "name": "stdout",
          "text": [
            "Standard Deviation: 12.606171328185077\n"
          ]
        }
      ]
    },
    {
      "cell_type": "markdown",
      "source": [
        "### Q4. Create a 3x3 array with values from 1 to 9. Find the row-wise mean"
      ],
      "metadata": {
        "id": "gMxlExSdF8MF"
      }
    },
    {
      "cell_type": "code",
      "source": [
        "import numpy as np\n",
        "\n",
        "# create a 3*3 array with values from 1 to 9\n",
        "arr = np.arange(1,10).reshape(3,3)\n",
        "\n",
        "# calculate the rew-wise mean\n",
        "row_mean = np.mean(arr, axis=1)\n",
        "\n",
        "# display the mean\n",
        "print(\"Array\\n\",arr)\n",
        "print(\"Row-wise Mean:\",row_mean)"
      ],
      "metadata": {
        "colab": {
          "base_uri": "https://localhost:8080/"
        },
        "id": "UXoLgqB5DGJQ",
        "outputId": "84c46e6b-647a-4703-c675-78768b31e3d5"
      },
      "execution_count": 9,
      "outputs": [
        {
          "output_type": "stream",
          "name": "stdout",
          "text": [
            "Array\n",
            " [[1 2 3]\n",
            " [4 5 6]\n",
            " [7 8 9]]\n",
            "Row-wise Mean: [2. 5. 8.]\n"
          ]
        }
      ]
    },
    {
      "cell_type": "markdown",
      "source": [
        "### Q5. For the array [4, 6, 8, 10, 12], calculate mean, median, std."
      ],
      "metadata": {
        "id": "NRWkWzzaGiko"
      }
    },
    {
      "cell_type": "code",
      "source": [
        "import numpy as np\n",
        "\n",
        "# creating an array\n",
        "arr = np.array([4, 6, 8, 10, 12])\n",
        "\n",
        "# finding the mean\n",
        "mean = np.mean(arr)\n",
        "median = np.median(arr)\n",
        "std = np.std(arr)\n",
        "\n",
        "# displaying the result\n",
        "print(\"Mean:\",mean)\n",
        "print(\"Median:\",median)\n",
        "print(\"Standard Deviation:\",std)"
      ],
      "metadata": {
        "colab": {
          "base_uri": "https://localhost:8080/"
        },
        "id": "v2eOKhewDGMF",
        "outputId": "74160ad1-4f1d-498f-f33b-19e175572341"
      },
      "execution_count": 10,
      "outputs": [
        {
          "output_type": "stream",
          "name": "stdout",
          "text": [
            "Mean: 8.0\n",
            "Median: 8.0\n",
            "Standard Deviation: 2.8284271247461903\n"
          ]
        }
      ]
    },
    {
      "cell_type": "markdown",
      "source": [
        "### Q6. Generate a 5x5 NumPy array of random integers (0 to 100). Find the overall mean."
      ],
      "metadata": {
        "id": "uICKM0pXG7QK"
      }
    },
    {
      "cell_type": "code",
      "source": [
        "import numpy as np\n",
        "\n",
        "# creating an array\n",
        "arr = np.random.randint(0,101,(5,5))\n",
        "\n",
        "# calculate the overall mean\n",
        "overall_mean = np.mean(arr)\n",
        "\n",
        "# displaying the results\n",
        "print(\"Array:\\n\",arr)\n",
        "print(\"Overall_Mean:\",overall_mean)"
      ],
      "metadata": {
        "colab": {
          "base_uri": "https://localhost:8080/"
        },
        "id": "YdlhouvgDGO2",
        "outputId": "e23cb8ac-b37f-4633-ef73-ab3f1c7736cc"
      },
      "execution_count": 13,
      "outputs": [
        {
          "output_type": "stream",
          "name": "stdout",
          "text": [
            "Array:\n",
            " [[96 96 71  0 45]\n",
            " [23 22 23 37 61]\n",
            " [76 60 25 12 83]\n",
            " [51 13 38 90 75]\n",
            " [51 30 52 98 38]]\n",
            "Overall_Mean: 50.64\n"
          ]
        }
      ]
    },
    {
      "cell_type": "markdown",
      "source": [
        "### Q7. Create an array of 50 random integers and calculate the standard deviation."
      ],
      "metadata": {
        "id": "5Gj1FnCgHW72"
      }
    },
    {
      "cell_type": "code",
      "source": [
        "import numpy as np\n",
        "\n",
        "# creating an array\n",
        "arr = np.random.randint(0,101,50)\n",
        "\n",
        "# calculate the standard deviation\n",
        "std = np.std(arr)\n",
        "\n",
        "# displaying the result\n",
        "print(\"Array:\",arr)\n",
        "print(\"Standard Deviation:\",std)"
      ],
      "metadata": {
        "colab": {
          "base_uri": "https://localhost:8080/"
        },
        "id": "tFwt4T-HDGRt",
        "outputId": "0268374f-05ca-4c9e-ed75-73e982fcd659"
      },
      "execution_count": 14,
      "outputs": [
        {
          "output_type": "stream",
          "name": "stdout",
          "text": [
            "Array: [71  3 15  7  3 29 69 52 72 19  9 19 37 17 46 32 52 49 10 77 89 38 48 97\n",
            " 39 90 79 22 12 65 45 93 81 78  4 32 95 69 85 59 93 84 60 21 17  1 55 64\n",
            " 76 45]\n",
            "Standard Deviation: 29.5447051093762\n"
          ]
        }
      ]
    },
    {
      "cell_type": "markdown",
      "source": [
        "### Q8. Find indices of non-zero elements from [1,2,0,0,4,0]\n"
      ],
      "metadata": {
        "id": "zQSATCRJHtjp"
      }
    },
    {
      "cell_type": "code",
      "source": [
        "import numpy as np\n",
        "\n",
        "# Given array\n",
        "arr = np.array([1,2,0,0,4,0])\n",
        "\n",
        "# finding indices of non-zero elements\n",
        "indices = np.nonzero(arr)\n",
        "\n",
        "# displaying the results\n",
        "print(\"Indices of non_zero element:\",indices)"
      ],
      "metadata": {
        "colab": {
          "base_uri": "https://localhost:8080/"
        },
        "id": "HgHojK_fDGUh",
        "outputId": "68fbaa72-ab05-471c-a037-128898b3a093"
      },
      "execution_count": 15,
      "outputs": [
        {
          "output_type": "stream",
          "name": "stdout",
          "text": [
            "Indices of non_zero element: (array([0, 1, 4]),)\n"
          ]
        }
      ]
    },
    {
      "cell_type": "markdown",
      "source": [
        "### Q9. You have an 2D array, print array element [[7,4]]:"
      ],
      "metadata": {
        "id": "PFrucCf-JiMe"
      }
    },
    {
      "cell_type": "code",
      "source": [
        "import numpy as np\n",
        "\n",
        "arr = np.array([[2,3,4],\n",
        "                [5,7,4],\n",
        "                [8,9,0]])\n",
        "\n",
        "print(\"Element [7,4]:\", arr[1,1], arr[1,2])   # row 1 → [5,7,4]\n",
        "print(\"As array:\", arr[1,1:3])                # slice → [7,4]"
      ],
      "metadata": {
        "colab": {
          "base_uri": "https://localhost:8080/"
        },
        "id": "HTpzBXvSDGXP",
        "outputId": "b4bc54c5-1870-4787-8a62-1f7134882f92"
      },
      "execution_count": 17,
      "outputs": [
        {
          "output_type": "stream",
          "name": "stdout",
          "text": [
            "Element [7,4]: 7 4\n",
            "As array: [7 4]\n"
          ]
        }
      ]
    },
    {
      "cell_type": "markdown",
      "source": [
        "### Q10. Create 2 arrays of 2-Dimension and perform matrix multiplication"
      ],
      "metadata": {
        "id": "6mA_CkYEKQ9P"
      }
    },
    {
      "cell_type": "code",
      "source": [
        "A = np.array([[1,2],[3,4]])\n",
        "B = np.array([[5,6],[7,8]])\n",
        "\n",
        "# Matrix Multiplication\n",
        "C = np.dot(A,B)\n",
        "print(\"Result:\\n\",C)"
      ],
      "metadata": {
        "colab": {
          "base_uri": "https://localhost:8080/"
        },
        "id": "fQxGVyAeDGaG",
        "outputId": "32114a30-1021-4b01-8aea-cdabdedbfa98"
      },
      "execution_count": 18,
      "outputs": [
        {
          "output_type": "stream",
          "name": "stdout",
          "text": [
            "Result:\n",
            " [[19 22]\n",
            " [43 50]]\n"
          ]
        }
      ]
    }
  ]
}