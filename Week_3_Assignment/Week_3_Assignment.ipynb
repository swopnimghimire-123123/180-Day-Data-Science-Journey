{
 "cells": [
  {
   "cell_type": "markdown",
   "id": "196c6b81-a559-42a9-ad92-d9a7abb89174",
   "metadata": {},
   "source": [
    "# Week 3: File Handling, Error Handling, Modules, Comprehensions"
   ]
  },
  {
   "cell_type": "markdown",
   "id": "d9b61cad-925d-4eff-8354-724ad43b40ec",
   "metadata": {},
   "source": [
    "### Q1. Write a Python script to read a file and print its contents."
   ]
  },
  {
   "cell_type": "code",
   "execution_count": 18,
   "id": "b55c0b97-2f4c-4822-a863-740cb10cd5b4",
   "metadata": {},
   "outputs": [
    {
     "data": {
      "text/plain": [
       "'The quiet rhythm of early morning often sets the tone for the entire day. As the first rays of sunlight filter through the windows, the world outside slowly begins to stir with life. Birds call to one another, the air feels crisp, and there is a sense of calm clarity. People who rise early often find these hours to be the most productive and peaceful, free from distractions and noise. Whether used for reflection, study, or simply savoring a warm cup of tea, mornings carry a unique energy that inspires focus, creativity, and a gentle appreciation for simple beginnings.'"
      ]
     },
     "execution_count": 18,
     "metadata": {},
     "output_type": "execute_result"
    }
   ],
   "source": [
    "# we already have a file named practise.txt here we open the file and read it \n",
    "# This will get the job done but isn't standard and optimum\n",
    "file = open(\"practise.txt\",\"r\")\n",
    "file.read()"
   ]
  },
  {
   "cell_type": "code",
   "execution_count": 5,
   "id": "90085b00-d1bc-4124-aadd-d89c26d80edf",
   "metadata": {},
   "outputs": [
    {
     "name": "stdout",
     "output_type": "stream",
     "text": [
      "The quiet rhythm of early morning often sets the tone for the entire day. As the first rays of sunlight filter through the windows, the world outside slowly begins to stir with life. Birds call to one another, the air feels crisp, and there is a sense of calm clarity. People who rise early often find these hours to be the most productive and peaceful, free from distractions and noise. Whether used for reflection, study, or simply savoring a warm cup of tea, mornings carry a unique energy that inspires focus, creativity, and a gentle appreciation for simple beginnings.\n"
     ]
    }
   ],
   "source": [
    "# Improvised Method 1:\n",
    "with open(\"practise.txt\",\"r\") as file:\n",
    "    contents = file.read()\n",
    "    print(contents)\n",
    "file.close()"
   ]
  },
  {
   "cell_type": "code",
   "execution_count": 6,
   "id": "55f3991f-4088-41d7-b881-77302884edc1",
   "metadata": {},
   "outputs": [
    {
     "name": "stdout",
     "output_type": "stream",
     "text": [
      "The quiet rhythm of early morning often sets the tone for the entire day. As the first rays of sunlight filter through the windows, the world outside slowly begins to stir with life. Birds call to one another, the air feels crisp, and there is a sense of calm clarity. People who rise early often find these hours to be the most productive and peaceful, free from distractions and noise. Whether used for reflection, study, or simply savoring a warm cup of tea, mornings carry a unique energy that inspires focus, creativity, and a gentle appreciation for simple beginnings.\n"
     ]
    }
   ],
   "source": [
    "# Imporvised Method 2:\n",
    "file = open(\"practise.txt\",\"r\") \n",
    "contents = file.read()\n",
    "print(contents)\n",
    "file.close()"
   ]
  },
  {
   "cell_type": "markdown",
   "id": "589d7a48-4087-40ce-a217-759f2820943d",
   "metadata": {},
   "source": [
    "### Q2. Create a file and write your name into it."
   ]
  },
  {
   "cell_type": "code",
   "execution_count": 13,
   "id": "bf1dd8d8-d742-4ebb-b817-ae429a86880e",
   "metadata": {},
   "outputs": [],
   "source": [
    "file = open(\"swopnim.txt\",\"w\")\n",
    "contents = file.write(\"Hello everyone , welcome to this notebook\")\n",
    "file.close()"
   ]
  },
  {
   "cell_type": "code",
   "execution_count": 14,
   "id": "1b1547be-8ba6-4fe9-a195-8a3cf86cfe96",
   "metadata": {},
   "outputs": [
    {
     "name": "stdout",
     "output_type": "stream",
     "text": [
      "Hello everyone , welcome to this notebook\n"
     ]
    }
   ],
   "source": [
    "file = open(\"swopnim.txt\",\"r\")\n",
    "contents = file.read()\n",
    "print(contents)\n",
    "file.close()"
   ]
  },
  {
   "cell_type": "code",
   "execution_count": 16,
   "id": "a4c8da78-492a-4a56-8a94-bd792436fecb",
   "metadata": {},
   "outputs": [
    {
     "name": "stdout",
     "output_type": "stream",
     "text": [
      "Hello everyone, welcome to this notebook\n"
     ]
    }
   ],
   "source": [
    "# Cleaner way \n",
    "\n",
    "# Writing into a file\n",
    "with open(\"swopnim.txt\", \"w\") as file:\n",
    "    file.write(\"Hello everyone, welcome to this notebook\")\n",
    "\n",
    "# Reading the file\n",
    "with open(\"swopnim.txt\", \"r\") as file:\n",
    "    print(file.read())\n",
    "\n",
    "file.close()"
   ]
  },
  {
   "cell_type": "markdown",
   "id": "7d79a3eb-8d95-4bb6-b417-4fb77518c702",
   "metadata": {},
   "source": [
    "### Q3. Handle a ZeroDivisionError using try-except."
   ]
  },
  {
   "cell_type": "code",
   "execution_count": 26,
   "id": "9b2401b8-807a-43e6-b4e9-aa9979c2cea5",
   "metadata": {},
   "outputs": [
    {
     "name": "stdout",
     "output_type": "stream",
     "text": [
      "0.6666666666666666\n",
      "You have ran into ZeroDivisionError\n",
      "None\n"
     ]
    }
   ],
   "source": [
    "def div(a,b):\n",
    "    try:\n",
    "        return a / b\n",
    "    except ZeroDivisionError:\n",
    "        print(\"You have ran into ZeroDivisionError\")\n",
    "        \n",
    "print(div(2,3))\n",
    "print(div(3,0))"
   ]
  },
  {
   "cell_type": "markdown",
   "id": "a3c9eaa5-1c83-4598-8ccd-5bf42536aa7e",
   "metadata": {},
   "source": [
    "<b> Why `None` in the second case? \n",
    "\n",
    "\n",
    "Because inside the `except` block, you only printed a message and didn’t `return` anything. In Python, when a function doesn’t return a value, it automatically returns `None`."
   ]
  },
  {
   "cell_type": "code",
   "execution_count": 27,
   "id": "029efa46-d0a9-4c31-8ec8-349cb794843f",
   "metadata": {},
   "outputs": [
    {
     "name": "stdout",
     "output_type": "stream",
     "text": [
      "0.6666666666666666\n",
      "Division by zero is not allowed!\n"
     ]
    }
   ],
   "source": [
    "def div(a, b):\n",
    "    try:\n",
    "        return a / b\n",
    "    except ZeroDivisionError:\n",
    "        return \"Division by zero is not allowed!\"\n",
    "\n",
    "print(div(2, 3))  # 0.666...\n",
    "print(div(3, 0))  # \"Division by zero is not allowed!\"\n"
   ]
  },
  {
   "cell_type": "markdown",
   "id": "12146e06-04d3-4cd6-b8b1-7833a9fc2daf",
   "metadata": {},
   "source": [
    "### Q4. Write a program to handle file not found error."
   ]
  },
  {
   "cell_type": "code",
   "execution_count": 29,
   "id": "805221ce-cfb5-4a5e-842e-fb9de46a93f1",
   "metadata": {},
   "outputs": [
    {
     "data": {
      "text/plain": [
       "'file not found error'"
      ]
     },
     "execution_count": 29,
     "metadata": {},
     "output_type": "execute_result"
    }
   ],
   "source": [
    "# This gets the job done but improvised version is below \n",
    "def file_reader():\n",
    "    try:\n",
    "        file = open(\"xyz.txt\",\"r\")\n",
    "    except FileNotFoundError:\n",
    "        return \"file not found error\"\n",
    "\n",
    "file_reader()"
   ]
  },
  {
   "cell_type": "code",
   "execution_count": 32,
   "id": "188208ff-d5bb-4981-955e-d51f100e48b4",
   "metadata": {},
   "outputs": [
    {
     "name": "stdout",
     "output_type": "stream",
     "text": [
      "FileNotFoundError\n"
     ]
    }
   ],
   "source": [
    "def file_reader():\n",
    "    try:\n",
    "        with open(\"xyz.txt\",\"r\") as file:\n",
    "            contents = file.read()\n",
    "            return contents \n",
    "\n",
    "    except FileNotFoundError:\n",
    "        return \"FileNotFoundError\"\n",
    "\n",
    "print(file_reader())"
   ]
  },
  {
   "cell_type": "markdown",
   "id": "5ff0b614-bba9-4a4f-87a9-596ec012842d",
   "metadata": {},
   "source": [
    "### Q5. Create a module with a function and import it in another file."
   ]
  },
  {
   "cell_type": "code",
   "execution_count": 51,
   "id": "6f289acb-064d-49be-a564-9baaede25022",
   "metadata": {},
   "outputs": [
    {
     "name": "stdout",
     "output_type": "stream",
     "text": [
      "30\n"
     ]
    }
   ],
   "source": [
    "import addition\n",
    "import importlib\n",
    "importlib.reload(addition)\n",
    "\n",
    "print(addition.add_numbers(10, 20))"
   ]
  },
  {
   "cell_type": "markdown",
   "id": "31038a41-088f-41c8-ba14-eb687625f27d",
   "metadata": {},
   "source": [
    "### Q6. Use a list comprehension to filter even numbers from a list."
   ]
  },
  {
   "cell_type": "code",
   "execution_count": 60,
   "id": "e3c395c0-7747-4328-8b91-5d4b30ddff59",
   "metadata": {},
   "outputs": [
    {
     "name": "stdout",
     "output_type": "stream",
     "text": [
      "[2, 4, 6, 8, 10]\n"
     ]
    }
   ],
   "source": [
    "l = [1,2,3,4,5,6,7,8,9,10]\n",
    "new_l = [ i for i in l if i % 2 == 0  ]\n",
    "print(new_l)"
   ]
  },
  {
   "cell_type": "markdown",
   "id": "c6cc6dcd-857e-424a-bfe6-23d234a00cb6",
   "metadata": {},
   "source": [
    "### Q7. Write a generator that yields even numbers up to N."
   ]
  },
  {
   "cell_type": "code",
   "execution_count": 69,
   "id": "707aa282-edf2-49e3-a05f-18599df937db",
   "metadata": {},
   "outputs": [
    {
     "name": "stdout",
     "output_type": "stream",
     "text": [
      "2\n",
      "4\n",
      "6\n",
      "8\n",
      "10\n",
      "\n",
      "\n",
      "2\n",
      "4\n",
      "6\n",
      "8\n",
      "10\n",
      "12\n",
      "14\n",
      "16\n",
      "18\n",
      "20\n"
     ]
    }
   ],
   "source": [
    "def even_number(n):\n",
    "    for i in range(2,n+1,2):\n",
    "        yield i\n",
    "\n",
    "# Example usage\n",
    "for num in even_number(10):\n",
    "    print(num)\n",
    "    \n",
    "print(\"\\n\")\n",
    "\n",
    "for items in even_number(20):\n",
    "    print(items)"
   ]
  },
  {
   "cell_type": "code",
   "execution_count": 64,
   "id": "96363825-d0e2-4b1d-855e-9e50c466ff05",
   "metadata": {},
   "outputs": [
    {
     "name": "stdout",
     "output_type": "stream",
     "text": [
      "[2, 4, 6, 8, 10]\n"
     ]
    }
   ],
   "source": [
    "def even_number_list(n):\n",
    "    return [i for i in range(2,n+1,2)]\n",
    "\n",
    "print(even_number_list(10))"
   ]
  },
  {
   "cell_type": "markdown",
   "id": "ce9dadca-3651-46a8-b2f1-eec985698e20",
   "metadata": {},
   "source": [
    "### Q8. Create a program to count lines and words in a file."
   ]
  },
  {
   "cell_type": "code",
   "execution_count": 74,
   "id": "fe391776-ea9f-44d8-8c3d-cc6b1e3784f3",
   "metadata": {},
   "outputs": [
    {
     "name": "stdout",
     "output_type": "stream",
     "text": [
      "Number of lines: 13\n",
      "Number of words: 99\n"
     ]
    }
   ],
   "source": [
    "file_path = \"Practise.txt\"\n",
    "\n",
    "lines_count = 0 \n",
    "words_count = 0\n",
    "\n",
    "with open(file_path,\"r\") as f:\n",
    "    for line in f:\n",
    "        lines_count += 1\n",
    "        words_count += len(line.split()) # split line into words and count \n",
    "\n",
    "print(f\"Number of lines: {lines_count}\")\n",
    "print(f\"Number of words: {words_count}\")  "
   ]
  },
  {
   "cell_type": "markdown",
   "id": "d8591157-ea5d-400f-b49a-88bec40b06b5",
   "metadata": {},
   "source": [
    "### Q9. Write a program to read a CSV file and print its contents."
   ]
  },
  {
   "cell_type": "code",
   "execution_count": 77,
   "id": "a54a9458-8e41-4334-986e-35c9fe6895cb",
   "metadata": {},
   "outputs": [
    {
     "name": "stdout",
     "output_type": "stream",
     "text": [
      "CSV file written successfully!\n"
     ]
    }
   ],
   "source": [
    "# Method 1:\n",
    "\n",
    "# writing a csv file \n",
    "import csv\n",
    "\n",
    "# Data to write\n",
    "data = [\n",
    "    [\"Name\", \"Age\", \"City\"],\n",
    "    [\"Alice\", 25, \"New York\"],\n",
    "    [\"Bob\", 30, \"London\"],\n",
    "    [\"Charlie\", 22, \"Paris\"]\n",
    "]\n",
    "\n",
    "# Writing to CSV\n",
    "with open(\"output.csv\", \"w\", newline=\"\") as file:\n",
    "    writer = csv.writer(file)\n",
    "    writer.writerows(data)  # writes all rows at once\n",
    "\n",
    "print(\"CSV file written successfully!\")\n"
   ]
  },
  {
   "cell_type": "code",
   "execution_count": 78,
   "id": "51ea649a-f43a-4933-a95a-efd7765c106a",
   "metadata": {},
   "outputs": [
    {
     "name": "stdout",
     "output_type": "stream",
     "text": [
      "['Name', 'Age', 'City']\n",
      "['Alice', '25', 'New York']\n",
      "['Bob', '30', 'London']\n",
      "['Charlie', '22', 'Paris']\n"
     ]
    }
   ],
   "source": [
    "import csv \n",
    "\n",
    "with open(\"output.csv\",\"r\") as file:\n",
    "    reader = csv.reader(file)\n",
    "    for row in reader:\n",
    "        print(row)"
   ]
  },
  {
   "cell_type": "code",
   "execution_count": 79,
   "id": "7404f271-90f9-4acb-8f48-65542f0cd75e",
   "metadata": {},
   "outputs": [
    {
     "name": "stdout",
     "output_type": "stream",
     "text": [
      "CSV file written successfully!\n"
     ]
    }
   ],
   "source": [
    "# Method 2:\n",
    "\n",
    "import pandas as pd\n",
    "\n",
    "# Create a DataFrame\n",
    "df = pd.DataFrame({\n",
    "    \"Name\": [\"Alice\", \"Bob\", \"Charlie\"],\n",
    "    \"Age\": [25, 30, 22],\n",
    "    \"City\": [\"New York\", \"London\", \"Paris\"]\n",
    "})\n",
    "\n",
    "# Write to CSV\n",
    "df.to_csv(\"output.csv\", index=False)  # index=False avoids writing row numbers\n",
    "\n",
    "print(\"CSV file written successfully!\")\n"
   ]
  },
  {
   "cell_type": "code",
   "execution_count": 80,
   "id": "bfac9845-2d74-4022-8c19-84c6f8ddf87c",
   "metadata": {},
   "outputs": [
    {
     "name": "stdout",
     "output_type": "stream",
     "text": [
      "      Name  Age      City\n",
      "0    Alice   25  New York\n",
      "1      Bob   30    London\n",
      "2  Charlie   22     Paris\n"
     ]
    }
   ],
   "source": [
    "import pandas as pd\n",
    "\n",
    "df = pd.read_csv(\"output.csv\")\n",
    "print(df)\n"
   ]
  },
  {
   "cell_type": "markdown",
   "id": "59fdc9f5-6223-4393-a313-8941c6191a17",
   "metadata": {},
   "source": [
    "### Q10. Handle multiple exceptions in a single try block."
   ]
  },
  {
   "cell_type": "code",
   "execution_count": null,
   "id": "086e4b98-43c1-4650-8689-9bf9b5e00561",
   "metadata": {},
   "outputs": [],
   "source": [
    "def test(a,b):\n",
    "    try:\n",
    "        return a+b\n",
    "    except :\n",
    "        return a/b\n",
    "    except "
   ]
  }
 ],
 "metadata": {
  "kernelspec": {
   "display_name": "Python 3 (ipykernel)",
   "language": "python",
   "name": "python3"
  },
  "language_info": {
   "codemirror_mode": {
    "name": "ipython",
    "version": 3
   },
   "file_extension": ".py",
   "mimetype": "text/x-python",
   "name": "python",
   "nbconvert_exporter": "python",
   "pygments_lexer": "ipython3",
   "version": "3.13.5"
  }
 },
 "nbformat": 4,
 "nbformat_minor": 5
}
