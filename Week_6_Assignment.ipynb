{
  "nbformat": 4,
  "nbformat_minor": 0,
  "metadata": {
    "colab": {
      "provenance": [],
      "authorship_tag": "ABX9TyOil+SeXVAzHWhku8JQMt38",
      "include_colab_link": true
    },
    "kernelspec": {
      "name": "python3",
      "display_name": "Python 3"
    },
    "language_info": {
      "name": "python"
    }
  },
  "cells": [
    {
      "cell_type": "markdown",
      "metadata": {
        "id": "view-in-github",
        "colab_type": "text"
      },
      "source": [
        "<a href=\"https://colab.research.google.com/github/swopnimghimire-123123/180-Day-Data-Science-Journey/blob/main/Week_6_Assignment.ipynb\" target=\"_parent\"><img src=\"https://colab.research.google.com/assets/colab-badge.svg\" alt=\"Open In Colab\"/></a>"
      ]
    },
    {
      "cell_type": "markdown",
      "source": [
        "#  Week 6: Probability & Combinatorics\n",
        "\n",
        "##  Topics Covered\n",
        "- Basic Probability Rules (Addition, Multiplication)  \n",
        "- Conditional Probability & Bayes Theorem  \n",
        "- Permutations & Combinations  \n",
        "- Expected Value & Real-World Examples  \n",
        "\n",
        "---\n",
        "\n",
        "##  1. Basic Probability\n",
        "Probability measures how likely an event is to happen.\n",
        "\n",
        "\\[\n",
        "P(E) = \\frac{\\text{Number of favorable outcomes}}{\\text{Total number of possible outcomes}}\n",
        "\\]\n",
        "\n",
        "**Example:**  \n",
        "If a die is rolled, the chance of getting a 3 is:  \n",
        "\n",
        "\\[\n",
        "P(3) = \\frac{1}{6}\n",
        "\\]\n",
        "\n",
        "---\n",
        "\n",
        "## ➕ 2. Addition Rule\n",
        "Used when you want **A or B** to occur.\n",
        "\n",
        "- If **A and B are mutually exclusive** (cannot occur together):  \n",
        "\n",
        "\\[\n",
        "P(A \\text{ or } B) = P(A) + P(B)\n",
        "\\]\n",
        "\n",
        "- If **A and B can occur together**:  \n",
        "\n",
        "\\[\n",
        "P(A \\text{ or } B) = P(A) + P(B) - P(A \\text{ and } B)\n",
        "\\]\n",
        "\n",
        "---\n",
        "\n",
        "##  3. Multiplication Rule\n",
        "Used when you want **A and B** to occur.\n",
        "\n",
        "- **Independent Events (with replacement):**  \n",
        "\n",
        "\\[\n",
        "P(A \\text{ and } B) = P(A) \\cdot P(B)\n",
        "\\]\n",
        "\n",
        "- **Dependent Events (without replacement):**  \n",
        "\n",
        "\\[\n",
        "P(A \\text{ and } B) = P(A) \\cdot P(B|A)\n",
        "\\]\n",
        "\n",
        "---\n",
        "\n",
        "##  4. Conditional Probability\n",
        "The probability of event B given that event A has already occurred:\n",
        "\n",
        "\\[\n",
        "P(B \\mid A) = \\frac{P(A \\text{ and } B)}{P(A)}\n",
        "\\]\n",
        "\n",
        "---\n",
        "\n",
        "##  5. Combinatorics\n",
        "Used to count the number of ways events can occur.\n",
        "\n",
        "- **Permutations (Order matters):**  \n",
        "\n",
        "\\[\n",
        "{}_{n}P_{r} = \\frac{n!}{(n - r)!}\n",
        "\\]\n",
        "\n",
        "- **Combinations (Order doesn’t matter):**  \n",
        "\n",
        "\\[\n",
        "{}_{n}C_{r} = \\frac{n!}{r!(n - r)!}\n",
        "\\]\n",
        "\n",
        "---\n",
        "\n",
        "##  6. Expected Value (E)\n",
        "Expected value represents the average or “expected” outcome over many trials:\n",
        "\n",
        "\\[\n",
        "E[X] = \\sum_{i} x_i \\cdot P(x_i)\n",
        "\\]\n",
        "\n",
        "**Example:**  \n",
        "If you win ₹10 with probability 0.2 and lose ₹5 with probability 0.8:  \n",
        "\n",
        "\\[\n",
        "E[X] = (10 \\cdot 0.2) + (-5 \\cdot 0.8) = -2\n",
        "\\]\n",
        "\n",
        "This means you **lose ₹2 on average per game**.\n"
      ],
      "metadata": {
        "id": "QVHAmdaymxhj"
      }
    },
    {
      "cell_type": "code",
      "source": [],
      "metadata": {
        "id": "UHmt7aIXnjO4"
      },
      "execution_count": null,
      "outputs": []
    },
    {
      "cell_type": "markdown",
      "source": [
        "### Q1. A dice is thrown once. Find the probability of getting a 2 or 5"
      ],
      "metadata": {
        "id": "Py185fjwnf1l"
      }
    },
    {
      "cell_type": "code",
      "source": [
        "favourable = 2 # one is 2 and other is 5\n",
        "total = 6 # total numbers in a dice\n",
        "probability = favourable/total\n",
        "print(\"Probability of getting 2 or 5 is:\",probability)"
      ],
      "metadata": {
        "colab": {
          "base_uri": "https://localhost:8080/"
        },
        "id": "7YhGNdtBmxNP",
        "outputId": "36828f53-0dc5-4ea3-d144-8048b0a37d1c"
      },
      "execution_count": 1,
      "outputs": [
        {
          "output_type": "stream",
          "name": "stdout",
          "text": [
            "Probability of getting 2 or 5 is: 0.3333333333333333\n"
          ]
        }
      ]
    },
    {
      "cell_type": "code",
      "source": [
        "from fractions import Fraction\n",
        "fav = 2\n",
        "total = 6\n",
        "prob = Fraction(fav,total)\n",
        "print(\"Probability of getting 2 or 5 is:\",prob)"
      ],
      "metadata": {
        "colab": {
          "base_uri": "https://localhost:8080/"
        },
        "id": "1GhA5UtHoiFM",
        "outputId": "aff954d4-b3e6-477d-d907-35fcc2526ca7"
      },
      "execution_count": 4,
      "outputs": [
        {
          "output_type": "stream",
          "name": "stdout",
          "text": [
            "Probability of getting 2 or 5 is: 1/3\n"
          ]
        }
      ]
    },
    {
      "cell_type": "markdown",
      "source": [
        "### Q2. A card is drawn from a deck of 52 cards. Find the probability of getting a red card or a king."
      ],
      "metadata": {
        "id": "4VW6oMNJoFv6"
      }
    },
    {
      "cell_type": "code",
      "execution_count": 2,
      "metadata": {
        "colab": {
          "base_uri": "https://localhost:8080/"
        },
        "id": "oO0qtaCllZIU",
        "outputId": "4fbba358-022b-4df5-b14f-98072409c1f5"
      },
      "outputs": [
        {
          "output_type": "stream",
          "name": "stdout",
          "text": [
            "Probability of getting a red card or a king is: 0.5384615384615384\n"
          ]
        }
      ],
      "source": [
        "total_cards = 52\n",
        "red_cards = 26\n",
        "kings = 4\n",
        "red_kings = 2\n",
        "\n",
        "probability = (red_cards + red_kings) / total_cards\n",
        "print(\"Probability of getting a red card or a king is:\",probability)"
      ]
    },
    {
      "cell_type": "code",
      "source": [
        "from fractions import Fraction\n",
        "\n",
        "total_cards = 52\n",
        "red_cards = 26\n",
        "kings = 4\n",
        "red_kings = 2  # overlap\n",
        "\n",
        "probability = Fraction(red_cards + kings - red_kings, total_cards)\n",
        "print(\"Probability of getting a red card or a king is:\", probability)"
      ],
      "metadata": {
        "colab": {
          "base_uri": "https://localhost:8080/"
        },
        "id": "ScvIItqclhU5",
        "outputId": "84637ba3-fd25-4534-b916-ce5cb810e01d"
      },
      "execution_count": 3,
      "outputs": [
        {
          "output_type": "stream",
          "name": "stdout",
          "text": [
            "Probability of getting a red card or a king is: 7/13\n"
          ]
        }
      ]
    },
    {
      "cell_type": "markdown",
      "source": [
        "### Q3. A number is chosen from 1 to 10. Find the probability that the number is even or divisible by 3."
      ],
      "metadata": {
        "id": "YEtkijj_os-k"
      }
    },
    {
      "cell_type": "code",
      "source": [
        "from fractions import Fraction\n",
        "even_numbers = 5 # 2, 4, 6, 8, 10\n",
        "divisible_by_3 = 3 # 3, 6, 9\n",
        "total = 10\n",
        "common = 1 # 6\n",
        "\n",
        "probability_fraction = Fraction(even_numbers + divisible_by_3 - common, total)\n",
        "print(\"Probability in fraction:\", probability_fraction)\n",
        "print(\"In decimal:\", float(probability_fraction))"
      ],
      "metadata": {
        "colab": {
          "base_uri": "https://localhost:8080/"
        },
        "id": "kqrk9nQclhXg",
        "outputId": "1170489d-e093-4cbe-def1-6899d991b2ed"
      },
      "execution_count": 6,
      "outputs": [
        {
          "output_type": "stream",
          "name": "stdout",
          "text": [
            "Probability in fraction: 7/10\n",
            "In decimal: 0.7\n"
          ]
        }
      ]
    },
    {
      "cell_type": "markdown",
      "source": [
        "### Q4. In a bag, there are 3 red and 2 blue balls. A ball is drawn randomly. Find the probability of getting a red ball or a blue ball.\n"
      ],
      "metadata": {
        "id": "Q1uC8dOcpfbN"
      }
    },
    {
      "cell_type": "code",
      "source": [
        "from fractions import Fraction\n",
        "red = 3\n",
        "blue = 2\n",
        "total = red + blue\n",
        "\n",
        "probability_fraction = Fraction(red + blue, total)\n",
        "print(\"Probability in fraction:\", probability_fraction)\n",
        "print(\"Probability in decimal:\", float(probability_fraction))"
      ],
      "metadata": {
        "colab": {
          "base_uri": "https://localhost:8080/"
        },
        "id": "S-oFmMVBlhaJ",
        "outputId": "6ea7500e-da29-4d62-d2e4-271f8bc0aa1e"
      },
      "execution_count": 7,
      "outputs": [
        {
          "output_type": "stream",
          "name": "stdout",
          "text": [
            "Probability in fraction: 1\n",
            "Probability in decimal: 1.0\n"
          ]
        }
      ]
    },
    {
      "cell_type": "markdown",
      "source": [
        "### Q5. A spinner has 6 equal parts numbered 1 to 6. Find the probability of spinning a 1 or 6."
      ],
      "metadata": {
        "id": "2JbjGsIOp1gT"
      }
    },
    {
      "cell_type": "code",
      "source": [
        "from fractions import Fraction\n",
        "total_outcome = 6\n",
        "fav = 2\n",
        "\n",
        "probability_fraction = Fraction(fav, total_outcome)\n",
        "print(\"Probability in fraction:\", probability_fraction)\n",
        "print(\"Probability in decimal:\", float(probability_fraction))"
      ],
      "metadata": {
        "colab": {
          "base_uri": "https://localhost:8080/"
        },
        "id": "L3vqdxkmlhdB",
        "outputId": "348dbf44-2a5f-4937-bf9a-582bc985d5c4"
      },
      "execution_count": 8,
      "outputs": [
        {
          "output_type": "stream",
          "name": "stdout",
          "text": [
            "Probability in fraction: 1/3\n",
            "Probability in decimal: 0.3333333333333333\n"
          ]
        }
      ]
    },
    {
      "cell_type": "markdown",
      "source": [
        "### Q6. A card is drawn twice with replacement. Find the probability that both cards are spades."
      ],
      "metadata": {
        "id": "zVvMQIBtqPDM"
      }
    },
    {
      "cell_type": "code",
      "source": [
        "from fractions import Fraction\n",
        "\n",
        "# Total cards in a deck\n",
        "total_cards = 52\n",
        "\n",
        "# Number of spades in a deck\n",
        "num_spades = 13\n",
        "\n",
        "# Probability of drawing a spade in a single draw\n",
        "probability_spade = Fraction(num_spades, total_cards)\n",
        "\n",
        "# Since the card is replaced, the events are independent\n",
        "# Probability of drawing two spades with replacement is the product of individual probabilities\n",
        "probability_two_spades = probability_spade * probability_spade\n",
        "\n",
        "print(\"Probability of drawing two spades with replacement (fraction):\", probability_two_spades)\n",
        "print(\"Probability of drawing two spades with replacement (decimal):\", float(probability_two_spades))"
      ],
      "metadata": {
        "colab": {
          "base_uri": "https://localhost:8080/"
        },
        "id": "oWeclY9Glhf-",
        "outputId": "f8e33373-ffd2-41c8-ad04-853253e28caa"
      },
      "execution_count": 9,
      "outputs": [
        {
          "output_type": "stream",
          "name": "stdout",
          "text": [
            "Probability of drawing two spades with replacement (fraction): 1/16\n",
            "Probability of drawing two spades with replacement (decimal): 0.0625\n"
          ]
        }
      ]
    },
    {
      "cell_type": "markdown",
      "source": [
        "### Q7. A card is drawn from a deck and not replaced, then another card is drawn. Find the probability that both are aces"
      ],
      "metadata": {
        "id": "PRBD-JViq9D1"
      }
    },
    {
      "cell_type": "code",
      "source": [
        "from fractions import Fraction\n",
        "\n",
        "# Total cards in a deck\n",
        "total_cards = 52\n",
        "\n",
        "# Number of aces in a deck\n",
        "num_aces = 4\n",
        "\n",
        "# Probability of drawing the first ace\n",
        "probability_first_ace = Fraction(num_aces, total_cards)\n",
        "\n",
        "# After drawing one ace without replacement, the number of cards and aces decrease by 1\n",
        "remaining_cards = total_cards - 1\n",
        "remaining_aces = num_aces - 1\n",
        "\n",
        "# Probability of drawing the second ace given the first was drawn\n",
        "probability_second_ace_given_first = Fraction(remaining_aces, remaining_cards)\n",
        "\n",
        "# Probability of drawing two aces without replacement is the product of the two probabilities\n",
        "probability_two_aces = probability_first_ace * probability_second_ace_given_first\n",
        "\n",
        "print(\"Probability of drawing two aces without replacement (fraction):\", probability_two_aces)\n",
        "print(\"Probability of drawing two aces without replacement (decimal):\", float(probability_two_aces))"
      ],
      "metadata": {
        "colab": {
          "base_uri": "https://localhost:8080/"
        },
        "id": "Y-AzZeFylhjY",
        "outputId": "1e176030-3d15-464d-ed1e-a8f4aeec9566"
      },
      "execution_count": 10,
      "outputs": [
        {
          "output_type": "stream",
          "name": "stdout",
          "text": [
            "Probability of drawing two aces without replacement (fraction): 1/221\n",
            "Probability of drawing two aces without replacement (decimal): 0.004524886877828055\n"
          ]
        }
      ]
    },
    {
      "cell_type": "markdown",
      "source": [
        "### Q8. A coin is tossed twice. Find the probability of getting head on both tosses"
      ],
      "metadata": {
        "id": "Avsnr6glrTD0"
      }
    },
    {
      "cell_type": "code",
      "source": [
        "fav = 1\n",
        "total = 4\n",
        "\n",
        "probability = Fraction(fav,total)\n",
        "print(\"Probability of getting head on both tosses is:\",probability)\n",
        "print(\"Probability of getting head on both tosss is:\",float(probability))"
      ],
      "metadata": {
        "colab": {
          "base_uri": "https://localhost:8080/"
        },
        "id": "5wch56XLrTQr",
        "outputId": "47a07a62-633c-49b8-fe45-d8240f2c3736"
      },
      "execution_count": 11,
      "outputs": [
        {
          "output_type": "stream",
          "name": "stdout",
          "text": [
            "Probability of getting head on both tosses is: 1/4\n",
            "Probability of getting head on both tosss is: 0.25\n"
          ]
        }
      ]
    },
    {
      "cell_type": "markdown",
      "source": [
        "### Q9. A dice is rolled twice. Find the probability that first die shows 3 and second die shows an even number."
      ],
      "metadata": {
        "id": "MSIUCoPfrTdU"
      }
    },
    {
      "cell_type": "code",
      "source": [
        "from fractions import Fraction\n",
        "fav = 1 * 3 # First die = 3, second die = even numbers (2,4,6)\n",
        "total = 6 * 6 # 6 faces on first dies and 6 on second one\n",
        "probability_fraction = Fraction(fav, total)\n",
        "print(\"Probability in fraction:\", probability_fraction)\n",
        "print(\"Probability in decimal:\", float(probability_fraction))"
      ],
      "metadata": {
        "colab": {
          "base_uri": "https://localhost:8080/"
        },
        "id": "EtHpgA9brTo6",
        "outputId": "28db9f92-f41a-4886-e036-e1ae79131a81"
      },
      "execution_count": 12,
      "outputs": [
        {
          "output_type": "stream",
          "name": "stdout",
          "text": [
            "Probability in fraction: 1/12\n",
            "Probability in decimal: 0.08333333333333333\n"
          ]
        }
      ]
    },
    {
      "cell_type": "markdown",
      "source": [
        "### Q10. A bag contains 4 white and 2 black balls. Two balls are drawn without replacement. Find the probability that both are black."
      ],
      "metadata": {
        "id": "ouLXY-6brT0F"
      }
    },
    {
      "cell_type": "code",
      "source": [
        "from fractions import Fraction\n",
        "fav = 2\n",
        "total = 6\n",
        "probability_first_black = Fraction(fav, total)\n",
        "print(\"Probability of first ball being black:\", probability_first_black)\n",
        "probability_second_black = Fraction(fav-1, total-1)\n",
        "print(\"probability of second ball being black:\",probability_second_black)\n",
        "probability = probability_first_black * probability_second_black\n",
        "print(\"Probability of both balls being black:\",probability)\n",
        "print(\"probability of bothe balls being black in dec:\",float(probability))"
      ],
      "metadata": {
        "colab": {
          "base_uri": "https://localhost:8080/"
        },
        "id": "xOksdkvYrT_M",
        "outputId": "01fb3646-2dce-479f-b872-ede15d9c96ee"
      },
      "execution_count": 15,
      "outputs": [
        {
          "output_type": "stream",
          "name": "stdout",
          "text": [
            "Probability of first ball being black: 1/3\n",
            "probability of second ball being black: 1/5\n",
            "Probability of both balls being black: 1/15\n",
            "probability of bothe balls being black in dec: 0.06666666666666667\n"
          ]
        }
      ]
    },
    {
      "cell_type": "markdown",
      "source": [
        "### Q11. A coin is tossed once. Find the probability of getting a tail."
      ],
      "metadata": {
        "id": "SH013OTBrUdC"
      }
    },
    {
      "cell_type": "code",
      "source": [
        "from fractions import Fraction\n",
        "fav = 1\n",
        "total = 2\n",
        "probability = Fraction(fav,total)\n",
        "print(\"Probability of getting a tail is(fraction):\",probability)\n",
        "print(\"Probability of getting a tail is(float):\",float(probability))"
      ],
      "metadata": {
        "colab": {
          "base_uri": "https://localhost:8080/"
        },
        "id": "4ooanqxxrVEF",
        "outputId": "ca55200a-b299-4a3b-bb0a-d1767a83c2dd"
      },
      "execution_count": 17,
      "outputs": [
        {
          "output_type": "stream",
          "name": "stdout",
          "text": [
            "Probability of getting a tail is(fraction): 1/2\n",
            "Probability of getting a tail is(float): 0.5\n"
          ]
        }
      ]
    },
    {
      "cell_type": "markdown",
      "source": [
        "### Q12. A dice is thrown once. Find the probability of getting a number greater than 4."
      ],
      "metadata": {
        "id": "9MxZPydarVbm"
      }
    },
    {
      "cell_type": "code",
      "source": [
        "from fractions import Fraction\n",
        "fav = 2\n",
        "total = 6\n",
        "probability = Fraction(fav, total)\n",
        "print(\"Probability of getting a number greater than 4 is:\", probability)\n",
        "print(\"Probability as decimal:\", float(probability))"
      ],
      "metadata": {
        "colab": {
          "base_uri": "https://localhost:8080/"
        },
        "id": "C5OmizxerVqf",
        "outputId": "0e2d9472-469b-46d4-afb7-bc99baa56504"
      },
      "execution_count": 19,
      "outputs": [
        {
          "output_type": "stream",
          "name": "stdout",
          "text": [
            "Probability of getting a number greater than 4 is: 1/3\n",
            "Probability as decimal: 0.3333333333333333\n"
          ]
        }
      ]
    },
    {
      "cell_type": "markdown",
      "source": [
        "### Q13. A card is drawn from a deck. Find the probability that it is a queen or a red card."
      ],
      "metadata": {
        "id": "EK9Bo00Lu9XZ"
      }
    },
    {
      "cell_type": "code",
      "source": [
        "from fractions import Fraction\n",
        "p_queen = Fraction(4,52)\n",
        "p_red = Fraction(26,52)\n",
        "p_red_queen = Fraction(2,52)\n",
        "probability = p_queen + p_red - p_red_queen\n",
        "\n",
        "print(\"Probability that the card is a queen or a red card is:\", probability)\n",
        "print(\"Probability as decimal:\", float(probability))"
      ],
      "metadata": {
        "colab": {
          "base_uri": "https://localhost:8080/"
        },
        "id": "yTCO4VVau95t",
        "outputId": "bf42c123-011b-43f1-ffd2-23a919e569c9"
      },
      "execution_count": 20,
      "outputs": [
        {
          "output_type": "stream",
          "name": "stdout",
          "text": [
            "Probability that the card is a queen or a red card is: 7/13\n",
            "Probability as decimal: 0.5384615384615384\n"
          ]
        }
      ]
    },
    {
      "cell_type": "markdown",
      "source": [
        "### Q14. A box contains 2 red, 3 blue, and 5 green balls. One ball is drawn. Find the probability that it is green."
      ],
      "metadata": {
        "id": "VikHQj8Cvolx"
      }
    },
    {
      "cell_type": "code",
      "source": [
        "from fractions import Fraction\n",
        "\n",
        "# Number of favorable outcomes\n",
        "fav = 5  # green balls\n",
        "# Total balls\n",
        "total = 2 + 3 + 5  # 10\n",
        "\n",
        "# Probability as fraction\n",
        "probability = Fraction(fav, total)\n",
        "\n",
        "print(\"Probability of drawing a green ball is:\", probability)\n",
        "print(\"Probability as decimal:\", float(probability))"
      ],
      "metadata": {
        "colab": {
          "base_uri": "https://localhost:8080/"
        },
        "id": "LcWZogucvoyV",
        "outputId": "aa7c5515-edea-4730-bde6-ae4d91bc6c14"
      },
      "execution_count": 21,
      "outputs": [
        {
          "output_type": "stream",
          "name": "stdout",
          "text": [
            "Probability of drawing a green ball is: 1/2\n",
            "Probability as decimal: 0.5\n"
          ]
        }
      ]
    },
    {
      "cell_type": "markdown",
      "source": [
        "### Q15. A dice is rolled twice. Find the probability that both numbers are odd."
      ],
      "metadata": {
        "id": "ksiOiy2Yvo9o"
      }
    },
    {
      "cell_type": "code",
      "source": [
        "from fractions import Fraction\n",
        "\n",
        "# Probability of odd on first die\n",
        "p_first_odd = Fraction(3, 6)\n",
        "# Probability of odd on second die\n",
        "p_second_odd = Fraction(3, 6)\n",
        "\n",
        "# Probability both odd\n",
        "probability = p_first_odd * p_second_odd\n",
        "\n",
        "print(\"Probability that both numbers are odd is:\", probability)\n",
        "print(\"Probability as decimal:\", float(probability))\n"
      ],
      "metadata": {
        "colab": {
          "base_uri": "https://localhost:8080/"
        },
        "id": "LX3NNEK0vpK6",
        "outputId": "c4627d82-6367-48b7-86e9-193a9ed14a65"
      },
      "execution_count": 22,
      "outputs": [
        {
          "output_type": "stream",
          "name": "stdout",
          "text": [
            "Probability that both numbers are odd is: 1/4\n",
            "Probability as decimal: 0.25\n"
          ]
        }
      ]
    },
    {
      "cell_type": "markdown",
      "source": [
        "### Q16. A coin is tossed 3 times. Find the probability of getting exactly 2 heads."
      ],
      "metadata": {
        "id": "LthaLY6dvpY0"
      }
    },
    {
      "cell_type": "code",
      "source": [
        "from fractions import Fraction\n",
        "from math import comb  # Python 3.8+ for combinations\n",
        "\n",
        "# Total tosses\n",
        "n = 3\n",
        "# Number of heads\n",
        "r = 2\n",
        "\n",
        "# Number of favorable outcomes using combinations\n",
        "favorable = comb(n, r)  # 3C2 = 3\n",
        "\n",
        "# Total outcomes\n",
        "total = 2**n  # 2^3 = 8\n",
        "\n",
        "# Probability as fraction\n",
        "probability = Fraction(favorable, total)\n",
        "\n",
        "print(\"Probability of getting exactly 2 heads is:\", probability)\n",
        "print(\"Probability as decimal:\", float(probability))"
      ],
      "metadata": {
        "colab": {
          "base_uri": "https://localhost:8080/"
        },
        "id": "0YAkThZQvplU",
        "outputId": "1c9e3425-686a-44ff-e767-7e9becd2a6db"
      },
      "execution_count": 23,
      "outputs": [
        {
          "output_type": "stream",
          "name": "stdout",
          "text": [
            "Probability of getting exactly 2 heads is: 3/8\n",
            "Probability as decimal: 0.375\n"
          ]
        }
      ]
    },
    {
      "cell_type": "markdown",
      "source": [
        "### Q17. A bag has 4 yellow and 1 black ball. A ball is drawn and not replaced, then another ball is drawn. Find the probability that both balls are yellow."
      ],
      "metadata": {
        "id": "KfV6cGCivpwn"
      }
    },
    {
      "cell_type": "code",
      "source": [
        "from fractions import Fraction\n",
        "\n",
        "# Probability of first yellow\n",
        "p_first_yellow = Fraction(4, 5)\n",
        "# Probability of second yellow given first was yellow\n",
        "p_second_yellow = Fraction(3, 4)\n",
        "\n",
        "# Probability both yellow\n",
        "probability = p_first_yellow * p_second_yellow\n",
        "\n",
        "print(\"Probability that both balls are yellow is:\", probability)\n",
        "print(\"Probability as decimal:\", float(probability))\n"
      ],
      "metadata": {
        "colab": {
          "base_uri": "https://localhost:8080/"
        },
        "id": "0yGXTB2lvqKB",
        "outputId": "9447257e-a8b1-454b-8771-1681f8e939f2"
      },
      "execution_count": 24,
      "outputs": [
        {
          "output_type": "stream",
          "name": "stdout",
          "text": [
            "Probability that both balls are yellow is: 3/5\n",
            "Probability as decimal: 0.6\n"
          ]
        }
      ]
    },
    {
      "cell_type": "markdown",
      "source": [
        "### Q18. Two cards are drawn together from a deck. Find the probability that both are kings."
      ],
      "metadata": {
        "id": "1nLt3m9myH09"
      }
    },
    {
      "cell_type": "code",
      "source": [
        "from fractions import Fraction\n",
        "\n",
        "# Probability of first king\n",
        "p_first_king = Fraction(4, 52)\n",
        "# Probability of second king given first was king\n",
        "p_second_king = Fraction(3, 51)\n",
        "\n",
        "# Probability both kings\n",
        "probability = p_first_king * p_second_king\n",
        "\n",
        "print(\"Probability that both cards are kings is:\", probability)\n",
        "print(\"Probability as decimal:\", float(probability))"
      ],
      "metadata": {
        "colab": {
          "base_uri": "https://localhost:8080/"
        },
        "id": "Ow3RlHkQyIeN",
        "outputId": "950923ce-4e95-4ce5-ba0c-afc7e193ff96"
      },
      "execution_count": 25,
      "outputs": [
        {
          "output_type": "stream",
          "name": "stdout",
          "text": [
            "Probability that both cards are kings is: 1/221\n",
            "Probability as decimal: 0.004524886877828055\n"
          ]
        }
      ]
    },
    {
      "cell_type": "markdown",
      "source": [
        "### Q19. A spinner with 4 equal sections numbered 1 to 4 is spun twice. Find the probability that both spins show the same number."
      ],
      "metadata": {
        "id": "Bsjde4HyyIsN"
      }
    },
    {
      "cell_type": "code",
      "source": [
        "from fractions import Fraction\n",
        "\n",
        "# Number of favorable outcomes\n",
        "fav = 4  # (1,1), (2,2), (3,3), (4,4)\n",
        "# Total outcomes\n",
        "total = 4 * 4  # 16\n",
        "\n",
        "# Probability as fraction\n",
        "probability = Fraction(fav, total)\n",
        "\n",
        "print(\"Probability that both spins show the same number is:\", probability)\n",
        "print(\"Probability as decimal:\", float(probability))\n"
      ],
      "metadata": {
        "colab": {
          "base_uri": "https://localhost:8080/"
        },
        "id": "7yfcRSX4yI7j",
        "outputId": "4bb351f1-a2a4-4ecd-ddb0-88fc6bd3c216"
      },
      "execution_count": 26,
      "outputs": [
        {
          "output_type": "stream",
          "name": "stdout",
          "text": [
            "Probability that both spins show the same number is: 1/4\n",
            "Probability as decimal: 0.25\n"
          ]
        }
      ]
    },
    {
      "cell_type": "markdown",
      "source": [
        "### Q20. A box has 5 red and 5 blue balls. One ball is drawn at random. Find the probability that it is not blue."
      ],
      "metadata": {
        "id": "dHdipk46yJJD"
      }
    },
    {
      "cell_type": "code",
      "source": [
        "from fractions import Fraction\n",
        "\n",
        "# Number of favorable outcomes\n",
        "fav = 5  # red balls\n",
        "# Total balls\n",
        "total = 5 + 5  # 10\n",
        "\n",
        "# Probability as fraction\n",
        "probability = Fraction(fav, total)\n",
        "\n",
        "print(\"Probability that the ball is not blue is:\", probability)\n",
        "print(\"Probability as decimal:\", float(probability))\n"
      ],
      "metadata": {
        "colab": {
          "base_uri": "https://localhost:8080/"
        },
        "id": "1qIYPFWKyJYi",
        "outputId": "6680c6d2-4368-4558-c588-8288049833d3"
      },
      "execution_count": 27,
      "outputs": [
        {
          "output_type": "stream",
          "name": "stdout",
          "text": [
            "Probability that the ball is not blue is: 1/2\n",
            "Probability as decimal: 0.5\n"
          ]
        }
      ]
    }
  ]
}