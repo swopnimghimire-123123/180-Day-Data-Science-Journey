{
 "cells": [
  {
   "cell_type": "markdown",
   "id": "5005115b-c822-482f-b29a-f1c98158e4f3",
   "metadata": {},
   "source": [
    "# Week 1: Basics – Variables, Data Types, Input/Output, Loops, Conditionals"
   ]
  },
  {
   "cell_type": "markdown",
   "id": "3bb30066-c0d9-44c6-8420-945a555f8530",
   "metadata": {},
   "source": [
    "### Q1. Write a python program to swap two numbers"
   ]
  },
  {
   "cell_type": "code",
   "execution_count": 21,
   "id": "01a14303-cc8a-40c9-8b3b-3faac770dd40",
   "metadata": {},
   "outputs": [
    {
     "name": "stdout",
     "output_type": "stream",
     "text": [
      "Before swap 10 15\n",
      "After swap 15 10\n"
     ]
    }
   ],
   "source": [
    "a = 10 \n",
    "b = 15\n",
    "print(\"Before swap\",a,b)\n",
    "a , b = b , a\n",
    "print(\"After swap\",a,b)"
   ]
  },
  {
   "cell_type": "markdown",
   "id": "4897d00d-a8f4-4e65-84b4-f9b357ad2d69",
   "metadata": {},
   "source": [
    "### Q2. Take user input and display it to the user"
   ]
  },
  {
   "cell_type": "code",
   "execution_count": 9,
   "id": "96678fa4-c007-4429-8a94-28d5d3472966",
   "metadata": {},
   "outputs": [
    {
     "name": "stdin",
     "output_type": "stream",
     "text": [
      "enter something enter\n"
     ]
    },
    {
     "name": "stdout",
     "output_type": "stream",
     "text": [
      "enter\n"
     ]
    }
   ],
   "source": [
    "data = input(\"enter something\")\n",
    "print(data)"
   ]
  },
  {
   "cell_type": "markdown",
   "id": "6c025d3f-7516-4c3b-bae7-4c147e1b9bec",
   "metadata": {},
   "source": [
    "### Q3. Write a program to check if a number is even or odd."
   ]
  },
  {
   "cell_type": "code",
   "execution_count": 12,
   "id": "50647540-c71a-469f-a410-5fe5b64dc521",
   "metadata": {},
   "outputs": [
    {
     "name": "stdin",
     "output_type": "stream",
     "text": [
      "enter a number 2\n"
     ]
    },
    {
     "name": "stdout",
     "output_type": "stream",
     "text": [
      "2 is a even number\n"
     ]
    }
   ],
   "source": [
    "num = int(input(\"enter a number\"))\n",
    "if num % 2 == 0:\n",
    "    print(f\"{num} is a even number\")\n",
    "else:\n",
    "    print(f\"{num} is a odd number\")"
   ]
  },
  {
   "cell_type": "markdown",
   "id": "608d8bf4-4481-423b-9684-d39ea1b2dc3f",
   "metadata": {},
   "source": [
    "### Q4. Create a program that prints the multiplication table of a given number."
   ]
  },
  {
   "cell_type": "code",
   "execution_count": 13,
   "id": "f59f98a6-86e3-4590-8fa2-5a3e3c583a8e",
   "metadata": {},
   "outputs": [
    {
     "name": "stdin",
     "output_type": "stream",
     "text": [
      "enter the number you want to find table of 10\n"
     ]
    },
    {
     "name": "stdout",
     "output_type": "stream",
     "text": [
      "10 * 1 = 10\n",
      "10 * 2 = 20\n",
      "10 * 3 = 30\n",
      "10 * 4 = 40\n",
      "10 * 5 = 50\n",
      "10 * 6 = 60\n",
      "10 * 7 = 70\n",
      "10 * 8 = 80\n",
      "10 * 9 = 90\n",
      "10 * 10 = 100\n"
     ]
    }
   ],
   "source": [
    "num = int(input(\"enter the number you want to find table of\"))\n",
    "for i in range(1,11):\n",
    "    print(f\"{num} * {i} = {num* i}\")"
   ]
  },
  {
   "cell_type": "markdown",
   "id": "9724ecf3-5870-47d9-a7ed-f2665d0d2c7e",
   "metadata": {},
   "source": [
    "### Q5. Write a program to find the largest of three numbers."
   ]
  },
  {
   "cell_type": "code",
   "execution_count": 17,
   "id": "a611364c-d2c7-4b8b-bcae-0e342e97a800",
   "metadata": {},
   "outputs": [
    {
     "name": "stdout",
     "output_type": "stream",
     "text": [
      "15 is the largest number\n"
     ]
    }
   ],
   "source": [
    "x = 10 \n",
    "y = 13\n",
    "x = 15\n",
    "if x > y and x > z:\n",
    "    print(f\"{x} is the largest number\")\n",
    "elif y>x and y>z:\n",
    "    print(f\"{y} is the largest number\")\n",
    "elif z>x and z>y:\n",
    "    print(f\"{z} is the largest number\")\n",
    "else:\n",
    "    print(\"INVALID VALUES FOR COMPARISION\")"
   ]
  },
  {
   "cell_type": "markdown",
   "id": "e0d7e9dd-6857-42ef-b2fa-ec46c831b9f6",
   "metadata": {},
   "source": [
    "### Q6. Convert temperature from Celsius to Fahrenheit."
   ]
  },
  {
   "cell_type": "code",
   "execution_count": 18,
   "id": "88adb8c3-d6fb-4b6d-a517-b1914858e9cb",
   "metadata": {},
   "outputs": [
    {
     "name": "stdin",
     "output_type": "stream",
     "text": [
      "Enter the temperatur in Celsius 10\n"
     ]
    },
    {
     "name": "stdout",
     "output_type": "stream",
     "text": [
      "18.0\n"
     ]
    }
   ],
   "source": [
    "temp = int(input(\"Enter the temperatur in Celsius\"))\n",
    "Fahrenheit = temp * 1.8\n",
    "print(Fahrenheit)"
   ]
  },
  {
   "cell_type": "markdown",
   "id": "0eb6135c-aecf-4f89-b690-792eeb356318",
   "metadata": {},
   "source": [
    "### Q7. Write a program to calculate the factorial of a number using a loop."
   ]
  },
  {
   "cell_type": "code",
   "execution_count": 19,
   "id": "a8633c0d-7529-496f-9df7-eb32c761b6b7",
   "metadata": {},
   "outputs": [
    {
     "name": "stdin",
     "output_type": "stream",
     "text": [
      "Enter the number you want to find factorial of 5\n"
     ]
    },
    {
     "name": "stdout",
     "output_type": "stream",
     "text": [
      "120\n"
     ]
    }
   ],
   "source": [
    "num = int(input(\"Enter the number you want to find factorial of\"))\n",
    "fac = 1\n",
    "for i in range (1,num+1):\n",
    "    fac = fac * i\n",
    "print(fac)"
   ]
  },
  {
   "cell_type": "markdown",
   "id": "20542eee-5c80-45ff-a97a-56d786ac7795",
   "metadata": {},
   "source": [
    "### Q8. Create a program to count the number of vowels in a string."
   ]
  },
  {
   "cell_type": "code",
   "execution_count": 3,
   "id": "fc353650-3dc4-4b5a-a857-3e4e7e06634d",
   "metadata": {},
   "outputs": [
    {
     "name": "stdout",
     "output_type": "stream",
     "text": [
      "3\n",
      "6\n",
      "1\n",
      "1\n",
      "0\n"
     ]
    }
   ],
   "source": [
    "string = \" There are 8 planets in the solar system\"\n",
    "print(string.count(\"a\"))\n",
    "print(string.count(\"e\"))\n",
    "print(string.count(\"i\"))\n",
    "print(string.count(\"o\"))\n",
    "print(string.count(\"u\"))"
   ]
  },
  {
   "cell_type": "code",
   "execution_count": 6,
   "id": "d5f9d145-5ab6-409e-8970-f906962f8638",
   "metadata": {},
   "outputs": [
    {
     "name": "stdout",
     "output_type": "stream",
     "text": [
      "The number of vowel in the sting is: 11\n"
     ]
    }
   ],
   "source": [
    "string = \" There are 8 planets in the solar system\"\n",
    "vowel = \"aeiou\"\n",
    "count = 0\n",
    "# using for loop to access all the characters of the string and comparing it with the vowel\n",
    "for character in string:\n",
    "    # now comparing each charcters with vowels if a character is present in the vowel then count will be increased\n",
    "    if character in vowel:\n",
    "        count += 1\n",
    "print(f\"The number of vowel in the sting is: {count}\")"
   ]
  },
  {
   "cell_type": "markdown",
   "id": "77fa319d-cf11-42de-b7d2-3a37679168bf",
   "metadata": {},
   "source": [
    "### Q9. Write a Python script to reverse a given string."
   ]
  },
  {
   "cell_type": "code",
   "execution_count": 24,
   "id": "864050b9-9644-43c0-8f66-b1603bef68a0",
   "metadata": {},
   "outputs": [
    {
     "name": "stdin",
     "output_type": "stream",
     "text": [
      "Enter the string that you want to reverse swopnim\n"
     ]
    },
    {
     "name": "stdout",
     "output_type": "stream",
     "text": [
      "Before Reverse : swopnim\n",
      "After Reverse : minpows\n"
     ]
    }
   ],
   "source": [
    "a = input(\"Enter the string that you want to reverse\")\n",
    "print(\"Before Reverse :\",a)\n",
    "print(\"After Reverse :\",a[::-1])"
   ]
  },
  {
   "cell_type": "markdown",
   "id": "433b7bc0-e405-4551-9025-16dd8c355dc4",
   "metadata": {},
   "source": [
    "### Q10. Check if a number is a palindrome."
   ]
  },
  {
   "cell_type": "code",
   "execution_count": 2,
   "id": "2e76cd41-7da8-4f41-a3e2-9f544e0cb718",
   "metadata": {},
   "outputs": [
    {
     "name": "stdin",
     "output_type": "stream",
     "text": [
      "Enter the number that you want to check whether it's palindrome or not 121\n"
     ]
    },
    {
     "name": "stdout",
     "output_type": "stream",
     "text": [
      "palindrome\n"
     ]
    }
   ],
   "source": [
    "a = input(\"Enter the number that you want to check whether it's palindrome or not\")\n",
    "b = a[::-1]\n",
    "if a==b :\n",
    "    print(\"palindrome\")\n",
    "else :\n",
    "    print(\"not palindrome\")"
   ]
  },
  {
   "cell_type": "markdown",
   "id": "85c40ab3-59ac-4794-9d7e-4731304bf594",
   "metadata": {},
   "source": [
    "### Q11. Write a program to find the sum of first N natural numbers."
   ]
  },
  {
   "cell_type": "code",
   "execution_count": 26,
   "id": "1e065512-510f-45e2-ad0e-75f2bda231cf",
   "metadata": {},
   "outputs": [
    {
     "name": "stdin",
     "output_type": "stream",
     "text": [
      "Enter the value for n : 5\n"
     ]
    },
    {
     "name": "stdout",
     "output_type": "stream",
     "text": [
      "15\n"
     ]
    }
   ],
   "source": [
    "n = int(input(\"Enter the value for n :\"))\n",
    "s = 0\n",
    "for i in range(1,n+1):\n",
    "    s+=i\n",
    "print(s)"
   ]
  },
  {
   "cell_type": "markdown",
   "id": "3df1c07e-3c56-4383-bfa6-7146d4f8658d",
   "metadata": {},
   "source": [
    "### Q12. Create a number guessing game."
   ]
  },
  {
   "cell_type": "code",
   "execution_count": 1,
   "id": "e25f2eba-fdf9-4365-b7e1-e8da35a7b4e1",
   "metadata": {},
   "outputs": [
    {
     "name": "stdin",
     "output_type": "stream",
     "text": [
      "Enter a number between one to ten 10\n"
     ]
    },
    {
     "name": "stdout",
     "output_type": "stream",
     "text": [
      "10 is more than the actual number\n"
     ]
    },
    {
     "name": "stdin",
     "output_type": "stream",
     "text": [
      "Enter a number between one to ten 5\n"
     ]
    },
    {
     "name": "stdout",
     "output_type": "stream",
     "text": [
      "5 is more than the actual number\n"
     ]
    },
    {
     "name": "stdin",
     "output_type": "stream",
     "text": [
      "Enter a number between one to ten 4\n"
     ]
    },
    {
     "name": "stdout",
     "output_type": "stream",
     "text": [
      "4 is more than the actual number\n"
     ]
    },
    {
     "name": "stdin",
     "output_type": "stream",
     "text": [
      "Enter a number between one to ten 3\n"
     ]
    },
    {
     "name": "stdout",
     "output_type": "stream",
     "text": [
      "3 is more than the actual number\n"
     ]
    },
    {
     "name": "stdin",
     "output_type": "stream",
     "text": [
      "Enter a number between one to ten 2\n"
     ]
    },
    {
     "name": "stdout",
     "output_type": "stream",
     "text": [
      "2 is more than the actual number\n"
     ]
    },
    {
     "name": "stdin",
     "output_type": "stream",
     "text": [
      "Enter a number between one to ten 1\n"
     ]
    },
    {
     "name": "stdout",
     "output_type": "stream",
     "text": [
      "CONGRATULATIONS YOUR GUESS WAS CORRECT\n"
     ]
    }
   ],
   "source": [
    "import random\n",
    "x = random.randint(1,10)\n",
    "while True:\n",
    "    try:\n",
    "        y = int(input(\"Enter a number between one to ten\"))\n",
    "        if x > y :\n",
    "            print(f\"{y} is less than the acutal number\")\n",
    "        elif y > x :\n",
    "            print(f\"{y} is more than the actual number\")\n",
    "        else:\n",
    "            print(\"CONGRATULATIONS YOUR GUESS WAS CORRECT\")\n",
    "            break\n",
    "    except ValueError:\n",
    "        # Handle cases where the user enters non-integer input\n",
    "        print(\"That's not a valid number. Please enter a whole number.\")"
   ]
  },
  {
   "cell_type": "markdown",
   "id": "0ca318c2-3a72-427e-a6af-9facf0390837",
   "metadata": {},
   "source": [
    "### Q13. Write a program to print all prime numbers between 1 and 100."
   ]
  },
  {
   "cell_type": "code",
   "execution_count": 12,
   "id": "f09a390b-ec22-4c19-8c6c-9fd651cc32ef",
   "metadata": {},
   "outputs": [
    {
     "name": "stdout",
     "output_type": "stream",
     "text": [
      "2 is a prime number\n",
      "3 is a prime number\n",
      "5 is a prime number\n",
      "7 is a prime number\n",
      "11 is a prime number\n",
      "13 is a prime number\n",
      "17 is a prime number\n",
      "19 is a prime number\n",
      "23 is a prime number\n",
      "29 is a prime number\n",
      "31 is a prime number\n",
      "37 is a prime number\n",
      "41 is a prime number\n",
      "43 is a prime number\n",
      "47 is a prime number\n",
      "53 is a prime number\n",
      "59 is a prime number\n",
      "61 is a prime number\n",
      "67 is a prime number\n",
      "71 is a prime number\n",
      "73 is a prime number\n",
      "79 is a prime number\n",
      "83 is a prime number\n",
      "89 is a prime number\n",
      "97 is a prime number\n"
     ]
    }
   ],
   "source": [
    "for i in range(1,101):\n",
    "    count = 0 \n",
    "    for j in range(1, i+1):\n",
    "        if i % j == 0 :\n",
    "            count += 1\n",
    "    if count == 2:\n",
    "         print(f\"{i} is a prime number\") "
   ]
  },
  {
   "cell_type": "markdown",
   "id": "92574441-496c-434e-9952-d11590da18ab",
   "metadata": {},
   "source": [
    "### Q14. Check if a given year is a leap year or not."
   ]
  },
  {
   "cell_type": "markdown",
   "id": "d9c00dfa-b78f-4846-863d-165a07fc4d0d",
   "metadata": {},
   "source": [
    "- First, check if the year is divisible by 400. If it is, it's a leap year.\n",
    "\n",
    "- If not, check if it's divisible by 100. If it is, it's not a leap year.\n",
    "\n",
    "- If not, check if it's divisible by 4. If it is, it's a leap year.\n",
    "\n",
    "- If none of these conditions are met, it is not a leap year."
   ]
  },
  {
   "cell_type": "code",
   "execution_count": 19,
   "id": "b2a3202d-df40-44d3-971b-495b7b044604",
   "metadata": {},
   "outputs": [
    {
     "name": "stdin",
     "output_type": "stream",
     "text": [
      "Enter the year you want to check if it's a leap year or not:  2000\n"
     ]
    },
    {
     "name": "stdout",
     "output_type": "stream",
     "text": [
      "2000 is a leap year\n"
     ]
    }
   ],
   "source": [
    "year = int(input(\"Enter the year you want to check if it's a leap year or not: \"))\n",
    "\n",
    "if (year % 400 == 0) or (year % 100 != 0 and year % 4 == 0):\n",
    "    print(f\"{year} is a leap year\")\n",
    "else :\n",
    "    print(f\"{year} is not a leap year\")"
   ]
  },
  {
   "cell_type": "markdown",
   "id": "00df9877-a6a5-4deb-a40b-67d02f87344d",
   "metadata": {},
   "source": [
    "### Q15. Create a program to print the Fibonacci series up to N terms."
   ]
  },
  {
   "cell_type": "code",
   "execution_count": 3,
   "id": "8a32bfdc-f538-4e33-81c1-8c9eed9882f9",
   "metadata": {},
   "outputs": [
    {
     "name": "stdout",
     "output_type": "stream",
     "text": [
      "Fibonacci series up to 10 terms: [0, 1, 1, 2, 3, 5, 8, 13, 21, 34]\n"
     ]
    }
   ],
   "source": [
    "def fibonacci_series(n):\n",
    "    # handel edge cases for n = 0 and n = 1\n",
    "    if n <= 0:\n",
    "        return []\n",
    "    elif n == 1:\n",
    "        return [0]\n",
    "\n",
    "    # Initialize the first two numbers\n",
    "    series = [0,1]\n",
    "\n",
    "    # Generate the series up to n terms\n",
    "    while len(series) < n:\n",
    "        next_number = series[-1] + series[-2]\n",
    "        series.append(next_number)\n",
    "\n",
    "    return series\n",
    "\n",
    "# Example usage:\n",
    "n_terms = 10\n",
    "fib_sequence = fibonacci_series(n_terms)\n",
    "print(f\"Fibonacci series up to {n_terms} terms: {fib_sequence}\")"
   ]
  },
  {
   "cell_type": "markdown",
   "id": "87688a3b-6cb0-4017-bd11-82ce3beda809",
   "metadata": {},
   "source": [
    "### Q16. Write a program to find the GCD of two numbers."
   ]
  },
  {
   "cell_type": "code",
   "execution_count": 36,
   "id": "27646c25-f256-4c8f-91d1-80e3b5fb2e37",
   "metadata": {},
   "outputs": [
    {
     "name": "stdout",
     "output_type": "stream",
     "text": [
      "The GCD of 54 and 24 is: 6\n",
      "The GCD of 48 and 180 is: 12\n"
     ]
    }
   ],
   "source": [
    "def find_gcd(a, b):\n",
    "    \"\"\"\n",
    "    Finds the greatest common divisor (GCD) of two numbers using the Euclidean algorithm.\n",
    "    The Euclidean algorithm is based on the principle that the GCD of two numbers\n",
    "    does not change if the larger number is replaced by its difference with the\n",
    "    smaller number. This is repeated until one of the numbers is zero.\n",
    "    \n",
    "    Args:\n",
    "        a (int): The first number.\n",
    "        b (int): The second number.\n",
    "\n",
    "    Returns:\n",
    "        int: The greatest common divisor of a and b.\n",
    "    \"\"\"\n",
    "    # The loop continues as long as b is not 0.\n",
    "    # The Euclidean algorithm relies on the property: GCD(a, b) = GCD(b, a % b)\n",
    "    while b!= 0:\n",
    "        # The line below is a concise way to swap a and b,\n",
    "        # and update b with the remainder of a divided by b.\n",
    "        # It's equivalent to:\n",
    "        # temp = b\n",
    "        # b = a % b\n",
    "        # a = temp\n",
    "        a, b = b, a % b\n",
    "    \n",
    "    # When the loop terminates, a holds the GCD.\n",
    "    return a\n",
    "\n",
    "# Example usage:\n",
    "num1 = 54\n",
    "num2 = 24\n",
    "\n",
    "# Call the function and store the result\n",
    "result = find_gcd(num1, num2)\n",
    "\n",
    "# Print the result in a user-friendly format\n",
    "print(f\"The GCD of {num1} and {num2} is: {result}\")\n",
    "\n",
    "# Another example:\n",
    "num3 = 48\n",
    "num4 = 180\n",
    "print(f\"The GCD of {num3} and {num4} is: {find_gcd(num3, num4)}\")"
   ]
  },
  {
   "cell_type": "markdown",
   "id": "59c73f4d-bd02-4929-b79e-f929f1599c28",
   "metadata": {},
   "source": [
    "### Q17. Write a program to find the lcm "
   ]
  },
  {
   "cell_type": "code",
   "execution_count": 39,
   "id": "c23b2f5e-6466-4178-ac7a-894759475cfe",
   "metadata": {},
   "outputs": [
    {
     "name": "stdout",
     "output_type": "stream",
     "text": [
      "The LCM of 12 and 18 is: 36\n",
      "The LCM of 15 and 20 is: 60\n",
      "The LCM of 48 and 180 is: 720\n"
     ]
    }
   ],
   "source": [
    "import math\n",
    "\n",
    "def find_gcd(a, b):\n",
    "    \"\"\"\n",
    "    Finds the greatest common divisor (GCD) of two numbers using the\n",
    "    Euclidean algorithm. This function is a prerequisite for finding the LCM.\n",
    "    \"\"\"\n",
    "    while b:\n",
    "        a, b = b, a % b\n",
    "    return a\n",
    "\n",
    "def find_lcm(a, b):\n",
    "    \"\"\"\n",
    "    Finds the least common multiple (LCM) of two numbers.\n",
    "\n",
    "    The formula used is:\n",
    "    LCM(a, b) = (|a * b|) / GCD(a, b)\n",
    "\n",
    "    This formula works because the product of two numbers is equal to the\n",
    "    product of their GCD and LCM.\n",
    "\n",
    "    Args:\n",
    "        a (int): The first number.\n",
    "        b (int): The second number.\n",
    "\n",
    "    Returns:\n",
    "        int: The least common multiple of a and b.\n",
    "    \"\"\"\n",
    "    # If either number is zero, their LCM is 0.\n",
    "    if a == 0 or b == 0:\n",
    "        return 0\n",
    "    \n",
    "    # Use the formula to calculate LCM.\n",
    "    # We use abs() to handle potential negative inputs, and // for integer division.\n",
    "    gcd = find_gcd(a, b)\n",
    "    lcm = abs(a * b) // gcd\n",
    "    return lcm\n",
    "\n",
    "# Example usage:\n",
    "num1 = 12\n",
    "num2 = 18\n",
    "\n",
    "# Call the function and store the result\n",
    "result_lcm = find_lcm(num1, num2)\n",
    "\n",
    "# Print the result in a user-friendly format\n",
    "print(f\"The LCM of {num1} and {num2} is: {result_lcm}\")\n",
    "\n",
    "# Another example:\n",
    "num3 = 15\n",
    "num4 = 20\n",
    "print(f\"The LCM of {num3} and {num4} is: {find_lcm(num3, num4)}\")\n",
    "\n",
    "# Example with a larger number set\n",
    "num5 = 48\n",
    "num6 = 180\n",
    "print(f\"The LCM of {num5} and {num6} is: {find_lcm(num5, num6)}\")"
   ]
  },
  {
   "cell_type": "markdown",
   "id": "d28141f7-a0d6-4792-a453-23dcb412fc9b",
   "metadata": {},
   "source": [
    "### Q18. Check whether a character is a vowel or consonant."
   ]
  },
  {
   "cell_type": "code",
   "execution_count": 49,
   "id": "88c7ff6c-d589-45a3-8b9d-8043537abafc",
   "metadata": {},
   "outputs": [
    {
     "name": "stdout",
     "output_type": "stream",
     "text": [
      "a in string is a vowel\n",
      "q in string is a consonant\n",
      "u in string is a vowel\n",
      "i in string is a vowel\n",
      "c in string is a consonant\n",
      "k in string is a consonant\n",
      "b in string is a consonant\n",
      "r in string is a consonant\n",
      "o in string is a vowel\n",
      "w in string is a consonant\n",
      "n in string is a consonant\n",
      "f in string is a consonant\n",
      "o in string is a vowel\n",
      "x in string is a consonant\n",
      "j in string is a consonant\n",
      "u in string is a vowel\n",
      "m in string is a consonant\n",
      "p in string is a consonant\n",
      "s in string is a consonant\n",
      "o in string is a vowel\n",
      "v in string is a consonant\n",
      "e in string is a vowel\n",
      "r in string is a consonant\n",
      "t in string is a consonant\n",
      "h in string is a consonant\n",
      "e in string is a vowel\n",
      "l in string is a consonant\n",
      "a in string is a vowel\n",
      "z in string is a consonant\n",
      "y in string is a consonant\n",
      "d in string is a consonant\n",
      "o in string is a vowel\n",
      "g in string is a consonant\n"
     ]
    }
   ],
   "source": [
    "# Some what similar to question number\n",
    "string = \"A quick brown fox jumps over the lazy dog\"\n",
    "vowel= \"aeiou\"\n",
    "string_clean = string.lower().replace(\" \",\"\")\n",
    "for character in string_clean:\n",
    "    if character in vowel:\n",
    "        print(f\"{character} in string is a vowel\")\n",
    "    else:\n",
    "        print(f\"{character} in string is a consonant\")"
   ]
  },
  {
   "cell_type": "markdown",
   "id": "186e4cf7-c0d0-4ddb-b0d2-0c4e0ecc87e7",
   "metadata": {},
   "source": [
    "### Q19. Write a program to calculate the sum of digits of a number."
   ]
  },
  {
   "cell_type": "code",
   "execution_count": 54,
   "id": "0fd0f47b-c223-40c5-b5bb-720a08f0d5b5",
   "metadata": {},
   "outputs": [
    {
     "name": "stdin",
     "output_type": "stream",
     "text": [
      "Enter a number 123\n"
     ]
    },
    {
     "name": "stdout",
     "output_type": "stream",
     "text": [
      "6\n"
     ]
    }
   ],
   "source": [
    "num = input(\"Enter a number\")\n",
    "sum = 0\n",
    "for digits in num:\n",
    "    sum = sum + int(digits)\n",
    "print(sum)"
   ]
  },
  {
   "cell_type": "markdown",
   "id": "3b18cdb9-80af-42a2-b72c-42e2548ba935",
   "metadata": {},
   "source": [
    "### Q20. Create a program to find the second largest number in a list."
   ]
  },
  {
   "cell_type": "code",
   "execution_count": 121,
   "id": "b80cf5ca-1140-4965-9c99-492bb919e522",
   "metadata": {},
   "outputs": [
    {
     "name": "stdout",
     "output_type": "stream",
     "text": [
      "[1, 2, 3, 5, 33, 44, 49, 76]\n",
      "the length of the list is 8\n",
      "is the second largest number in the list 49\n"
     ]
    }
   ],
   "source": [
    "a = [1,2,3,49,5,76,33,44] \n",
    "a = sorted(a)\n",
    "print(a)\n",
    "length = len(a) \n",
    "print(\"the length of the list is\",length)\n",
    "# the second largest number in the list will be the second last item in the list\n",
    "# the second last item will be in the length - 2 index \n",
    "second_largest_number = a[length-2]\n",
    "print(\"is the second largest number in the list\",second_largest_number)"
   ]
  },
  {
   "cell_type": "markdown",
   "id": "11909a38-86b2-4edb-9a86-04f27edbcdbb",
   "metadata": {},
   "source": [
    "### Q21. Write a program to count the number of digits in an integer."
   ]
  },
  {
   "cell_type": "code",
   "execution_count": 65,
   "id": "7dd0f16d-a447-423d-b149-56d35e99ade7",
   "metadata": {},
   "outputs": [
    {
     "name": "stdin",
     "output_type": "stream",
     "text": [
      "enter the number which you want to count digit of 123\n"
     ]
    },
    {
     "name": "stdout",
     "output_type": "stream",
     "text": [
      "The numbers of digits in the number is : 3\n"
     ]
    }
   ],
   "source": [
    "number = input(\"enter the number which you want to count digit of\")\n",
    "count = 0 \n",
    "for digits in number:\n",
    "    count += 1\n",
    "print(f\"The numbers of digits in the number is : {count}\")"
   ]
  },
  {
   "cell_type": "markdown",
   "id": "ee9a5f76-ae5c-4805-9f5b-b0dc66cd9f02",
   "metadata": {},
   "source": [
    "### Q22. Create a program to print all Armstrong numbers between 1 to 1000."
   ]
  },
  {
   "cell_type": "markdown",
   "id": "7fed9869-e109-401f-b725-a0904138484b",
   "metadata": {},
   "source": [
    "\n",
    "- Take a number.\n",
    "\n",
    "- Count how many digits it has → that becomes the power.\n",
    "\n",
    "- Raise each digit of the number to that power.\n",
    "\n",
    "- Add them all up.\n",
    "\n",
    "- If the result equals the original number → it’s an Armstrong number."
   ]
  },
  {
   "cell_type": "code",
   "execution_count": 77,
   "id": "74ae2fec-8767-4d3c-9eba-de3292fbe932",
   "metadata": {},
   "outputs": [
    {
     "name": "stdin",
     "output_type": "stream",
     "text": [
      "Armstrong number checker, Enter a number 153\n"
     ]
    },
    {
     "name": "stdout",
     "output_type": "stream",
     "text": [
      "3\n",
      "153 is a armstrong number\n"
     ]
    }
   ],
   "source": [
    "number = input(\"Armstrong number checker, Enter a number\")\n",
    "power = len(number) \n",
    "print(power)\n",
    "total = 0\n",
    "for digit in number:\n",
    "    total = total + int(digit)**power\n",
    "if total == int(number):\n",
    "    print(f\"{number} is a armstrong number\")\n",
    "else:\n",
    "    print(f\"{number} is not a armstrong number\")"
   ]
  },
  {
   "cell_type": "markdown",
   "id": "c076abd9-5b5f-4f30-ba8e-28940e079aec",
   "metadata": {},
   "source": [
    "### Q23. Write a Python program to print a pattern of stars in a triangle."
   ]
  },
  {
   "cell_type": "code",
   "execution_count": 98,
   "id": "7e9539e9-640d-4894-8040-023d9b28a19a",
   "metadata": {},
   "outputs": [
    {
     "name": "stdin",
     "output_type": "stream",
     "text": [
      "Enter the no of rows in the star you want 10\n"
     ]
    },
    {
     "name": "stdout",
     "output_type": "stream",
     "text": [
      "*\n",
      "**\n",
      "***\n",
      "****\n",
      "*****\n",
      "******\n",
      "*******\n",
      "********\n",
      "*********\n",
      "**********\n"
     ]
    }
   ],
   "source": [
    "row_in_star = int(input(\"Enter the no of rows in the star you want\"))\n",
    "\n",
    "for i in range( 1 , row_in_star+1 ):\n",
    "    print(\"*\" * i )"
   ]
  },
  {
   "cell_type": "code",
   "execution_count": 97,
   "id": "786774a9-8ce2-43e8-aa6f-969d59989086",
   "metadata": {},
   "outputs": [
    {
     "name": "stdout",
     "output_type": "stream",
     "text": [
      "**********\n",
      "*********\n",
      "********\n",
      "*******\n",
      "******\n",
      "*****\n",
      "****\n",
      "***\n",
      "**\n",
      "*\n"
     ]
    }
   ],
   "source": [
    "##### row_in_star = int(input(\"Enter the number of rows in the star you want\"))\n",
    "for i in range (1 , row_in_star + 1 ):\n",
    "    x = row_in_star + 1 - i\n",
    "    print(\"*\" * x)"
   ]
  },
  {
   "cell_type": "code",
   "execution_count": 96,
   "id": "f473b4fa-7963-47c5-801a-cdb7d644f1da",
   "metadata": {},
   "outputs": [
    {
     "name": "stdin",
     "output_type": "stream",
     "text": [
      "enter the numbers of rows you want in the pyramid 10\n"
     ]
    },
    {
     "name": "stdout",
     "output_type": "stream",
     "text": [
      "         *\n",
      "        ***\n",
      "       *****\n",
      "      *******\n",
      "     *********\n",
      "    ***********\n",
      "   *************\n",
      "  ***************\n",
      " *****************\n",
      "*******************\n"
     ]
    }
   ],
   "source": [
    "rows = int(input(\"enter the numbers of rows you want in the pyramid\"))\n",
    "\n",
    "for i in range(rows):\n",
    "    space = \" \" * (rows -  i - 1)\n",
    "    symbol = \"*\" * (2 * i + 1)\n",
    "    print(space + symbol)"
   ]
  },
  {
   "cell_type": "code",
   "execution_count": 99,
   "id": "16b27b54-b172-4be7-95d7-a61831d516d3",
   "metadata": {},
   "outputs": [
    {
     "name": "stdin",
     "output_type": "stream",
     "text": [
      "enter the numbers of rows you want in the pyramid 10\n"
     ]
    },
    {
     "name": "stdout",
     "output_type": "stream",
     "text": [
      "         #\n",
      "        ***\n",
      "       #####\n",
      "      *******\n",
      "     #########\n",
      "    ***********\n",
      "   #############\n",
      "  ***************\n",
      " #################\n",
      "*******************\n"
     ]
    }
   ],
   "source": [
    "rows = int(input(\"enter the numbers of rows you want in the pyramid\"))\n",
    "\n",
    "for i in range(rows):\n",
    "    space = \" \" * (rows -  i - 1)\n",
    "    if i % 2 == 0 :\n",
    "        symbol = \"#\" * (2 * i + 1)\n",
    "    else:\n",
    "        symbol = \"*\" * (2 * i + 1)\n",
    "    print(space + symbol)"
   ]
  },
  {
   "cell_type": "code",
   "execution_count": 107,
   "id": "85dc3c72-1940-4f2a-a811-ba8c95de96e2",
   "metadata": {},
   "outputs": [
    {
     "name": "stdin",
     "output_type": "stream",
     "text": [
      "Enter the number of rows you want in the pyramid:  15\n"
     ]
    },
    {
     "name": "stdout",
     "output_type": "stream",
     "text": [
      "              #\n",
      "             #*#\n",
      "            #*#*#\n",
      "           #*#*#*#\n",
      "          #*#*#*#*#\n",
      "         #*#*#*#*#*#\n",
      "        #*#*#*#*#*#*#\n",
      "       #*#*#*#*#*#*#*#\n",
      "      #*#*#*#*#*#*#*#*#\n",
      "     #*#*#*#*#*#*#*#*#*#\n",
      "    #*#*#*#*#*#*#*#*#*#*#\n",
      "   #*#*#*#*#*#*#*#*#*#*#*#\n",
      "  #*#*#*#*#*#*#*#*#*#*#*#*#\n",
      " #*#*#*#*#*#*#*#*#*#*#*#*#*#\n",
      "#*#*#*#*#*#*#*#*#*#*#*#*#*#*#\n"
     ]
    }
   ],
   "source": [
    "rows = int(input(\"Enter the number of rows you want in the pyramid: \"))\n",
    "\n",
    "for i in range(rows):\n",
    "    # spaces for alignment\n",
    "    space = \" \" * (rows - i - 1)\n",
    "    \n",
    "    # build the symbols for this row\n",
    "    symbols = \"\"\n",
    "    for j in range(2 * i + 1):  # total symbols in row\n",
    "        if j % 2 == 0:\n",
    "            symbols += \"#\"\n",
    "        else:\n",
    "            symbols += \"*\"\n",
    "    \n",
    "    # print the row\n",
    "    print(space + symbols)\n"
   ]
  },
  {
   "cell_type": "markdown",
   "id": "1049ac4a-ddcc-420f-b43e-977e5bd85d07",
   "metadata": {},
   "source": [
    "### Q24. Create a calculator app using if-else."
   ]
  },
  {
   "cell_type": "code",
   "execution_count": 118,
   "id": "69432aac-5611-4514-9228-a41c2b1c592a",
   "metadata": {},
   "outputs": [
    {
     "name": "stdin",
     "output_type": "stream",
     "text": [
      "Enter the task:  difference\n"
     ]
    },
    {
     "name": "stdout",
     "output_type": "stream",
     "text": [
      "-1\n"
     ]
    }
   ],
   "source": [
    "a = 3\n",
    "b = 4\n",
    "task = input(\"Enter the task: \").lower()\n",
    "\n",
    "if task == 'add' or task == 'sum':\n",
    "    print(a + b)\n",
    "elif task == 'sub' or task == 'difference':\n",
    "    print(a - b)\n",
    "elif task == 'multiply' or task == 'product':\n",
    "    print(a * b)\n",
    "elif task == 'division' or task == 'div':\n",
    "    print(a / b)\n",
    "else:\n",
    "    print(\"ERROR\")"
   ]
  },
  {
   "cell_type": "markdown",
   "id": "d83c60a6-d52f-420f-b5b8-4494e78e8349",
   "metadata": {},
   "source": [
    "### Q25. Write a program to display the ASCII value of a character."
   ]
  },
  {
   "cell_type": "code",
   "execution_count": 120,
   "id": "e49ce82e-9390-4e3a-8b6c-96a190adfa83",
   "metadata": {},
   "outputs": [
    {
     "name": "stdin",
     "output_type": "stream",
     "text": [
      "Enter a single character 1\n"
     ]
    },
    {
     "name": "stdout",
     "output_type": "stream",
     "text": [
      "The ascii value of `1` is 49\n"
     ]
    }
   ],
   "source": [
    "character = input(\"Enter a single character\")\n",
    "ascii_value = ord(character)\n",
    "print(f\"The ascii value of `{character}` is {ascii_value}\")"
   ]
  },
  {
   "cell_type": "code",
   "execution_count": 125,
   "id": "15443641-15fd-4036-81af-6bcac2ee13c3",
   "metadata": {},
   "outputs": [
    {
     "name": "stdout",
     "output_type": "stream",
     "text": [
      "The ascii value of `T` is 84\n",
      "The ascii value of `h` is 104\n",
      "The ascii value of `e` is 101\n",
      "The ascii value of `w` is 119\n",
      "The ascii value of `o` is 111\n",
      "The ascii value of `r` is 114\n",
      "The ascii value of `l` is 108\n",
      "The ascii value of `d` is 100\n",
      "The ascii value of `i` is 105\n",
      "The ascii value of `s` is 115\n",
      "The ascii value of `a` is 97\n",
      "The ascii value of `n` is 110\n",
      "The ascii value of `i` is 105\n",
      "The ascii value of `c` is 99\n",
      "The ascii value of `e` is 101\n",
      "The ascii value of `p` is 112\n",
      "The ascii value of `l` is 108\n",
      "The ascii value of `a` is 97\n",
      "The ascii value of `c` is 99\n",
      "The ascii value of `e` is 101\n",
      "The ascii value of `t` is 116\n",
      "The ascii value of `o` is 111\n",
      "The ascii value of `b` is 98\n",
      "The ascii value of `e` is 101\n",
      "The ascii value of `i` is 105\n",
      "The ascii value of `n` is 110\n"
     ]
    }
   ],
   "source": [
    "# program to find the ascii value of all the character of the string\n",
    "string = (\"The world is a nice place to be in\")\n",
    "string_clear = string.replace(\" \" ,\"\")\n",
    "for character in string_clear:\n",
    "    ascii_value = ord(character)\n",
    "    print(f\"The ascii value of `{character}` is {ascii_value}\")"
   ]
  },
  {
   "cell_type": "markdown",
   "id": "b4d7b52b-e1a2-493d-aa0a-773b864678ab",
   "metadata": {},
   "source": [
    "### Q26. Convert a decimal number to binary using loops."
   ]
  },
  {
   "cell_type": "markdown",
   "id": "2340523a-e5b9-473e-9acd-15dadfd8f766",
   "metadata": {},
   "source": [
    "- Divide the decimal number by 2.\n",
    "\n",
    "-  down the remainder (0 or 1).\n",
    "\n",
    "- Use the quotient for the next division.\n",
    "\n",
    "- Repeat steps 1–3 until the quotient becomes 0.\n",
    "\n",
    "- Binary number = remainders read in reverse order (from last to first)."
   ]
  },
  {
   "cell_type": "code",
   "execution_count": 9,
   "id": "ed16abf2-23ec-4ec5-b2ff-998d4d8e4892",
   "metadata": {},
   "outputs": [
    {
     "name": "stdin",
     "output_type": "stream",
     "text": [
      "ENTER A DECIMAL NUMBER 13\n"
     ]
    },
    {
     "name": "stdout",
     "output_type": "stream",
     "text": [
      "The binary of 13 is 1101\n"
     ]
    }
   ],
   "source": [
    "number = int(input(\"ENTER A DECIMAL NUMBER\"))\n",
    "original_number = number \n",
    "binary = \"\"\n",
    "\n",
    "while number > 0:\n",
    "    reminder = number % 2\n",
    "    binary = str(reminder) + binary \n",
    "    number = number // 2\n",
    "print(f\"The binary of {original_number} is {binary}\")"
   ]
  },
  {
   "cell_type": "markdown",
   "id": "6b38f370-5fb8-4c5d-b3a7-7492ea332085",
   "metadata": {},
   "source": [
    "### Q27. Create a program to find the square root of a number."
   ]
  },
  {
   "cell_type": "code",
   "execution_count": 11,
   "id": "f4324045-de98-4c0b-a6f6-73b7a3e90bb2",
   "metadata": {},
   "outputs": [
    {
     "name": "stdin",
     "output_type": "stream",
     "text": [
      "Enter the number you want to find sq root of 25\n"
     ]
    },
    {
     "name": "stdout",
     "output_type": "stream",
     "text": [
      "The sq root of 25 is 5.0\n"
     ]
    }
   ],
   "source": [
    "import math\n",
    "number = int(input(\"Enter the number you want to find sq root of\"))\n",
    "x = math.sqrt(25)\n",
    "print(f\"The sq root of {number} is {x}\")"
   ]
  },
  {
   "cell_type": "code",
   "execution_count": 18,
   "id": "ca19b424-b2cc-4282-affc-af5871c8b261",
   "metadata": {},
   "outputs": [
    {
     "name": "stdin",
     "output_type": "stream",
     "text": [
      "Enter a number : 62500\n"
     ]
    },
    {
     "name": "stdout",
     "output_type": "stream",
     "text": [
      "Square root of 62500.0 is 250.0 approximately\n"
     ]
    }
   ],
   "source": [
    " # Newton’s Method (Iterative approach)\n",
    "number = float(input(\"Enter a number :\"))\n",
    "guess = number / 2\n",
    "for i in range (20): # increase the count to increase the efficinecy\n",
    "    guess = (guess + number / guess) / 2\n",
    "\n",
    "print(f\"Square root of {number} is {guess} approximately\")"
   ]
  },
  {
   "cell_type": "markdown",
   "id": "a8de4d0e-757b-4a5a-915f-c94f82ae3b67",
   "metadata": {},
   "source": [
    "### Q28. Write a program to find the sum of all even numbers in a list."
   ]
  },
  {
   "cell_type": "code",
   "execution_count": 24,
   "id": "3390337a-95d9-492d-ac85-9909d00096f1",
   "metadata": {},
   "outputs": [
    {
     "name": "stdout",
     "output_type": "stream",
     "text": [
      "The sum of the even numbers of the list is 156\n"
     ]
    }
   ],
   "source": [
    "a = [1,2,3,4,5,6,78,8,1,22,34,2,9]\n",
    "the_sum = 0\n",
    "for numbers in a:\n",
    "    if int(numbers)%2 == 0 :\n",
    "        the_sum = the_sum + numbers\n",
    "    else:\n",
    "        pass\n",
    "print(f\"The sum of the even numbers of the list is {the_sum}\")"
   ]
  },
  {
   "cell_type": "markdown",
   "id": "ca38536e-f0ed-43d0-b54f-1bc35952fd14",
   "metadata": {},
   "source": [
    "### Q29. Create a program to check whether a number is prime or not."
   ]
  },
  {
   "cell_type": "code",
   "execution_count": 30,
   "id": "f5670550-bcad-4005-a251-a336d3345099",
   "metadata": {},
   "outputs": [
    {
     "name": "stdin",
     "output_type": "stream",
     "text": [
      "Enter a number 5\n"
     ]
    },
    {
     "name": "stdout",
     "output_type": "stream",
     "text": [
      "5 is a prime number\n"
     ]
    }
   ],
   "source": [
    "number = int(input(\"Enter a number\"))\n",
    "div_counter = 0\n",
    "for i in range (1,number+1):\n",
    "    if number % i == 0:\n",
    "        div_counter += 1\n",
    "if div_counter == 2:\n",
    "    print(f\"{number} is a prime number\")\n",
    "else:\n",
    "    print(f\"{number} is not a prime number\")"
   ]
  },
  {
   "cell_type": "markdown",
   "id": "0a2df140-af92-4ab3-b727-2cb5de2d082f",
   "metadata": {},
   "source": [
    "### Q30. Write a program to display the cube of the number up to an integer."
   ]
  },
  {
   "cell_type": "code",
   "execution_count": 32,
   "id": "c2ef3f02-5419-4edf-99ba-74178dd1b63a",
   "metadata": {},
   "outputs": [
    {
     "name": "stdin",
     "output_type": "stream",
     "text": [
      "Enter a number 5\n"
     ]
    },
    {
     "name": "stdout",
     "output_type": "stream",
     "text": [
      "125\n"
     ]
    }
   ],
   "source": [
    "number = int(input(\"Enter a number\"))\n",
    "cube_of_number = number**3\n",
    "print(cube_of_number)"
   ]
  },
  {
   "cell_type": "code",
   "execution_count": 5,
   "id": "8b6605c8-ca9a-492c-9a23-4459387555e3",
   "metadata": {},
   "outputs": [
    {
     "name": "stdin",
     "output_type": "stream",
     "text": [
      "Enter a number 9\n"
     ]
    },
    {
     "name": "stdout",
     "output_type": "stream",
     "text": [
      "729.0\n"
     ]
    }
   ],
   "source": [
    "import math\n",
    "number = int(input(\"Enter a number\"))\n",
    "cube = math.pow(number,3)\n",
    "print(cube)"
   ]
  },
  {
   "cell_type": "code",
   "execution_count": 9,
   "id": "9f5cf0f9-0def-432f-b8f4-294d7f782b50",
   "metadata": {},
   "outputs": [
    {
     "name": "stdout",
     "output_type": "stream",
     "text": [
      "The cube of 1 is 1\n",
      "The cube of 2 is 8\n",
      "The cube of 3 is 27\n",
      "The cube of 4 is 64\n",
      "The cube of 5 is 125\n",
      "The cube of 6 is 216\n",
      "The cube of 7 is 343\n",
      "The cube of 8 is 512\n",
      "The cube of 9 is 729\n"
     ]
    }
   ],
   "source": [
    "integer = 9\n",
    "for i in range(1,integer+1):\n",
    "    print(f\"The cube of {i} is {i**3}\")"
   ]
  }
 ],
 "metadata": {
  "kernelspec": {
   "display_name": "Python 3 (ipykernel)",
   "language": "python",
   "name": "python3"
  },
  "language_info": {
   "codemirror_mode": {
    "name": "ipython",
    "version": 3
   },
   "file_extension": ".py",
   "mimetype": "text/x-python",
   "name": "python",
   "nbconvert_exporter": "python",
   "pygments_lexer": "ipython3",
   "version": "3.13.5"
  }
 },
 "nbformat": 4,
 "nbformat_minor": 5
}
