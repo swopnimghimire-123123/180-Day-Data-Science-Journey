{
 "cells": [
  {
   "cell_type": "markdown",
   "id": "fe208923-ba29-4c26-a79f-31b78dcce250",
   "metadata": {},
   "source": [
    "# Week 4: OOPs Concepts "
   ]
  },
  {
   "cell_type": "markdown",
   "id": "74f861de-e9ae-4b15-bd56-93e1b9ac62c8",
   "metadata": {},
   "source": [
    "### Q1. Write a Python program to check if a string has all unique characters."
   ]
  },
  {
   "cell_type": "code",
   "execution_count": 2,
   "id": "33e98857-e837-4d53-8017-9bf4f56b5854",
   "metadata": {},
   "outputs": [
    {
     "name": "stdout",
     "output_type": "stream",
     "text": [
      "True\n",
      "False\n"
     ]
    }
   ],
   "source": [
    "# set removes dublicate values\n",
    "def has_unique_chars(s):\n",
    "    return len(s) == len(set(s))\n",
    "\n",
    "# Examples\n",
    "print(has_unique_chars(\"Python\"))\n",
    "print(has_unique_chars(\"hello\"))"
   ]
  },
  {
   "cell_type": "code",
   "execution_count": 7,
   "id": "391ead16-b2ca-4ef7-9ba7-f85af60c9ee0",
   "metadata": {},
   "outputs": [
    {
     "name": "stdout",
     "output_type": "stream",
     "text": [
      "True\n",
      "True\n"
     ]
    }
   ],
   "source": [
    "def has_unique_chars(s):\n",
    "    seen = set(s)\n",
    "    for characters in s:\n",
    "        if characters in seen:\n",
    "            return True\n",
    "        seen.add(character)\n",
    "    return False\n",
    "\n",
    "print(has_unique_chars(\"python\"))\n",
    "print(has_unique_chars(\"Hello\"))"
   ]
  },
  {
   "cell_type": "markdown",
   "id": "e2a51162-833c-4106-97ba-7957817e3458",
   "metadata": {},
   "source": [
    "### Q2. Create a program that removes all duplicate characters from a string."
   ]
  },
  {
   "cell_type": "code",
   "execution_count": 12,
   "id": "d9b7e994-83f0-431a-9119-747499a55d7f",
   "metadata": {},
   "outputs": [
    {
     "data": {
      "text/plain": [
       "{'e', 'h', 'l', 'o'}"
      ]
     },
     "execution_count": 12,
     "metadata": {},
     "output_type": "execute_result"
    }
   ],
   "source": [
    "# Wrong appraoch\n",
    "def remove_duplicate(s):\n",
    "    return set(s)\n",
    "remove_duplicate(\"hello\")"
   ]
  },
  {
   "cell_type": "code",
   "execution_count": 14,
   "id": "cb67cc76-5555-4f6f-8f04-142c77adde25",
   "metadata": {},
   "outputs": [
    {
     "name": "stdout",
     "output_type": "stream",
     "text": [
      "helo\n"
     ]
    }
   ],
   "source": [
    "# Right appraoch\n",
    "def remove_duplicate(s):\n",
    "    result = \"\"\n",
    "    for char in s:\n",
    "        if char not in result:\n",
    "            result += char\n",
    "    return result\n",
    "print(remove_duplicate(\"hello\"))"
   ]
  },
  {
   "cell_type": "code",
   "execution_count": 17,
   "id": "6b215e21-d6af-4ffd-a490-9cf08871252b",
   "metadata": {},
   "outputs": [
    {
     "name": "stdout",
     "output_type": "stream",
     "text": [
      "helo\n"
     ]
    }
   ],
   "source": [
    "# alternate appraoch using dictionary\n",
    "# dict.fromkeys() removes duplicates while keeping the order — super clean and Pythonic.\n",
    "def remove_duplicate(s):\n",
    "    return ''.join(dict.fromkeys(s))\n",
    "\n",
    "print(remove_duplicate(\"hello\"))  # helo\n"
   ]
  },
  {
   "cell_type": "markdown",
   "id": "3a9b02c0-1327-4cea-88f1-547565f2c2b1",
   "metadata": {},
   "source": [
    "### Q3. Write a script to count the frequency of each character in a string."
   ]
  },
  {
   "cell_type": "code",
   "execution_count": 7,
   "id": "7bfb4291-9fa0-4b78-87ec-7e57d777b1a5",
   "metadata": {},
   "outputs": [
    {
     "name": "stdout",
     "output_type": "stream",
     "text": [
      "{'h': 1, 'e': 1, 'l': 3, 'o': 2, ' ': 1, 'w': 1, 'r': 1, 'd': 1}\n",
      "\n",
      "\n",
      "'h' : 1\n",
      "'e' : 1\n",
      "'l' : 3\n",
      "'o' : 2\n",
      "' ' : 1\n",
      "'w' : 1\n",
      "'r' : 1\n",
      "'d' : 1\n"
     ]
    }
   ],
   "source": [
    "text = \"hello world\"\n",
    "\n",
    "char_frequency = {}\n",
    "\n",
    "for characters in text:\n",
    "    if characters in char_frequency:\n",
    "        char_frequency[characters] += 1\n",
    "    else:\n",
    "        char_frequency[characters] = 1\n",
    "\n",
    "print(char_frequency)\n",
    "\n",
    "print(\"\\n\")\n",
    "\n",
    "for char, count in char_frequency.items():\n",
    "    print(f\"'{char}' : {count}\")"
   ]
  },
  {
   "cell_type": "markdown",
   "id": "8e228b79-08b6-4db7-875c-7161cba8e7ba",
   "metadata": {},
   "source": [
    "### Q4. Write a program that accepts a sentence and calculates the number of upper and lower case letters.\n"
   ]
  },
  {
   "cell_type": "code",
   "execution_count": 9,
   "id": "3a9d1352-f964-4b3b-aa9f-b8f39fd7bed1",
   "metadata": {},
   "outputs": [
    {
     "name": "stdout",
     "output_type": "stream",
     "text": [
      "No of uppercase letters is:  2\n",
      "No of lowercase letters is:  6\n"
     ]
    }
   ],
   "source": [
    "sentence = \"Her There\"\n",
    "\n",
    "upper_count = 0\n",
    "lower_count = 0\n",
    "\n",
    "for characters in sentence :\n",
    "    if characters.isupper():\n",
    "        upper_count += 1\n",
    "    elif characters.islower():\n",
    "        lower_count += 1\n",
    "\n",
    "print(\"No of uppercase letters is: \",upper_count)\n",
    "print(\"No of lowercase letters is: \",lower_count)"
   ]
  },
  {
   "cell_type": "markdown",
   "id": "ba01b47b-b478-4988-a5e8-aace112bf504",
   "metadata": {},
   "source": [
    "### Q5. Create a program to find the longest word in a sentence.\n"
   ]
  },
  {
   "cell_type": "code",
   "execution_count": 10,
   "id": "e8dcdbf4-b54f-4a37-9634-767b280b2752",
   "metadata": {},
   "outputs": [
    {
     "name": "stdout",
     "output_type": "stream",
     "text": [
      "The longest word is : controll\n"
     ]
    }
   ],
   "source": [
    "sentence = \" The world is full of people that want to controll others\"\n",
    "\n",
    "words = sentence.split()\n",
    "\n",
    "longest_word = \"\"\n",
    "\n",
    "for word in words :\n",
    "    if len(word) > len(longest_word):\n",
    "        longest_word = word\n",
    "\n",
    "print(\"The longest word is :\", longest_word)"
   ]
  },
  {
   "cell_type": "markdown",
   "id": "e27bb861-0a4d-4fcd-a519-b304017289dc",
   "metadata": {},
   "source": [
    "### Q6. Write a program that takes a string and returns the string in reverse order without using [::-1].\n"
   ]
  },
  {
   "cell_type": "code",
   "execution_count": 18,
   "id": "0558ef7b-55ff-48b1-81d3-966528da3992",
   "metadata": {},
   "outputs": [
    {
     "name": "stdout",
     "output_type": "stream",
     "text": [
      "no gniog si tahw dlrow yeh\n"
     ]
    }
   ],
   "source": [
    "string = \"hey world what is going on\"\n",
    "reversed_string = \"\"\n",
    "\n",
    "for i in string:\n",
    "    reversed_string = i + reversed_string\n",
    "\n",
    "print(reversed_string)"
   ]
  },
  {
   "cell_type": "code",
   "execution_count": 31,
   "id": "af34b7e5-77fd-4a38-846a-796d8f70ad54",
   "metadata": {},
   "outputs": [
    {
     "name": "stdout",
     "output_type": "stream",
     "text": [
      "no gniog si tahw dlrow yeh\n"
     ]
    }
   ],
   "source": [
    "string = \"hey world what is going on\"\n",
    "char_list = list(string)\n",
    "\n",
    "n = len(char_list)\n",
    "\n",
    "for i in range (n//2):\n",
    "    char_list[i], char_list[n - i -1] = char_list[n - i - 1], char_list[i]\n",
    "\n",
    "new_string = \"\".join(char_list)\n",
    "print(new_string)\n",
    "\n"
   ]
  },
  {
   "cell_type": "markdown",
   "id": "769774a6-ba05-4a49-8094-b5134f62fdf7",
   "metadata": {},
   "source": [
    "### Q7. Create a Python function to check if a string is a pangram."
   ]
  },
  {
   "cell_type": "code",
   "execution_count": 37,
   "id": "08ee31a9-d031-4a05-a7eb-266c6c747714",
   "metadata": {},
   "outputs": [
    {
     "name": "stdout",
     "output_type": "stream",
     "text": [
      "True\n",
      "False\n"
     ]
    }
   ],
   "source": [
    "import string\n",
    "def is_pangram(sentence):\n",
    "    sentence = sentence.lower()\n",
    "    for letter in string.ascii_lowercase:\n",
    "        if letter not in sentence :\n",
    "            return False\n",
    "    return True\n",
    "\n",
    "print(is_pangram(\"The quick brown fox jumps over the lazy dog.\"))\n",
    "print(is_pangram(\"HI there \"))"
   ]
  },
  {
   "cell_type": "markdown",
   "id": "2b944bc2-de97-4faa-ac49-958496fb3086",
   "metadata": {},
   "source": [
    "### Q8. Write a Python script to sort words in a sentence alphabetically"
   ]
  },
  {
   "cell_type": "code",
   "execution_count": 45,
   "id": "2bab8512-04bc-4464-81f1-41b9c170983b",
   "metadata": {},
   "outputs": [
    {
     "name": "stdout",
     "output_type": "stream",
     "text": [
      "What are in life should that the things value you\n"
     ]
    }
   ],
   "source": [
    "# this does not respect the upper case so if upper case is introduced it'll keep it at the first place\n",
    "sentence = \"What are the things that you should value in life\"\n",
    "\n",
    "words = sentence.split()\n",
    "\n",
    "words.sort()\n",
    "\n",
    "sorted_sentence = \" \".join(words)\n",
    "\n",
    "print(sorted_sentence)"
   ]
  },
  {
   "cell_type": "code",
   "execution_count": 46,
   "id": "7d336404-ae60-49bf-a9a7-5f482dcf37a9",
   "metadata": {},
   "outputs": [
    {
     "name": "stdout",
     "output_type": "stream",
     "text": [
      "are in life should that the things value What you\n"
     ]
    }
   ],
   "source": [
    "# Fixing the above problem\n",
    "sentence = \"What are the things that you should value in life\"\n",
    "\n",
    "words = sentence.split()\n",
    "\n",
    "words.sort(key=str.lower)\n",
    "\n",
    "sorted_sentence = \" \".join(words)\n",
    "\n",
    "print(sorted_sentence)"
   ]
  },
  {
   "cell_type": "code",
   "execution_count": 47,
   "id": "7c39a291-e30c-4c8f-b14f-584c8fe45b85",
   "metadata": {},
   "outputs": [
    {
     "name": "stdout",
     "output_type": "stream",
     "text": [
      "are in life should that the things value what you\n"
     ]
    }
   ],
   "source": [
    "sentence = \"What are the things that you should value in life\"\n",
    "\n",
    "sentence = sentence.lower()\n",
    "\n",
    "words = sentence.split()\n",
    "\n",
    "words.sort()\n",
    "\n",
    "sorted_sentence = \" \".join(words)\n",
    "\n",
    "print(sorted_sentence)"
   ]
  },
  {
   "cell_type": "markdown",
   "id": "8f53bb61-6e72-45b7-8712-d8577537163b",
   "metadata": {},
   "source": [
    "### Q9. Write a program to check if two strings are anagrams"
   ]
  },
  {
   "cell_type": "code",
   "execution_count": 52,
   "id": "d2a8be8e-b95c-4936-b12f-ad800b73020a",
   "metadata": {},
   "outputs": [
    {
     "name": "stdout",
     "output_type": "stream",
     "text": [
      "True\n",
      "False\n"
     ]
    }
   ],
   "source": [
    "def check(string1,string2):\n",
    "    string1 = string1.replace(\" \",\"\").lower()\n",
    "    string2 = string2.replace(\" \",\"\").lower()\n",
    "\n",
    "    return sorted(string1) == sorted(string2)\n",
    "\n",
    "print(check(\"listen\",\"silent\"))\n",
    "print(check(\"hi\",\"hey\"))"
   ]
  },
  {
   "cell_type": "markdown",
   "id": "f04c3cde-a11e-4f3e-b7ae-5ab5aec03487",
   "metadata": {},
   "source": [
    "### Q10. Write a Python program to capitalize the first letter of each word in a sentence."
   ]
  },
  {
   "cell_type": "code",
   "execution_count": 55,
   "id": "518def6c-9b8b-472f-b046-8fe6c1b7f4e6",
   "metadata": {},
   "outputs": [
    {
     "name": "stdout",
     "output_type": "stream",
     "text": [
      "capitalised_sentence :  Hey There What Is Going On With You\n"
     ]
    }
   ],
   "source": [
    "sentence = \"hey there what is going on with you\"\n",
    "\n",
    "capitalized_sentence = sentence.title()\n",
    "\n",
    "print(\"capitalised_sentence : \",capitalized_sentence)"
   ]
  },
  {
   "cell_type": "code",
   "execution_count": 58,
   "id": "4921256a-b2da-417d-a38f-c4ee830e05e4",
   "metadata": {},
   "outputs": [
    {
     "name": "stdout",
     "output_type": "stream",
     "text": [
      "capitalized sentence : Hey There What Is Going On With You\n"
     ]
    }
   ],
   "source": [
    "sentence = \"hey there what is going on with you\"\n",
    "words = sentence.split()\n",
    "\n",
    "capitalized_words = [word.capitalize() for word in words]\n",
    "\n",
    "capitalized_sentence = \" \".join(capitalized_words)\n",
    "\n",
    "print(\"capitalized sentence :\", capitalized_sentence)"
   ]
  },
  {
   "cell_type": "markdown",
   "id": "20a7ad6c-e062-46c3-abc5-6139ca2fa962",
   "metadata": {},
   "source": [
    "### Q11. Create a program that extracts numbers from a string and returns their sum."
   ]
  },
  {
   "cell_type": "code",
   "execution_count": 61,
   "id": "9c68310c-c37e-4d65-afc2-d72a169062a1",
   "metadata": {},
   "outputs": [
    {
     "name": "stdout",
     "output_type": "stream",
     "text": [
      "15\n"
     ]
    }
   ],
   "source": [
    "number_in_string = \"12345\"\n",
    "total = 0 \n",
    "\n",
    "for i in number_in_string:\n",
    "    total = total + int(i)\n",
    "\n",
    "print(total)"
   ]
  },
  {
   "cell_type": "markdown",
   "id": "586686fc-5ed8-4527-abc9-b12b744640a8",
   "metadata": {},
   "source": [
    "### Q12. Write a program to replace all spaces in a string with underscores.\n"
   ]
  },
  {
   "cell_type": "code",
   "execution_count": 63,
   "id": "6d1bfb38-d5b3-4a2a-87b3-7bbfb42ee3e9",
   "metadata": {},
   "outputs": [
    {
     "name": "stdout",
     "output_type": "stream",
     "text": [
      "hello_everyone_i_just_want_to_emphasise_on_the_fact_that_no_matter_what_you_should_work_hard\n"
     ]
    }
   ],
   "source": [
    "string = \"hello everyone i just want to emphasise on the fact that no matter what you should work hard\"\n",
    "string = string.replace(\" \",\"_\")\n",
    "print(string)"
   ]
  },
  {
   "cell_type": "markdown",
   "id": "09861f3f-c055-482f-91fe-1436457b1405",
   "metadata": {},
   "source": [
    "### Q13. Write a function to count how many times a substring appears in a string."
   ]
  },
  {
   "cell_type": "code",
   "execution_count": 64,
   "id": "edd83c2b-16eb-4538-9c57-b80409502226",
   "metadata": {},
   "outputs": [
    {
     "data": {
      "text/plain": [
       "3"
      ]
     },
     "execution_count": 64,
     "metadata": {},
     "output_type": "execute_result"
    }
   ],
   "source": [
    "def count_substring(string,substring):\n",
    "    # using a build in function \n",
    "    return string.count(substring)\n",
    "\n",
    "count_substring(\"the world , the mountain , the hero\",\"the\")"
   ]
  },
  {
   "cell_type": "markdown",
   "id": "fc7659f3-0611-4574-bfa1-18475a669e17",
   "metadata": {},
   "source": [
    "### Q14. Write a script to convert a string into title case without using .title()."
   ]
  },
  {
   "cell_type": "code",
   "execution_count": 72,
   "id": "9ab987f0-e174-4e95-b624-e25559a105e4",
   "metadata": {},
   "outputs": [
    {
     "name": "stdout",
     "output_type": "stream",
     "text": [
      "Hello Eveyone How Are You Doing\n"
     ]
    }
   ],
   "source": [
    "def to_title_case(sentence):\n",
    "    words = sentence.split()\n",
    "    title_words = []\n",
    "\n",
    "    for word in words :\n",
    "        if len(word) > 0:\n",
    "            first_char = word[0]\n",
    "            if 'a' <= first_char <= 'z':\n",
    "                first_char = chr(ord(first_char)-32)\n",
    "\n",
    "            new_word = first_char + word[1:]\n",
    "            title_words.append(new_word)\n",
    "        else:\n",
    "            title_words.append(word)\n",
    "\n",
    "    return \" \".join(title_words)\n",
    "print(to_title_case(\"hello eveyone how are you doing\"))"
   ]
  },
  {
   "cell_type": "markdown",
   "id": "d27246bf-ee9e-4270-bb3e-abb7f5aaf3b4",
   "metadata": {},
   "source": [
    "### Q15. Write a Python program to merge two dictionaries into one."
   ]
  },
  {
   "cell_type": "code",
   "execution_count": 73,
   "id": "5b55c6ea-6e5c-4adf-ba9c-2cd59a0c505c",
   "metadata": {},
   "outputs": [
    {
     "name": "stdout",
     "output_type": "stream",
     "text": [
      "{'a': 1, 'b': 2, 'c': 3, 'd': 4, 'e': 5, 'f': 6}\n"
     ]
    }
   ],
   "source": [
    "def merge_dict (dict1, dict2):\n",
    "    merge = {}\n",
    "\n",
    "    for key in dict1:\n",
    "        merge[key] = dict1[key]\n",
    "\n",
    "    for key in dict2:\n",
    "        merge[key] = dict2[key]\n",
    "\n",
    "    return merge\n",
    "\n",
    "print(merge_dict({\"a\":1,\"b\":2,\"c\":3},{\"d\":4,\"e\":5,\"f\":6}))"
   ]
  },
  {
   "cell_type": "markdown",
   "id": "895363f4-70be-4de5-9874-d645389e6186",
   "metadata": {},
   "source": [
    "### Q16. Create a program to filter out all non-alphabetic characters from a string."
   ]
  },
  {
   "cell_type": "code",
   "execution_count": 79,
   "id": "6f8ac58a-2466-4e9d-a7df-b81c37a6ad66",
   "metadata": {},
   "outputs": [
    {
     "name": "stdout",
     "output_type": "stream",
     "text": [
      "helloWOrldPython\n"
     ]
    }
   ],
   "source": [
    "def filter_aplha(string):\n",
    "    result = \"\"\n",
    "    for char in string:\n",
    "        if('a' <= char <= 'z') or ('A' <= char <= 'Z'):\n",
    "            result += char\n",
    "    return result\n",
    "\n",
    "print(filter_aplha(\"hello , WOrld!!! 123 Py000thon #201\"))"
   ]
  },
  {
   "cell_type": "markdown",
   "id": "655dcade-6ede-4fca-91b9-30b17a9f9dfb",
   "metadata": {},
   "source": [
    "### Q17. Write a function that returns True if a string ends with a given suffix.\n"
   ]
  },
  {
   "cell_type": "code",
   "execution_count": 81,
   "id": "8181d6eb-42c5-4d44-baeb-36997329be32",
   "metadata": {},
   "outputs": [
    {
     "name": "stdout",
     "output_type": "stream",
     "text": [
      "True\n",
      "False\n"
     ]
    }
   ],
   "source": [
    "def ends_with(string,suffix):\n",
    "    str_len = len(string)\n",
    "    suf_len = len(suffix)\n",
    "\n",
    "    if suf_len > str_len:\n",
    "        return False\n",
    "\n",
    "    for i in range(1, suf_len + 1):\n",
    "        if string[-i] != suffix[-i]:\n",
    "            return False\n",
    "    return True\n",
    "\n",
    "print(ends_with(\"development\",\"ment\"))\n",
    "print(ends_with(\"hello\",\"Hi\"))"
   ]
  },
  {
   "cell_type": "markdown",
   "id": "19d06e70-5ea5-4721-aa87-7bd59d9d1360",
   "metadata": {},
   "source": [
    "### Q18. Create a program that counts words, characters, and lines in a paragraph.\n"
   ]
  },
  {
   "cell_type": "code",
   "execution_count": 82,
   "id": "38460f37-61e7-4cd2-8a4c-40cbf308f59c",
   "metadata": {},
   "outputs": [
    {
     "name": "stdout",
     "output_type": "stream",
     "text": [
      "Lines: 1\n",
      "Words: 8\n",
      "Characters: 36\n"
     ]
    }
   ],
   "source": [
    "paragraph = \"hello mate how are you doing in life\"\n",
    "\n",
    "line_count = paragraph.count(\"\\n\") + 1 # Count \"\\n\" and add 1\n",
    "\n",
    "word_count = len(paragraph.split())\n",
    "\n",
    "char_count = len(paragraph)\n",
    "\n",
    "print(\"Lines:\", line_count)\n",
    "print(\"Words:\", word_count)\n",
    "print(\"Characters:\", char_count)"
   ]
  },
  {
   "cell_type": "markdown",
   "id": "177550a2-9580-4180-996b-4b7a0af3b304",
   "metadata": {},
   "source": [
    "### Q19. Write a script to encode a string using Caesar cipher (shift = 3)."
   ]
  },
  {
   "cell_type": "markdown",
   "id": "2979de48-642c-42e8-b159-db692d39dfd5",
   "metadata": {},
   "source": [
    "### What the question is asking:\n",
    "\n",
    "1. Input: A string of text from the user.\n",
    "\n",
    "- Example: `\"Hello World\"`\n",
    "\n",
    "2. Task: Encode the string using a Caesar cipher with a shift of 3.\n",
    "\n",
    "- A Caesar cipher is a type of substitution cipher where each letter is replaced by another letter a fixed number of positions down the alphabet.\n",
    "\n",
    "- Here, the shift = 3 means:\n",
    "\n",
    "- - A → D, B → E, C → F …\n",
    "\n",
    "- - X → A, Y → B, Z → C (wraps around at the end of the alphabet)\n",
    "\n",
    "3. Output: The new encoded string.\n",
    "\n",
    "Example: `\"Hello World\"` → `\"Khoor Zruog\"`"
   ]
  },
  {
   "cell_type": "code",
   "execution_count": 85,
   "id": "b11cbee9-ea94-4fac-8213-6fd2549b1610",
   "metadata": {},
   "outputs": [
    {
     "name": "stdout",
     "output_type": "stream",
     "text": [
      "Khb pdwh zkdw lv jrlqj rq zlwk brx\n"
     ]
    }
   ],
   "source": [
    "def caser_cipher(text , shift = 3):\n",
    "    result = \"\"\n",
    "\n",
    "    for char in text:\n",
    "        # Check if character is uppercase\n",
    "        if 'A' <= char <= 'Z':\n",
    "            result += chr((ord(char) - ord('A') + shift) % 26 + ord('A'))\n",
    "\n",
    "        # Check if character is lowercase\n",
    "        elif 'a' <= char<= 'z':\n",
    "            result += chr((ord(char) - ord('a') + shift) % 26 + ord('a'))\n",
    "\n",
    "        else:\n",
    "            result += char\n",
    "\n",
    "    return result \n",
    "\n",
    "print(caser_cipher(\"Hey mate what is going on with you\"))"
   ]
  },
  {
   "cell_type": "markdown",
   "id": "37e909ed-ac9e-4c51-b00d-894ac411f016",
   "metadata": {},
   "source": [
    "### Q20. Write a program that accepts a string and counts vowels and consonants."
   ]
  },
  {
   "cell_type": "code",
   "execution_count": 89,
   "id": "9b3e600b-4a7f-4e5f-b5f7-90ada41bb6c0",
   "metadata": {},
   "outputs": [
    {
     "name": "stdout",
     "output_type": "stream",
     "text": [
      "(12, 17)\n"
     ]
    }
   ],
   "source": [
    "def count_vowel_consonant(text):\n",
    "    vowels = \"aeiouAEIOU\"  # include uppercase vowels\n",
    "    vowel_count = 0\n",
    "    consonant_count = 0 \n",
    "\n",
    "    for char in text:\n",
    "        if char.isalpha():  \n",
    "            if char in vowels:\n",
    "                vowel_count += 1\n",
    "            else:\n",
    "                consonant_count += 1\n",
    "\n",
    "    return vowel_count, consonant_count\n",
    "\n",
    "print(count_vowel_consonant(\"hey mate what's going on in your life?\"))"
   ]
  },
  {
   "cell_type": "markdown",
   "id": "1a6f3039-a596-4a2d-9267-a89dfe06ee54",
   "metadata": {},
   "source": [
    "### Q21. Create a script to convert binary string to decimal."
   ]
  },
  {
   "cell_type": "code",
   "execution_count": 90,
   "id": "0b178972-e3b7-485d-a048-37c378062dbb",
   "metadata": {},
   "outputs": [
    {
     "name": "stdout",
     "output_type": "stream",
     "text": [
      "87\n"
     ]
    }
   ],
   "source": [
    "def binary_to_decimal(binary_str):\n",
    "    decimal = 0 \n",
    "    power = 0 # start from rightmost big\n",
    "\n",
    "    # process the binary string from right to left\n",
    "    for digit in reversed(binary_str):\n",
    "        if digit == \"1\":\n",
    "            decimal += 2 ** power\n",
    "        elif digit!= \"0\":\n",
    "            return \"Error: Not a valid binary number\"\n",
    "        power += 1\n",
    "\n",
    "    return decimal\n",
    "\n",
    "print(binary_to_decimal(\"1010111\"))"
   ]
  },
  {
   "cell_type": "markdown",
   "id": "6880adc3-8bbc-4842-b098-1b28d1570fd0",
   "metadata": {},
   "source": [
    "### Q22. Write a program to count the number of words starting with a vowel in a string."
   ]
  },
  {
   "cell_type": "code",
   "execution_count": 92,
   "id": "5523df8d-029f-4970-b065-8e839ba5dd8e",
   "metadata": {},
   "outputs": [
    {
     "name": "stdout",
     "output_type": "stream",
     "text": [
      "4\n"
     ]
    }
   ],
   "source": [
    "def count_words_starting_with_vowel(text):\n",
    "    vowel = \"aeiouAEIOU\"\n",
    "    count = 0 \n",
    "    words = text.split()\n",
    "    for word in words:\n",
    "        if len(word) > 0 and word[0] in vowel :\n",
    "            count += 1\n",
    "    return count \n",
    "\n",
    "print(count_words_starting_with_vowel(\"apple egg what is it\"))"
   ]
  },
  {
   "cell_type": "markdown",
   "id": "28af23d0-0c66-4502-bcad-cc9cbac69f45",
   "metadata": {},
   "source": [
    "### Q23. Create a script that takes a sentence and removes all stop words.\n"
   ]
  },
  {
   "cell_type": "code",
   "execution_count": 98,
   "id": "e568e487-62ae-41ca-a8c0-d150360cdafa",
   "metadata": {},
   "outputs": [
    {
     "name": "stdout",
     "output_type": "stream",
     "text": [
      "hey there what going you\n"
     ]
    }
   ],
   "source": [
    "def remove_stop_words(x):\n",
    "    stop_words = {\n",
    "        \"a\", \"an\", \"the\", \"is\", \"in\", \"on\", \"at\", \"for\", \"of\", \n",
    "        \"and\", \"or\", \"to\", \"with\", \"by\", \"this\", \"that\", \"are\"\n",
    "    }\n",
    "\n",
    "    word = x.split()\n",
    "    filter_words = [word for word in words if word.lower() not in stop_words]\n",
    "    return \" \".join(filter_words)\n",
    "\n",
    "print(remove_stop_words(\"This is a simple example for learning Python with clarity.\"))"
   ]
  },
  {
   "cell_type": "markdown",
   "id": "01e84068-09de-437c-ac5a-7bd49defcd85",
   "metadata": {},
   "source": [
    "### Q24. Write a Python program to split a sentence into words and reverse each word"
   ]
  },
  {
   "cell_type": "code",
   "execution_count": 100,
   "id": "293e5f5e-3605-44b2-9f5b-41e3fc6b2b82",
   "metadata": {},
   "outputs": [
    {
     "name": "stdout",
     "output_type": "stream",
     "text": [
      "yeh etam tahw era uoy gniod\n"
     ]
    }
   ],
   "source": [
    "def split_and_reverse(text):\n",
    "    words = text.split()\n",
    "    new = []\n",
    "    for word in words:\n",
    "        new.append(word[::-1])\n",
    "    return \" \".join(new)\n",
    "\n",
    "print(split_and_reverse(\"hey mate what are you doing\"))"
   ]
  },
  {
   "cell_type": "markdown",
   "id": "12501c86-3276-4678-9eca-9bfe95ca46c4",
   "metadata": {},
   "source": [
    "### Q25. Write a function that returns a new string made of every third character of the original string"
   ]
  },
  {
   "cell_type": "code",
   "execution_count": 102,
   "id": "e6f1c347-608f-4a9c-9683-b1a1212825db",
   "metadata": {},
   "outputs": [
    {
     "name": "stdout",
     "output_type": "stream",
     "text": [
      "fkdldldk\n"
     ]
    }
   ],
   "source": [
    "def every_third_char(text):\n",
    "    result = \"\"\n",
    "    for i in range(2,len(text),3):\n",
    "        result += text[i]\n",
    "    return result\n",
    "\n",
    "print(every_third_char(\"adfflkajdfklajdfklafdlakjd\"))"
   ]
  },
  {
   "cell_type": "markdown",
   "id": "32c55a27-1120-43f8-9e5f-7d409c02d980",
   "metadata": {},
   "source": [
    "### Q26. Write a program to find all palindromic substrings in a string"
   ]
  },
  {
   "cell_type": "code",
   "execution_count": 106,
   "id": "3f7f4c10-6061-4d46-b1dc-808656582108",
   "metadata": {},
   "outputs": [
    {
     "name": "stdout",
     "output_type": "stream",
     "text": [
      "['madam', 'aba', 'racecar']\n"
     ]
    }
   ],
   "source": [
    "def palindrom_in_string(text):\n",
    "    words = text.split()\n",
    "    palindromic_words = []\n",
    "    for word in words:\n",
    "        if len(word)>1 and word == word[::-1]:\n",
    "            palindromic_words.append(word)\n",
    "    return palindromic_words\n",
    "    \n",
    "print(palindrom_in_string(\" madam is going aba in racecar i wish you the best \"))"
   ]
  },
  {
   "cell_type": "code",
   "execution_count": 107,
   "id": "3daa9be2-fcae-42ae-9d73-e8e078bbc638",
   "metadata": {},
   "outputs": [
    {
     "name": "stdout",
     "output_type": "stream",
     "text": [
      "Palindromic substrings: ['madam', 'ada', ' aba ', 'aba', 'racecar', 'aceca', 'cec']\n"
     ]
    }
   ],
   "source": [
    "def palindromic_substrings(text):\n",
    "    palindromes = []\n",
    "    n = len(text)\n",
    "\n",
    "    # Loop through all possible substrings\n",
    "    for i in range(n):\n",
    "        for j in range(i + 2, n + 1):  # substrings of length >= 2\n",
    "            substring = text[i:j]\n",
    "            if substring == substring[::-1]:\n",
    "                palindromes.append(substring)\n",
    "\n",
    "    return palindromes\n",
    "\n",
    "\n",
    "# Example usage\n",
    "text = \"madam is going aba in racecar\"\n",
    "result = palindromic_substrings(text)\n",
    "print(\"Palindromic substrings:\", result)"
   ]
  },
  {
   "cell_type": "markdown",
   "id": "07c1ce43-fdb4-4351-9a1d-e52835358f6f",
   "metadata": {},
   "source": [
    "### Q27. Write a function that compresses a string using run-length encoding."
   ]
  },
  {
   "cell_type": "code",
   "execution_count": 109,
   "id": "435556b5-a952-4197-972e-c6c419b28e5d",
   "metadata": {},
   "outputs": [
    {
     "name": "stdout",
     "output_type": "stream",
     "text": [
      "a6b7c3d2s2e2\n"
     ]
    }
   ],
   "source": [
    "def run_length_encode(text):\n",
    "    if not text:\n",
    "        return \"\"\n",
    "    result = \"\"\n",
    "    count = 1\n",
    "\n",
    "    for i in range(1, len(text)):\n",
    "        if text[i] == text[i-1]:\n",
    "            count += 1\n",
    "        else:\n",
    "            result += text[i-1] + str(count)\n",
    "            count = 1\n",
    "    result += text[-1] + str(count)\n",
    "    return result\n",
    "\n",
    "print(run_length_encode(\"aaaaaabbbbbbbcccddssee\"))"
   ]
  },
  {
   "cell_type": "markdown",
   "id": "947ec4ec-193b-4364-b8ff-1bcd3ebb4247",
   "metadata": {},
   "source": [
    "### Q28. Write a Python program to count the frequency of each word in a file."
   ]
  },
  {
   "cell_type": "code",
   "execution_count": 16,
   "id": "bb8a36ce-aad3-4b4c-aba2-fcf30a01f6f5",
   "metadata": {},
   "outputs": [],
   "source": [
    "\"\"\" 1. Open the file in read mode\n",
    "    2. Read it's content and plit it into words\n",
    "    3. use a dictonary to store word frequency \n",
    "    4. loop through each word:\n",
    "        - convert it all to lower case\n",
    "        - remove punctuation if necessary \n",
    "        - increament of the frequency in the dictonary\n",
    "\"\"\"\n",
    "def word_frequency(file_name):\n",
    "    freq = {}\n",
    "    with open(file_name,\"r\") as file:\n",
    "        text = file.read().lower()\n",
    "    words = text.split()\n",
    "    for word in words:\n",
    "        clear_word = \"\"\n",
    "        for char in word:\n",
    "            if char.isaplha():\n",
    "                clear_word += char\n",
    "        if clear_word in freq:\n",
    "            freq[clear_word] += 1\n",
    "        else:\n",
    "            freq[clear_word] = 1\n",
    "    return freq\n",
    "# You should use a valid file and verify it yoursel just once , check it\n",
    "print(word_frequency(\"data.txt\"))"
   ]
  },
  {
   "cell_type": "markdown",
   "id": "262c8bd2-6087-4dfe-aef6-ed1e4fdbdb88",
   "metadata": {},
   "source": [
    "### Q29. Write a script that extracts hashtags from a tweet.\n"
   ]
  },
  {
   "cell_type": "code",
   "execution_count": 110,
   "id": "27419857-5843-4a35-a3c8-a6cd913e8275",
   "metadata": {},
   "outputs": [
    {
     "name": "stdout",
     "output_type": "stream",
     "text": [
      "Hashtags found: ['#Python3.11!', '#coding', '#100DaysOfCode']\n"
     ]
    }
   ],
   "source": [
    "def extract_hashtags(tweet):\n",
    "    hashtag = []\n",
    "\n",
    "    words = tweet.split()\n",
    "\n",
    "    for word in words:\n",
    "        if word.startswith(\"#\") and len(word)>1 :\n",
    "            hashtag.append(word)\n",
    "    return hashtag\n",
    "\n",
    "tweet = \"Loving the new features in #Python3.11! #coding #100DaysOfCode\"\n",
    "print(\"Hashtags found:\", extract_hashtags(tweet))"
   ]
  },
  {
   "cell_type": "markdown",
   "id": "2a519106-223a-46ca-95c4-8323198bf7aa",
   "metadata": {},
   "source": [
    "### Q30. Write a function to remove punctuation from a string."
   ]
  },
  {
   "cell_type": "code",
   "execution_count": 114,
   "id": "581ee140-55fe-4314-abcb-5a83eea1b335",
   "metadata": {},
   "outputs": [
    {
     "name": "stdout",
     "output_type": "stream",
     "text": [
      "Text without punctuation: Hello world Hows everything going\n"
     ]
    }
   ],
   "source": [
    "import string\n",
    "def remove_punctuation(text):\n",
    "    # string.punctuation contains all punctuation characters\n",
    "    result = text.translate(str.maketrans('', '', string.punctuation))\n",
    "    return result\n",
    "\n",
    "\n",
    "# Example usage\n",
    "text = \"Hello, world! How's everything going?\"\n",
    "clean_text = remove_punctuation(text)\n",
    "print(\"Text without punctuation:\", clean_text)"
   ]
  },
  {
   "cell_type": "markdown",
   "id": "71d1c888-b562-4055-8487-8cd970083e7e",
   "metadata": {},
   "source": [
    "### Q31. Create a program that finds the first non-repeating character in a string."
   ]
  },
  {
   "cell_type": "code",
   "execution_count": 5,
   "id": "3570921e-dc25-4ccc-ae0f-56cf80ba3573",
   "metadata": {},
   "outputs": [
    {
     "name": "stdout",
     "output_type": "stream",
     "text": [
      "w\n",
      "e\n"
     ]
    }
   ],
   "source": [
    "def first_non_repeating_character(text):\n",
    "    for character in text:\n",
    "        if text.count(character) == 1:\n",
    "            return character\n",
    "print(first_non_repeating_character(\"swiss\"))\n",
    "print(first_non_repeating_character(\"helloh\"))"
   ]
  },
  {
   "cell_type": "markdown",
   "id": "427b49fd-72ea-4656-9aee-fa16662ae384",
   "metadata": {},
   "source": [
    "### Q32. Write a script that converts camelCase to snake_case.\n"
   ]
  },
  {
   "cell_type": "code",
   "execution_count": 6,
   "id": "1035da51-336f-49e6-a9c6-5c75513866ba",
   "metadata": {},
   "outputs": [
    {
     "data": {
      "text/plain": [
       "'convert_this_to_snake_case'"
      ]
     },
     "execution_count": 6,
     "metadata": {},
     "output_type": "execute_result"
    }
   ],
   "source": [
    "import re\n",
    "def camel_to_snake(name):\n",
    "    # Insert underscore before each capital letter and convert to lowercase\n",
    "    snake = re.sub(r'([A-Z])',r'_\\1',name).lower()\n",
    "\n",
    "    # Remove the leadin underscore if the word start with a capital \n",
    "    return snake.lstrip(\"_\")\n",
    "\n",
    "camel_to_snake(\"ConvertThisToSnakeCase\")"
   ]
  },
  {
   "cell_type": "code",
   "execution_count": 8,
   "id": "d311d61d-d8c4-45a4-89b4-87d0e0f0ea3b",
   "metadata": {},
   "outputs": [
    {
     "data": {
      "text/plain": [
       "'convert_this_to_snake_case_two'"
      ]
     },
     "execution_count": 8,
     "metadata": {},
     "output_type": "execute_result"
    }
   ],
   "source": [
    "# from scratch \n",
    "def camel_to_snake(name):\n",
    "    snake_case = \"\"\n",
    "    for char in name:\n",
    "        if char.isupper():\n",
    "            snake_case += \"_\" + char.lower()\n",
    "        else:\n",
    "            snake_case += char\n",
    "\n",
    "    if snake_case[0] == \"_\":\n",
    "        snake_case = snake_case[1:]\n",
    "    return snake_case\n",
    "camel_to_snake(\"ConvertThisToSnakeCaseTwo\")"
   ]
  },
  {
   "cell_type": "markdown",
   "id": "0802a080-7d66-485a-8484-082b21497c64",
   "metadata": {},
   "source": [
    "### Q33. Write a function to generate acronyms from a sentence."
   ]
  },
  {
   "cell_type": "code",
   "execution_count": 13,
   "id": "d792c2ee-31d3-4fac-85ef-b1cc98bcd970",
   "metadata": {},
   "outputs": [
    {
     "name": "stdout",
     "output_type": "stream",
     "text": [
      "NAASA\n",
      "PNG\n"
     ]
    }
   ],
   "source": [
    "def generate_acronyms(sentence):\n",
    "    words = sentence.split()\n",
    "    acronyms = \"\"\n",
    "\n",
    "    for word in words:\n",
    "        if word[0].isalpha():\n",
    "            acronyms += word[0].upper()\n",
    "    return acronyms\n",
    "print(generate_acronyms(\"National Aeronautics and Space Administration\"))\n",
    "print(generate_acronym(\"Portable Network Graphics\"))"
   ]
  },
  {
   "cell_type": "markdown",
   "id": "5708b752-1004-4291-bc1a-3a24c6d08b75",
   "metadata": {},
   "source": [
    "### Q34. Write a script to check if a file contains a specific word."
   ]
  },
  {
   "cell_type": "code",
   "execution_count": null,
   "id": "53c6e890-5463-4b46-b5b4-1cfe615f9007",
   "metadata": {},
   "outputs": [],
   "source": [
    "''' You'll open a file in read mode.\n",
    "    read it's contents \n",
    "    search for the word in the contents\n",
    "    return or print whether the word is found or not.\n",
    "'''\n",
    "def check_word_in_file(file_name, word):\n",
    "    found = False\n",
    "    with open(file_name,\"r\") as file:\n",
    "        for line in file:\n",
    "            if word.lower() in line.lower():\n",
    "                found = True \n",
    "                break\n",
    "    if found:\n",
    "        print(\"the word is found\")\n",
    "    else:\n",
    "        print(\"file not found\")\n",
    "check_word_in_file(\"story.txt\", \"hero\")"
   ]
  },
  {
   "cell_type": "markdown",
   "id": "05fa906a-b1f5-4899-a29d-d5d1b5d64ff0",
   "metadata": {},
   "source": [
    "### Q35. Write a Python program to find and replace text in a file.\n"
   ]
  },
  {
   "cell_type": "code",
   "execution_count": null,
   "id": "89648f27-86c2-4a7c-b331-59bb2c3049df",
   "metadata": {},
   "outputs": [],
   "source": [
    "'''Open a file.\n",
    "    Read all the text.\n",
    "    Replace a specific word or phrase with another.\n",
    "    Save the updated content back into the file (or a new file).\n",
    "    eg: I love java. if we replace java with python i'll be \n",
    "        I love python.\n",
    "'''\n",
    "def find_and_replace(file_name, old_text, new_text):\n",
    "    with open(filename,\"r\") as file:\n",
    "        content = file.read()\n",
    "\n",
    "    update_content = \"\"\n",
    "    i = 0 \n",
    "    while i < len(content):\n",
    "        # in next cell we'll use a built in method but let's do it from scratch here\n",
    "        if content[i:i+len(old_text)] == old_text:\n",
    "            updated_content += new_text\n",
    "            i += len(old_text)\n",
    "        else:\n",
    "            update_content += content[i]\n",
    "            i += 1\n",
    "    with open(filename,\"w\") as file:\n",
    "        file.write(update_content)\n",
    "    print(\"Replacement Completed\")\n",
    "find_and_replace(\"data.txt\",\"old\",\"new\")"
   ]
  },
  {
   "cell_type": "code",
   "execution_count": null,
   "id": "3abaa03e-5991-41bb-af4f-0918a2a32471",
   "metadata": {},
   "outputs": [],
   "source": [
    "# using a built in function \n",
    "def find_and_replace(filename, old_text, new_text):\n",
    "    with open(filename, \"r\") as file:\n",
    "        content = file.read()\n",
    "    updated_content = content.replace(old_text, new_text)\n",
    "    with open(filename, \"w\") as file:\n",
    "        file.write(updated_content)\n",
    "    print(\"Replacement Completed\")\n",
    "find_and_replace(\"Hello.txt\",\"Ram\",\"Ramesh\")"
   ]
  },
  {
   "cell_type": "markdown",
   "id": "0b446c14-63eb-4785-af81-5b9e1122d49d",
   "metadata": {},
   "source": [
    "### Q36. Write a script that checks if all characters in a string are digits."
   ]
  },
  {
   "cell_type": "code",
   "execution_count": 21,
   "id": "9c635b9f-8979-46c9-8d82-698b6f6efe87",
   "metadata": {},
   "outputs": [
    {
     "name": "stdout",
     "output_type": "stream",
     "text": [
      "True\n",
      "False\n"
     ]
    }
   ],
   "source": [
    "# checking manually\n",
    "def all_digit(string):\n",
    "    for char in string:\n",
    "        if not (\"0\" <= char <= \"9\"):\n",
    "            return False\n",
    "    return True\n",
    "print(all_digit(\"1234564\"))\n",
    "print(all_digit(\"12dfgh34dd\"))"
   ]
  },
  {
   "cell_type": "code",
   "execution_count": 17,
   "id": "5ca00144-f811-443e-a7a0-a34f4d408601",
   "metadata": {},
   "outputs": [
    {
     "name": "stdout",
     "output_type": "stream",
     "text": [
      "True\n",
      "False\n"
     ]
    }
   ],
   "source": [
    "# using built in approach\n",
    "def all_digit(string):\n",
    "    return string.isdigit()\n",
    "print(all_digit(\"123456\"))\n",
    "print(all_digit(\"12dfgh34\"))"
   ]
  },
  {
   "cell_type": "markdown",
   "id": "3602cb7a-9a84-4362-bd51-f05b4c8ae5e3",
   "metadata": {},
   "source": [
    "### Q37. Write a program to calculate the average word length in a sentence."
   ]
  },
  {
   "cell_type": "markdown",
   "id": "796e1971-99cb-427b-9bd5-e362c580fa92",
   "metadata": {},
   "source": [
    "Split the sentence into words.\n",
    "\n",
    "Count the total number of characters (excluding spaces/punctuation).\n",
    "\n",
    "Divide by the number of words.\n",
    "\n",
    "Example:\n",
    "Sentence → \"I love Python\"\n",
    "Word lengths → 1, 4, 6\n",
    "Average = (1 + 4 + 6) / 3 = 3.67"
   ]
  },
  {
   "cell_type": "code",
   "execution_count": 22,
   "id": "57e1fec5-a221-439b-b484-0810d6cbcbfb",
   "metadata": {},
   "outputs": [
    {
     "name": "stdout",
     "output_type": "stream",
     "text": [
      "5.5\n"
     ]
    }
   ],
   "source": [
    "def average_word_length(sentence):\n",
    "    words = sentence.split()\n",
    "    total_length = 0\n",
    "    word_count = 0 \n",
    "\n",
    "    for word in words :\n",
    "        clean_word = \"\"\n",
    "        for char in word:\n",
    "            if char.isalpha():\n",
    "                clean_word += char\n",
    "        total_length += len(clean_word)\n",
    "        word_count += 1\n",
    "\n",
    "    if word_count == 0 :\n",
    "        return o \n",
    "    return total_length / word_count\n",
    "    \n",
    "print(average_word_length(\"I love Python programming!\"))"
   ]
  },
  {
   "cell_type": "markdown",
   "id": "52adadef-dcf0-4532-846e-69c5d80bf4e8",
   "metadata": {},
   "source": [
    "### Q38. Create a function that removes all HTML tags from a string."
   ]
  },
  {
   "cell_type": "markdown",
   "id": "73042e08-e6d9-4593-a242-b5f43131171a",
   "metadata": {},
   "source": [
    "You need to remove all HTML tags (like <p>, <div>, <br>, <a href=...>, etc.) from a string and keep only the readable text.\n",
    "\n",
    "Example:\n",
    "Input → \"<p>Hello <b>World</b></p>\"\n",
    "Output → \"Hello World\""
   ]
  },
  {
   "cell_type": "code",
   "execution_count": 23,
   "id": "86a54a87-b121-4fa4-a526-d6e90ae29226",
   "metadata": {},
   "outputs": [
    {
     "name": "stdout",
     "output_type": "stream",
     "text": [
      "Hello World! Welcome to Python.\n"
     ]
    }
   ],
   "source": [
    "import re \n",
    "def remove_html_tags(text):\n",
    "    clean_text = re.sub(r'<.*?>','',text)\n",
    "    return clean_text\n",
    "print(remove_html_tags(\"<h1>Hello <b>World</b>! Welcome to <i>Python</i>.</h1>\"))"
   ]
  },
  {
   "cell_type": "code",
   "execution_count": 24,
   "id": "0d48b139-03c8-46de-b525-fd52fb9f65d7",
   "metadata": {},
   "outputs": [
    {
     "name": "stdout",
     "output_type": "stream",
     "text": [
      "Hello World! Welcome to Python is great.\n"
     ]
    }
   ],
   "source": [
    "def remove_html_tags(text):\n",
    "    result = \"\"\n",
    "    inside_tag = False\n",
    "\n",
    "    for char in text:\n",
    "        if char == '<':\n",
    "            inside_tag = True\n",
    "        elif char == '>':\n",
    "            inside_tag = False\n",
    "        elif not inside_tag:\n",
    "            result += char\n",
    "    return result\n",
    "print(remove_html_tags(\"<h1>Hello <b>World</b>! Welcome to <i>Python is great</i>.</h1>\"))"
   ]
  },
  {
   "cell_type": "markdown",
   "id": "71ddbbec-1594-4482-a3aa-8918892bc7c8",
   "metadata": {},
   "source": [
    "### Q39. Write a program to parse a date string and display it in a different format."
   ]
  },
  {
   "cell_type": "code",
   "execution_count": 27,
   "id": "f0a06ba3-07d0-477e-848d-2965616bafb5",
   "metadata": {},
   "outputs": [
    {
     "name": "stdout",
     "output_type": "stream",
     "text": [
      "October 16,2065\n"
     ]
    }
   ],
   "source": [
    "# manual apprach \n",
    "def convert_date_format(date_str):\n",
    "    months = [\"January\", \"February\", \"March\", \"April\", \"May\", \"June\",\n",
    "              \"July\", \"August\", \"September\", \"October\", \"November\", \"December\"]\n",
    "    year , month , day = date_str.split(\"-\")\n",
    "    month_name = months[int(month)-1]\n",
    "    return f\"{month_name} {int(day)},{year}\"\n",
    "\n",
    "print(convert_date_format(\"2065-10-16\"))"
   ]
  },
  {
   "cell_type": "code",
   "execution_count": 28,
   "id": "8f9f91c5-133e-47c7-aac4-2647261abe5f",
   "metadata": {},
   "outputs": [
    {
     "name": "stdout",
     "output_type": "stream",
     "text": [
      "October 16, 2065\n"
     ]
    }
   ],
   "source": [
    "# Using built in function \n",
    "from datetime import datetime\n",
    "def convert_date_format(date_str):\n",
    "    date_object = datetime.strptime(date_str,\"%Y-%m-%d\")\n",
    "    formatted_date = date_object.strftime(\"%B %d, %Y\")\n",
    "    return formatted_date\n",
    "print(convert_date_format(\"2065-10-16\"))"
   ]
  },
  {
   "cell_type": "markdown",
   "id": "ccbdbac1-f01d-4771-a254-0e4581a4a2d2",
   "metadata": {},
   "source": [
    "### Q40. Write a script that finds all email addresses in a given text."
   ]
  },
  {
   "cell_type": "code",
   "execution_count": 30,
   "id": "26e4bc44-ffde-416c-aed3-30a7e48acb6e",
   "metadata": {},
   "outputs": [
    {
     "name": "stdout",
     "output_type": "stream",
     "text": [
      "['hello@gmail.com', 'work.mail@outlook.com']\n"
     ]
    }
   ],
   "source": [
    "def extract_emails(text):\n",
    "    emails = []\n",
    "    words = text.split()\n",
    "    for word in words:\n",
    "        if \"@\" in word and \".\" in word:\n",
    "            emails.append(word.strip(\",.\"))\n",
    "    return emails\n",
    "print(extract_emails(\"My emails are hello@gmail.com and work.mail@outlook.com.\"))"
   ]
  },
  {
   "cell_type": "markdown",
   "id": "78897db3-ee56-489f-aa00-abf3ceb12053",
   "metadata": {},
   "source": [
    "### Q41. Write a program that counts the occurrence of each vowel in a paragraph.\n"
   ]
  },
  {
   "cell_type": "code",
   "execution_count": 32,
   "id": "22339e03-2d51-4fe7-924a-1248c32abc54",
   "metadata": {},
   "outputs": [
    {
     "name": "stdout",
     "output_type": "stream",
     "text": [
      "{'a': 1, 'e': 2, 'i': 3, 'o': 5, 'u': 1}\n"
     ]
    }
   ],
   "source": [
    "def count_vowels(paragraph):\n",
    "    counts = {'a':0 , 'e':0 , 'i':0 , 'o':0 , 'u':0}\n",
    "    paragraph = paragraph.lower()\n",
    "    for char in paragraph:\n",
    "        if char in counts:\n",
    "            counts[char] += 1\n",
    "    return counts\n",
    "print(count_vowels(\"Hello world, I love Python. Programming is fun!\"))"
   ]
  },
  {
   "cell_type": "markdown",
   "id": "8de24834-cfc3-4704-8bb8-a5b67d9b74aa",
   "metadata": {},
   "source": [
    "### Q42. Create a function that validates an email address format. explain and work on "
   ]
  },
  {
   "cell_type": "markdown",
   "id": "01866b21-f06a-45b0-b1c0-033441c6664a",
   "metadata": {},
   "source": [
    "A valid email generally has the following structure:\n",
    "\n",
    "username@domain.extension\n",
    "\n",
    "\n",
    "Rules:\n",
    "\n",
    "username can contain letters, numbers, dots, underscores, and some special characters (+, -).\n",
    "\n",
    "There must be exactly one @ symbol.\n",
    "\n",
    "domain contains letters, numbers, dots, or hyphens.\n",
    "\n",
    "extension comes after a dot and is usually 2–6 letters (like .com, .org, .edu).\n",
    "\n",
    "Example:\n",
    "\n",
    "Valid: hello.world@example.com\n",
    "\n",
    "Invalid: hello@.com, user@@example.com, user@domain"
   ]
  },
  {
   "cell_type": "code",
   "execution_count": 34,
   "id": "e5af38c2-b409-492c-aa2f-d9a86b510ea8",
   "metadata": {},
   "outputs": [
    {
     "name": "stdout",
     "output_type": "stream",
     "text": [
      "True\n",
      "False\n"
     ]
    }
   ],
   "source": [
    "def validate_email(email):\n",
    "    if email.count(\"@\") != 1:\n",
    "        return False\n",
    "    username, domain_ext = email.split(\"@\")\n",
    "    # Check usrename is not empty\n",
    "    if not username:\n",
    "        return False\n",
    "    # Domain must have dot\n",
    "    if \".\" not in domain_ext:\n",
    "        return False\n",
    "    domain, extension = domain_ext.rsplit(\".\",1)\n",
    "    if not domain or not extension:\n",
    "        return False\n",
    "\n",
    "    if len(extension)<2 or len(extension)> 6:\n",
    "        return False\n",
    "    return True\n",
    "\n",
    "print(validate_email(\"hello@example.com\"))  \n",
    "print(validate_email(\"user@@mail.com\")) "
   ]
  },
  {
   "cell_type": "markdown",
   "id": "d9c97606-0017-4a61-9d00-2d1cb7c41e5f",
   "metadata": {},
   "source": [
    "### Q43. Write a script to check if a string is a valid URL."
   ]
  },
  {
   "cell_type": "markdown",
   "id": "1b11f8ee-7e46-4d8e-8c81-25befa08be60",
   "metadata": {},
   "source": [
    "#### Rules (basic check):\n",
    "\n",
    "- Starts with a valid scheme: http://, https://, or ftp://.\n",
    "\n",
    "- Followed by a domain (like example.com).\n",
    "\n",
    "- Optional path, query, or fragment.\n",
    "\n",
    "`Examples:`\n",
    "\n",
    "Valid: https://www.example.com, http://my-site.org/path\n",
    "\n",
    "Invalid: htp://example, example.com, ://wrong.com"
   ]
  },
  {
   "cell_type": "code",
   "execution_count": 39,
   "id": "107f0f2c-e757-461e-9773-3962d7740cd5",
   "metadata": {},
   "outputs": [
    {
     "name": "stdout",
     "output_type": "stream",
     "text": [
      "True\n",
      "False\n"
     ]
    }
   ],
   "source": [
    "def validate_url(url):\n",
    "    valid_schemes = [\"http://\",\"https://\",\"ftp://\"]\n",
    "    for scheme in valid_schemes:\n",
    "        if url.startswith(scheme) and url.endswith(\".com\"):\n",
    "            return True\n",
    "    return False\n",
    "print(validate_url(\"https://www.example.com\"))  \n",
    "print(validate_url(\"example.com\"))    "
   ]
  },
  {
   "cell_type": "markdown",
   "id": "21425018-7050-4e72-b262-a543c8e2ea3c",
   "metadata": {},
   "source": [
    "### Q44. Write a program that extracts all integers from a given text."
   ]
  },
  {
   "cell_type": "code",
   "execution_count": 42,
   "id": "a121bbaa-7519-4314-a2b2-89251e121758",
   "metadata": {},
   "outputs": [
    {
     "name": "stdout",
     "output_type": "stream",
     "text": [
      "[2, 15, 100]\n"
     ]
    }
   ],
   "source": [
    "def extract_integers(text):\n",
    "    numbers = []\n",
    "    num_str = \"\"\n",
    "\n",
    "    for char in text:\n",
    "        if char.isdigit():\n",
    "            num_str += char        # build the number\n",
    "        else:\n",
    "            if num_str:            # if we reached a non-digit, save the number\n",
    "                numbers.append(int(num_str))\n",
    "                num_str = \"\"\n",
    "    if num_str:                    # append the last number if any\n",
    "        numbers.append(int(num_str))\n",
    "\n",
    "    return numbers\n",
    "\n",
    "# Example usage\n",
    "text = \"I have 2 apples, 15 oranges, and 100 cherries.\"\n",
    "print(extract_integers(text))\n"
   ]
  },
  {
   "cell_type": "markdown",
   "id": "f9208636-98d5-4014-8c2b-e9f3ef2f857d",
   "metadata": {},
   "source": [
    "### Q45. Create a script to find duplicate words in a paragraph.\n"
   ]
  },
  {
   "cell_type": "code",
   "execution_count": 44,
   "id": "b96fdd74-3f6f-4ffb-b9f8-6928e92377aa",
   "metadata": {},
   "outputs": [
    {
     "name": "stdout",
     "output_type": "stream",
     "text": [
      "({'test', 'this', 'is'}, {'this': 2, 'is': 2, 'a': 1, 'test': 2, 'simple': 1})\n"
     ]
    }
   ],
   "source": [
    "import string\n",
    "def find_duplicate_words(paragraph):\n",
    "    paragraph = paragraph.lower()\n",
    "    for p in string.punctuation:\n",
    "        paragraph = paragraph.replace(p,\"\")\n",
    "\n",
    "    words = paragraph.split()\n",
    "    word_count = {}\n",
    "    duplicates = set()\n",
    "\n",
    "    for word in words:\n",
    "        if word in word_count:\n",
    "            word_count[word] += 1\n",
    "            duplicates.add(word)\n",
    "        else:\n",
    "            word_count[word] = 1\n",
    "    return duplicates, word_count\n",
    "print(find_duplicate_words(\"This is a test. This test is simple.\"))"
   ]
  },
  {
   "cell_type": "markdown",
   "id": "86ca6896-102f-43f9-a5ad-5c7129398c19",
   "metadata": {},
   "source": [
    "### Q46. Write a program that converts a sentence to Pig Latin."
   ]
  },
  {
   "cell_type": "markdown",
   "id": "4c0c3103-b831-4c34-99eb-24b7ec860bca",
   "metadata": {},
   "source": [
    "### Pig Latin is a simple way to transform English words into a playful language. The basic rules:\n",
    "\n",
    "1. For words that start with a consonant, move all letters before the first vowel to the end, then add \"ay\".\n",
    "\n",
    "- Example: \"hello\" → \"ellohay\"\n",
    "\n",
    "2. For words that start with a vowel, just add \"way\" at the end.\n",
    "\n",
    "- Example: \"apple\" → \"appleway\""
   ]
  },
  {
   "cell_type": "code",
   "execution_count": 45,
   "id": "e0c9e7d4-a790-4fa7-ae5e-fe1534c0d964",
   "metadata": {},
   "outputs": [
    {
     "name": "stdout",
     "output_type": "stream",
     "text": [
      "ellohay orldway Iway ovelay onPythay\n"
     ]
    }
   ],
   "source": [
    "def pig_latin(sentence):\n",
    "    vowels = \"aeiouAEIOU\"\n",
    "    words = sentence.split()\n",
    "    pig_latin_words = []\n",
    "\n",
    "    for word in words:\n",
    "        if word[0] in vowels:\n",
    "            # Word starts with a vowel\n",
    "            pig_word = word + \"way\"\n",
    "        else:\n",
    "            # Word starts with consonant\n",
    "            # Find the first vowel\n",
    "            for i, letter in enumerate(word):\n",
    "                if letter in vowels:\n",
    "                    pig_word = word[i:] + word[:i] + \"ay\"\n",
    "                    break\n",
    "            else:\n",
    "                # No vowel found, treat entire word as consonant\n",
    "                pig_word = word + \"ay\"\n",
    "        pig_latin_words.append(pig_word)\n",
    "\n",
    "    return \" \".join(pig_latin_words)\n",
    "\n",
    "# Example usage\n",
    "sentence = \"hello world I love Python\"\n",
    "print(pig_latin(sentence))\n"
   ]
  },
  {
   "cell_type": "markdown",
   "id": "b0f729ec-34c7-45ff-a635-eb14635b0480",
   "metadata": {},
   "source": [
    "### Q47. Write a script that finds the longest sentence in a paragraph."
   ]
  },
  {
   "cell_type": "code",
   "execution_count": 46,
   "id": "78b6159c-2e0a-4818-9b0a-3cee8e1e01be",
   "metadata": {},
   "outputs": [
    {
     "name": "stdout",
     "output_type": "stream",
     "text": [
      "{'It has multiple sentences, and we want to find the longest one': 12}\n"
     ]
    }
   ],
   "source": [
    "import re\n",
    "def longest_sentence_by_words(paragraph):\n",
    "    sentences = re.split(r'[.!?]\\s*', paragraph)\n",
    "    sentence_length = {}\n",
    "\n",
    "    for sentence in sentences:\n",
    "        sentence = sentence.strip()\n",
    "        if sentence :\n",
    "            sentence_length[sentence] = len(sentence.split())\n",
    "\n",
    "    longest = max(sentence_length , key = sentence_length.get)\n",
    "    return {longest: sentence_length[longest]}\n",
    "    \n",
    "paragraph = \"Hello world! This is a test paragraph. It has multiple sentences, and we want to find the longest one.\"\n",
    "print(longest_sentence_by_words(paragraph))"
   ]
  },
  {
   "cell_type": "markdown",
   "id": "1b7d7af8-9132-4678-a16e-013f7441a782",
   "metadata": {},
   "source": [
    "### Q48. Write a Python program to read a file and display all lines that contain a given keyword."
   ]
  },
  {
   "cell_type": "markdown",
   "id": "52256839-254e-4830-b77a-9e78197ba799",
   "metadata": {},
   "source": [
    "You need a program that:\n",
    "\n",
    "Reads a text file line by line.\n",
    "\n",
    "Checks if a given keyword exists in each line.\n",
    "\n",
    "Prints only the lines that contain the keyword."
   ]
  },
  {
   "cell_type": "code",
   "execution_count": null,
   "id": "3e2159bd-31bb-4b5b-a4be-7997b6e7665b",
   "metadata": {},
   "outputs": [],
   "source": [
    "def find_lines_with_keyword(filename, keyword):\n",
    "    with open(filename,\"w\") as file:\n",
    "        for line in file:\n",
    "            if keyword in line:\n",
    "                print(line.strip())\n",
    "\n",
    "find_lines_with_keyword(\"example.txt\",\"python\")"
   ]
  },
  {
   "cell_type": "markdown",
   "id": "4c08be36-3be2-4aac-9796-6dcc3bb67e22",
   "metadata": {},
   "source": [
    "### Q49. Write a script to clean a text file by removing extra spaces and blank lines"
   ]
  },
  {
   "cell_type": "code",
   "execution_count": null,
   "id": "336be69d-7222-4021-b0bb-490165ee5862",
   "metadata": {},
   "outputs": [],
   "source": [
    "def clean_text_file(filename):\n",
    "    with open(filename, 'r') as file:\n",
    "        lines = file.readlines()\n",
    "\n",
    "    cleaned_lines = []\n",
    "    for line in lines:\n",
    "        # Remove leading/trailing spaces and reduce multiple spaces to single\n",
    "        cleaned_line = ' '.join(line.strip().split())\n",
    "        if cleaned_line:  # ignore empty lines\n",
    "            cleaned_lines.append(cleaned_line)\n",
    "\n",
    "    # Optionally, overwrite the file with cleaned content\n",
    "    with open(filename, 'w') as file:\n",
    "        for line in cleaned_lines:\n",
    "            file.write(line + '\\n')\n",
    "\n",
    "    print(\"File cleaned successfully!\")\n",
    "\n",
    "# Example usage\n",
    "clean_text_file(\"example.txt\")\n"
   ]
  },
  {
   "cell_type": "markdown",
   "id": "687cb082-2a83-42ff-af2c-fe03ead8af49",
   "metadata": {},
   "source": [
    "### Q50. Write a Python program to count how many sentences are in a paragraph."
   ]
  },
  {
   "cell_type": "code",
   "execution_count": 48,
   "id": "500060d0-dfbf-4004-a2b8-55191a294123",
   "metadata": {},
   "outputs": [
    {
     "name": "stdout",
     "output_type": "stream",
     "text": [
      "Number of sentences: 3\n"
     ]
    }
   ],
   "source": [
    "def count_sentences_manual(paragraph):\n",
    "    count = 0 \n",
    "    for char in paragraph:\n",
    "        if char in \".!?\":\n",
    "            count += 1\n",
    "    return count\n",
    "print(\"Number of sentences:\", count_sentences_manual(\"Hello world! How are you? This is Python.\"))"
   ]
  }
 ],
 "metadata": {
  "kernelspec": {
   "display_name": "Python 3 (ipykernel)",
   "language": "python",
   "name": "python3"
  },
  "language_info": {
   "codemirror_mode": {
    "name": "ipython",
    "version": 3
   },
   "file_extension": ".py",
   "mimetype": "text/x-python",
   "name": "python",
   "nbconvert_exporter": "python",
   "pygments_lexer": "ipython3",
   "version": "3.13.5"
  }
 },
 "nbformat": 4,
 "nbformat_minor": 5
}
