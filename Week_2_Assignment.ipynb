{
 "cells": [
  {
   "cell_type": "markdown",
   "id": "2a455787-5681-430c-8e9e-51ba3983bb1d",
   "metadata": {},
   "source": [
    "# Week 2: Functions, Lists, Tuples, Dictionaries, Sets"
   ]
  },
  {
   "cell_type": "markdown",
   "id": "62a34f3e-4c3d-466b-9492-500b1eb98a23",
   "metadata": {},
   "source": [
    "### 1. Write a function to check if a number is even."
   ]
  },
  {
   "cell_type": "code",
   "execution_count": 1,
   "id": "a14a5ba7-9f44-4b5c-a0ec-fd0d507010f2",
   "metadata": {},
   "outputs": [
    {
     "name": "stdout",
     "output_type": "stream",
     "text": [
      "10 is an even number\n",
      "3 is a odd number\n"
     ]
    }
   ],
   "source": [
    "def odd_even_checker(x):\n",
    "    if x % 2 == 0 :\n",
    "        print(f\"{x} is an even number\")\n",
    "    else :\n",
    "        print(f\"{x} is a odd number\")\n",
    "odd_even_checker(10)\n",
    "odd_even_checker(3)"
   ]
  },
  {
   "cell_type": "markdown",
   "id": "98b05de2-27f8-4c1d-94d4-f565215934ad",
   "metadata": {},
   "source": [
    "### 2. Create a list and find the sum of all its elements."
   ]
  },
  {
   "cell_type": "code",
   "execution_count": 4,
   "id": "6f66c9af-ff73-451a-a0a3-ecfb12ba9b79",
   "metadata": {},
   "outputs": [
    {
     "name": "stdout",
     "output_type": "stream",
     "text": [
      "129 is the sum of all the elements of the list [1, 2, 3, 4, 5, 7, 8, 9, 90]\n"
     ]
    }
   ],
   "source": [
    "a = [1,2,3,4,5,7,8,9,90]\n",
    "total = 0\n",
    "for digits in a:\n",
    "    total = total + int(digits)\n",
    "print(f\"{total} is the sum of all the elements of the list {a}\")"
   ]
  },
  {
   "cell_type": "markdown",
   "id": "2580296c-4303-40e8-a4b3-591d9f03c326",
   "metadata": {},
   "source": [
    "### 3. Write a program to find the maximum and minimum in a list."
   ]
  },
  {
   "cell_type": "code",
   "execution_count": 11,
   "id": "3f8a0799-47a5-4372-b42e-719573aa3883",
   "metadata": {},
   "outputs": [
    {
     "name": "stdout",
     "output_type": "stream",
     "text": [
      "100 is the maximum number in the list\n",
      "1 is the minimum number in the list\n"
     ]
    }
   ],
   "source": [
    "a = [1,2,3,45,33,67,89,100]\n",
    "x = int(a[0])\n",
    "\n",
    "# for finding the maximum number in the list\n",
    "\n",
    "for digits in a :\n",
    "    if int(digits) > x :\n",
    "        x = int(digits)\n",
    "print(f\"{x} is the maximum number in the list\")\n",
    "\n",
    "# for finding the minimum number in the list\n",
    "\n",
    "y = a[0]\n",
    "for digits in a :\n",
    "    if int(digits) < y :\n",
    "        y = int(digit)\n",
    "print(f\"{y} is the minimum number in the list\")"
   ]
  },
  {
   "cell_type": "markdown",
   "id": "690290ba-40d3-4531-a130-789ea0bf15c7",
   "metadata": {},
   "source": [
    "### 4. Create a program that removes duplicates from a list."
   ]
  },
  {
   "cell_type": "code",
   "execution_count": 17,
   "id": "353d7501-ada9-4fe1-8c9c-9808ba8576d6",
   "metadata": {},
   "outputs": [
    {
     "name": "stdout",
     "output_type": "stream",
     "text": [
      "[1, 2, 3, 4, 5, 6, 9, 0, 7]\n"
     ]
    }
   ],
   "source": [
    "a = [1,2,3,4,5,6,2,4,6,1,9,0,2,5,7,2,3,5]\n",
    "b = []\n",
    "for items in a :\n",
    "    if items not in b:\n",
    "        b.append(items)\n",
    "print(b)"
   ]
  },
  {
   "cell_type": "code",
   "execution_count": 18,
   "id": "cb00209c-7cb9-437e-8a7c-94a15a4c303f",
   "metadata": {},
   "outputs": [
    {
     "name": "stdout",
     "output_type": "stream",
     "text": [
      "[1, 2, 3, 4, 5, 6, 9, 0, 7]\n"
     ]
    }
   ],
   "source": [
    "a = [1,2,3,4,5,6,2,4,6,1,9,0,2,5,7,2,3,5]\n",
    "\n",
    "for i in range(len(a)):\n",
    "    j = len(a)-1\n",
    "    while j > i:\n",
    "        if a[i] == a[j]:\n",
    "            a.pop(j) \n",
    "        j -= 1\n",
    "print(a)"
   ]
  },
  {
   "cell_type": "markdown",
   "id": "77d8dd15-deb4-43ce-8b6f-520255d7dcd3",
   "metadata": {},
   "source": [
    "### 5. Write a function to reverse a list."
   ]
  },
  {
   "cell_type": "code",
   "execution_count": 20,
   "id": "b082d2e0-0493-4ca0-90e3-03b359a2faf6",
   "metadata": {},
   "outputs": [
    {
     "name": "stdout",
     "output_type": "stream",
     "text": [
      "[9, 8, 7, 6, 5, 4, 3, 2, 1]\n"
     ]
    }
   ],
   "source": [
    "def rev_list(x):\n",
    "    print(x[::-1])\n",
    "rev_list([1,2,3,4,5,6,7,8,9])"
   ]
  },
  {
   "cell_type": "markdown",
   "id": "3a46ffc7-2de4-4115-8246-ce022bcd5994",
   "metadata": {},
   "source": [
    "### 6. Create a tuple and access its elements."
   ]
  },
  {
   "cell_type": "code",
   "execution_count": 33,
   "id": "c30f13df-3fc2-4354-8021-18a6bcdda9ff",
   "metadata": {},
   "outputs": [
    {
     "name": "stdout",
     "output_type": "stream",
     "text": [
      "<class 'tuple'>\n",
      "ram is the item with index 0 in the list\n",
      "hari is the item with index 1 in the list\n",
      "sita is the item with index 2 in the list\n",
      "1 is the item with index 3 in the list\n",
      "2 is the item with index 4 in the list\n",
      "3 is the item with index 5 in the list\n",
      "4 is the item with index 6 in the list\n",
      "9.0 is the item with index 7 in the list\n"
     ]
    }
   ],
   "source": [
    "a = (\"ram\",\"hari\",\"sita\",1,2,3,4,9.0)\n",
    "print(type(a))\n",
    "for i in range (len(a)):\n",
    "    print(f\"{a[i]} is the item with index {i} in the list\")"
   ]
  },
  {
   "cell_type": "markdown",
   "id": "55b741a7-acdb-4ef5-9c76-e6489f1d9832",
   "metadata": {},
   "source": [
    "### 7. Convert a list into a tuple and vice versa."
   ]
  },
  {
   "cell_type": "code",
   "execution_count": 38,
   "id": "0cb329b6-5a39-425d-b794-ad891bffb9e2",
   "metadata": {},
   "outputs": [
    {
     "name": "stdout",
     "output_type": "stream",
     "text": [
      "<class 'tuple'>\n",
      "a is now converted to tuple (1, 2, 3, 4, 5)\n",
      "<class 'list'>\n",
      "b is now converted to list [12, 3, 4, 5, 6]\n"
     ]
    }
   ],
   "source": [
    "a = [1,2,3,4,5]\n",
    "a = tuple(a)\n",
    "print(type(a))\n",
    "print(\"a is now converted to tuple\",a)\n",
    "b = (12,3,4,5,6)\n",
    "b = list(b)\n",
    "print(type(b))\n",
    "print(\"b is now converted to list\",b)"
   ]
  },
  {
   "cell_type": "markdown",
   "id": "a21271d0-0cbe-4ecb-80ef-53ee7abfae8a",
   "metadata": {},
   "source": [
    "### 8. Write a program to merge two dictionaries."
   ]
  },
  {
   "cell_type": "code",
   "execution_count": 41,
   "id": "b46ef59d-e052-46df-8968-51e6e57b1bda",
   "metadata": {},
   "outputs": [
    {
     "name": "stdout",
     "output_type": "stream",
     "text": [
      "{'ram': 10, 'hari': 20, 'sita': 13, 'reeta': 12, 'sandhya': 26, 'sanggeta': 34}\n"
     ]
    }
   ],
   "source": [
    "dict_1 = {\"ram\":10,\"hari\":20,\"sita\":13}\n",
    "dict_2 = {\"reeta\":12,\"sandhya\":26,\"sanggeta\":34}\n",
    "print({**dict_1, **dict_2})"
   ]
  },
  {
   "cell_type": "markdown",
   "id": "7e85f705-170c-4036-9cdc-48b08dfd880c",
   "metadata": {},
   "source": [
    "### 9. Write a function to count the frequency of elements in a list."
   ]
  },
  {
   "cell_type": "code",
   "execution_count": 42,
   "id": "12e2b778-0e2f-4820-a008-a8021f07e6be",
   "metadata": {},
   "outputs": [
    {
     "name": "stdout",
     "output_type": "stream",
     "text": [
      "{1: 2, 2: 2, 3: 2, 4: 3, 5: 1, 6: 1, 7: 2}\n"
     ]
    }
   ],
   "source": [
    "def count_frequency(lst):\n",
    "    freq = {}\n",
    "    for item in lst:\n",
    "        if item in freq:\n",
    "            freq[item] += 1\n",
    "        else:\n",
    "            freq[item] = 1\n",
    "    return freq\n",
    "\n",
    "my_list = [1,2,3,4,5,6,7,1,2,4,7,3,4]\n",
    "print(count_frequency(my_list))"
   ]
  },
  {
   "cell_type": "markdown",
   "id": "8c271bbe-c4fa-49c9-97a3-908debc87a84",
   "metadata": {},
   "source": [
    "### 10. Create a dictionary of squares of numbers from 1 to 10."
   ]
  },
  {
   "cell_type": "code",
   "execution_count": 48,
   "id": "24b77c0d-75c7-45a6-a829-057b93617a3a",
   "metadata": {},
   "outputs": [
    {
     "name": "stdout",
     "output_type": "stream",
     "text": [
      "{1: 1, 2: 4, 3: 9, 4: 16, 5: 25, 6: 36, 7: 49, 8: 64, 9: 81, 10: 100}\n"
     ]
    }
   ],
   "source": [
    "square = {}\n",
    "for i in range(1,11):\n",
    "    square[i] = i**2\n",
    "print(square)"
   ]
  },
  {
   "cell_type": "markdown",
   "id": "70aac73b-6a05-4c98-a56a-56b18f1cd537",
   "metadata": {},
   "source": [
    "### 11. Write a program to sort a list in ascending order."
   ]
  },
  {
   "cell_type": "code",
   "execution_count": 64,
   "id": "36e5b740-89a9-425d-874f-b2f8cc2291c3",
   "metadata": {},
   "outputs": [
    {
     "name": "stdout",
     "output_type": "stream",
     "text": [
      "[1, 4, 3, 2, 9, 8, 7, 6, 55, 11, 45, 33]\n",
      "[1, 2, 3, 4, 6, 7, 8, 9, 11, 33, 45, 55]\n"
     ]
    }
   ],
   "source": [
    "a = [1,4,3,2,9,8,7,6,55,11,45,33]\n",
    "sorted_list = sorted(a)\n",
    "print(a)\n",
    "print(sorted_list)"
   ]
  },
  {
   "cell_type": "code",
   "execution_count": 66,
   "id": "65ca5e91-2369-4b7e-abc1-02c4aa969f57",
   "metadata": {},
   "outputs": [
    {
     "name": "stdout",
     "output_type": "stream",
     "text": [
      "[1, 2, 3, 4, 6, 7, 8, 9, 11, 33, 45, 55]\n"
     ]
    }
   ],
   "source": [
    "a = [1,4,3,2,9,8,7,6,55,11,45,33]\n",
    "\n",
    "# Bubble sort\n",
    "for i in range(len(a)):\n",
    "    for j in range(0, len(a)-i-1):\n",
    "        if a[j] > a[j+1]:\n",
    "            a[j],a[j+1] = a[j+1],a[j]\n",
    "\n",
    "print(a)"
   ]
  },
  {
   "cell_type": "code",
   "execution_count": 67,
   "id": "594fe44a-5111-4a4c-84fe-63b68deed687",
   "metadata": {},
   "outputs": [
    {
     "name": "stdout",
     "output_type": "stream",
     "text": [
      "[1, 2, 3, 4, 6, 7, 8, 9, 11, 33, 45, 55]\n"
     ]
    }
   ],
   "source": [
    "a = [1, 4, 3, 2, 9, 8, 7, 6, 55, 11, 45, 33]\n",
    "\n",
    "# Selection sort\n",
    "for i in range(len(a)):\n",
    "    min_index = i\n",
    "    for j in range(i + 1, len(a)):\n",
    "        if a[j] < a[min_index]:\n",
    "            min_index = j\n",
    "    # Swap the found minimum element with the first element\n",
    "    a[i], a[min_index] = a[min_index], a[i]\n",
    "\n",
    "print(a)"
   ]
  },
  {
   "cell_type": "markdown",
   "id": "76614ca1-a7a8-47dc-8bc3-8f5ec32edd8b",
   "metadata": {},
   "source": [
    "### 12. Create a program to check if a key exists in a dictionary."
   ]
  },
  {
   "cell_type": "code",
   "execution_count": 86,
   "id": "4f0199dd-345a-4ce8-ba5a-f3d7e526ece4",
   "metadata": {},
   "outputs": [
    {
     "name": "stdout",
     "output_type": "stream",
     "text": [
      "The key 'ram' exists in the dictionary.\n"
     ]
    }
   ],
   "source": [
    "d = {\"ram\":11,\"hari\":12,\"sita\":13}\n",
    "\n",
    "key_to_check = \"ram\"\n",
    "\n",
    "# Check if key exists\n",
    "if key_to_check in d:\n",
    "    print(f\"The key '{key_to_check}' exists in the dictionary.\")\n",
    "else:\n",
    "    print(f\"The key '{key_to_check}' does not exist in the dictionary.\")"
   ]
  },
  {
   "cell_type": "markdown",
   "id": "9bed1295-e3ff-4fdd-8247-839ff7a1532f",
   "metadata": {},
   "source": [
    "### 13. Create a set and perform union, intersection, and difference."
   ]
  },
  {
   "cell_type": "code",
   "execution_count": 90,
   "id": "443daef4-fc93-48ed-9f75-a61e4d5be06c",
   "metadata": {},
   "outputs": [
    {
     "name": "stdout",
     "output_type": "stream",
     "text": [
      "{1, 2, 3, 4, 7, 56}\n",
      "{2, 4, 6, 8, 10, 12}\n",
      "{56, 1, 3, 7}\n",
      "{56, 1, 3, 7}\n"
     ]
    }
   ],
   "source": [
    "s1 = {1,2,3,4,56,7}\n",
    "s2 = {2,4,6,8,10,12}\n",
    "print(s1 or s2) # union\n",
    "print(s1 and s2) # intersection\n",
    "print(s1 - s2) # difference\n",
    "print(s1.difference(s2)) # difference"
   ]
  },
  {
   "cell_type": "markdown",
   "id": "98f39094-7351-438f-a104-ff678dcff069",
   "metadata": {},
   "source": [
    "### 14. Write a function to find common elements in two lists."
   ]
  },
  {
   "cell_type": "code",
   "execution_count": 93,
   "id": "2298580f-04d7-4ea0-9260-3bc0f7005fc2",
   "metadata": {},
   "outputs": [
    {
     "name": "stdout",
     "output_type": "stream",
     "text": [
      "2 is a comman element in two lists\n",
      "3 is a comman element in two lists\n",
      "5 is a comman element in two lists\n"
     ]
    }
   ],
   "source": [
    "l1 = [1,2,3,4,5,7,8]\n",
    "l2 = [2,5,6,78,3,2]\n",
    "for item in l1:\n",
    "    if item in l2:\n",
    "        print(f\"{item} is a comman element in two lists\")"
   ]
  },
  {
   "cell_type": "markdown",
   "id": "8b22d493-3fbb-471b-9b6a-795d7a1c1df0",
   "metadata": {},
   "source": [
    "### 15. Write a function that returns the factorial of a number."
   ]
  },
  {
   "cell_type": "code",
   "execution_count": 98,
   "id": "6f742f30-c087-43fc-9057-31ce6e3eb177",
   "metadata": {},
   "outputs": [
    {
     "name": "stdout",
     "output_type": "stream",
     "text": [
      "The factorial of 5 is 120\n"
     ]
    }
   ],
   "source": [
    "def factorial(n):\n",
    "    fact = 1\n",
    "    x = n\n",
    "    for i in range(1,n+1):\n",
    "        fact = fact * i\n",
    "    print(f\"The factorial of {x} is {fact}\")\n",
    "factorial(5)"
   ]
  },
  {
   "cell_type": "markdown",
   "id": "1f73bfc9-b492-41dd-be97-c2cab5bbdafe",
   "metadata": {},
   "source": [
    "### 16. Create a function that checks whether a string is a palindrome."
   ]
  },
  {
   "cell_type": "code",
   "execution_count": 101,
   "id": "670c92c2-1581-45d2-b27e-44dd2688d8ee",
   "metadata": {},
   "outputs": [
    {
     "name": "stdout",
     "output_type": "stream",
     "text": [
      "palindrome\n",
      "not palindrome\n"
     ]
    }
   ],
   "source": [
    "def palindrome(string):\n",
    "    x = string\n",
    "    y = x[::-1]\n",
    "    if x == y :\n",
    "        print(\"palindrome\")\n",
    "    else :\n",
    "        print(\"not palindrome\")\n",
    "palindrome(\"dad\")\n",
    "palindrome(\"mama\")"
   ]
  },
  {
   "cell_type": "markdown",
   "id": "1895c298-17d7-434b-81e5-66a8604bec50",
   "metadata": {},
   "source": [
    "### 17. Write a function to count vowels in a string."
   ]
  },
  {
   "cell_type": "code",
   "execution_count": 107,
   "id": "18d9e024-336f-445b-b737-434f818ac3ec",
   "metadata": {},
   "outputs": [
    {
     "name": "stdout",
     "output_type": "stream",
     "text": [
      "There are 8 vowel in the string\n"
     ]
    }
   ],
   "source": [
    "def vowel_counter(string):\n",
    "    vowel = \"aeiou\"\n",
    "    vowel_counter = 0\n",
    "    x = string.lower().replace(\" \",\"\")\n",
    "    for characters in x:\n",
    "        if characters in vowel:\n",
    "            vowel_counter += 1\n",
    "    print(f\"There are {vowel_counter} vowel in the string\")\n",
    "\n",
    "\n",
    "vowel_counter(\" HEY there what is going on\")"
   ]
  },
  {
   "cell_type": "markdown",
   "id": "4dafe79a-a7a1-47d4-8235-8694acd8a316",
   "metadata": {},
   "source": [
    "### 18. Create a dictionary and iterate over its keys and values."
   ]
  },
  {
   "cell_type": "code",
   "execution_count": 120,
   "id": "71f7976e-e545-48b3-bd22-cc5d601ff576",
   "metadata": {},
   "outputs": [
    {
     "name": "stdout",
     "output_type": "stream",
     "text": [
      "the keys in the dictionary are : a\n",
      "the keys in the dictionary are : b\n",
      "the keys in the dictionary are : c\n",
      "\n",
      "\n",
      "the values in the dictionary are : 1\n",
      "the values in the dictionary are : 2\n",
      "the values in the dictionary are : 3\n"
     ]
    }
   ],
   "source": [
    "my_dict = {\"a\": 1, \"b\": 2, \"c\": 3}\n",
    "\n",
    "for i in my_dict:\n",
    "    print(\"the keys in the dictionary are :\",i)\n",
    "\n",
    "print(\"\\n\")\n",
    "\n",
    "for i in my_dict:\n",
    "    print(\"the values in the dictionary are :\",str(my_dict[i]))"
   ]
  },
  {
   "cell_type": "markdown",
   "id": "35b4509a-9cf5-40bb-b883-39c882f30931",
   "metadata": {},
   "source": [
    "### 19. Write a function to remove all punctuation from a string."
   ]
  },
  {
   "cell_type": "code",
   "execution_count": 125,
   "id": "8dda5bee-dc62-4a3f-b57f-9d6d87d278df",
   "metadata": {},
   "outputs": [
    {
     "name": "stdout",
     "output_type": "stream",
     "text": [
      "hello world whats up how youll doing\n"
     ]
    }
   ],
   "source": [
    "def punc_remover(text):\n",
    "    punc = \"\"\"!\"#$%&'()*+,-./:;<=>?@[\\]^_`{|}~\"\"\"\n",
    "    result = \"\"\n",
    "    for character in text:\n",
    "        if character not in punc:\n",
    "            result += character\n",
    "    print(result)\n",
    "\n",
    "punc_remover(\"hello world, what's up!!! how you'll doing.\")"
   ]
  },
  {
   "cell_type": "markdown",
   "id": "860cffdb-ff56-4579-925d-6ef6f5a840d8",
   "metadata": {},
   "source": [
    "### 20. Write a function to capitalize the first letter of each word in a string."
   ]
  },
  {
   "cell_type": "code",
   "execution_count": 132,
   "id": "85c76aa6-34e2-4d7f-8746-0ce01e3395d4",
   "metadata": {},
   "outputs": [
    {
     "name": "stdout",
     "output_type": "stream",
     "text": [
      "Hello There Hope You Are Doing Well\n"
     ]
    }
   ],
   "source": [
    "def capitalizer(string):\n",
    "    x = string\n",
    "    x = x.title()\n",
    "    print(x)\n",
    "capitalizer(\"hello there hope you are doing well\")"
   ]
  },
  {
   "cell_type": "markdown",
   "id": "3552955a-ba8a-4ccf-ad13-d42ab8b1f382",
   "metadata": {},
   "source": [
    "### 21. Create a list comprehension to get squares of all even numbers in a range."
   ]
  },
  {
   "cell_type": "code",
   "execution_count": 146,
   "id": "6ac01bfe-bb11-41ad-ba77-2464052a0c5c",
   "metadata": {},
   "outputs": [
    {
     "name": "stdout",
     "output_type": "stream",
     "text": [
      "the square of 1 is: 1\n",
      "the square of 2 is: 4\n",
      "the square of 3 is: 9\n",
      "the square of 4 is: 16\n",
      "the square of 5 is: 25\n",
      "the square of 6 is: 36\n",
      "the square of 7 is: 49\n",
      "the square of 8 is: 64\n",
      "the square of 9 is: 81\n"
     ]
    }
   ],
   "source": [
    "squares = [f\"the square of {x} is: {x**2}\" for x in range(1, 10)]\n",
    "\n",
    "for item in squares:\n",
    "    print(item)"
   ]
  },
  {
   "cell_type": "markdown",
   "id": "9f7cc30e-d9de-4e50-940c-7b0bc01ac229",
   "metadata": {},
   "source": [
    "### 22. Write a function to check if a string is an anagram."
   ]
  },
  {
   "cell_type": "code",
   "execution_count": 155,
   "id": "24850214-0c48-4717-bc81-8b25af161ffd",
   "metadata": {},
   "outputs": [
    {
     "name": "stdout",
     "output_type": "stream",
     "text": [
      "Anagram\n",
      "Anagram\n",
      "Anagram\n",
      "Not anagram\n",
      "Not anagram\n"
     ]
    }
   ],
   "source": [
    "def anagram_checker(x, y):\n",
    "    # normalize: lowercase and remove spaces\n",
    "    a = x.lower().replace(\" \", \"\")\n",
    "    b = y.lower().replace(\" \", \"\")\n",
    "\n",
    "    # check if sorted characters are equal\n",
    "    if sorted(a) == sorted(b):\n",
    "        print(\"Anagram\")\n",
    "    else:\n",
    "        print(\"Not anagram\")\n",
    "\n",
    "# Test cases\n",
    "anagram_checker(\"listen\", \"silent\")       #  Anagram\n",
    "anagram_checker(\"evil\", \"vile\")           #  Anagram\n",
    "anagram_checker(\"dormitory\", \"dirty room\")#  Anagram\n",
    "anagram_checker(\"hero\", \"zero\")           #  Not anagram\n",
    "anagram_checker(\"aaa\", \"abcaaa\")          #  Not anagram"
   ]
  },
  {
   "cell_type": "markdown",
   "id": "b2cd657d-61e4-4185-9cbe-438368493596",
   "metadata": {},
   "source": [
    "### 23. Create a nested dictionary to represent student records."
   ]
  },
  {
   "cell_type": "code",
   "execution_count": 158,
   "id": "3d747dd3-a18d-4d1c-ac0d-69c9a3a25124",
   "metadata": {},
   "outputs": [
    {
     "name": "stdout",
     "output_type": "stream",
     "text": [
      "{'Student_details': {'name': 'swopnim', 'age': 23}, 'School_detail': {'class': 12, 'school': 'Everest'}}\n"
     ]
    }
   ],
   "source": [
    "dict1 = {\"name\":\"swopnim\",\"age\":23}\n",
    "dict2 = {\"class\":12,\"school\":\"Everest\"}\n",
    "nested_dict =  {\"Student_details\":dict1,\"School_detail\":dict2}\n",
    "print(nested_dict)"
   ]
  },
  {
   "cell_type": "markdown",
   "id": "3e17735b-b9af-43fc-83c6-b7a03e6460f3",
   "metadata": {},
   "source": [
    "### 24. Write a function to flatten a nested list."
   ]
  },
  {
   "cell_type": "code",
   "execution_count": 165,
   "id": "0c730f6f-ef9e-4a88-804c-cb656a989a66",
   "metadata": {},
   "outputs": [
    {
     "name": "stdout",
     "output_type": "stream",
     "text": [
      "[1, 2, 3, 4, 5, 6, 7]\n"
     ]
    }
   ],
   "source": [
    "def flatten(lst):\n",
    "    result = []\n",
    "    for item in lst:\n",
    "        if isinstance(item, list):\n",
    "            result.extend(flatten(item))  # recursive call\n",
    "        else:\n",
    "            result.append(item)\n",
    "    return result\n",
    "\n",
    "nested = [1, 2, [3, 4], [5, [6, 7]]]\n",
    "print(flatten(nested))"
   ]
  },
  {
   "cell_type": "code",
   "execution_count": null,
   "id": "3d453504-0271-496b-9294-aafe96442290",
   "metadata": {},
   "outputs": [],
   "source": []
  },
  {
   "cell_type": "markdown",
   "id": "77841638-fa49-46ce-83ca-94fba4052fbc",
   "metadata": {},
   "source": [
    "### 25. Write a program to find the second highest number in a list."
   ]
  },
  {
   "cell_type": "code",
   "execution_count": 172,
   "id": "21adb5fc-97ac-434e-97b9-31f914a34599",
   "metadata": {},
   "outputs": [
    {
     "name": "stdout",
     "output_type": "stream",
     "text": [
      "unsorted list [1, 23, 12, 45, 22, 19, 90, 76, 43, 22, 87]\n",
      "sorted list [1, 12, 19, 22, 22, 23, 43, 45, 76, 87, 90]\n",
      "The second highest number is :  87\n"
     ]
    }
   ],
   "source": [
    "a = [1,23,12,45,22,19,90,76,43,22,87]\n",
    "print(\"unsorted list\",a)\n",
    "sorted_list = sorted(a)\n",
    "print(\"sorted list\",sorted_list)\n",
    "print(\"The second highest number is : \",sorted_list[-2])"
   ]
  },
  {
   "cell_type": "markdown",
   "id": "2e1cabb6-0cfe-4606-b6f6-ce56d4366eae",
   "metadata": {},
   "source": [
    "### 26. Create a function to rotate a list left by k positions."
   ]
  },
  {
   "cell_type": "code",
   "execution_count": 178,
   "id": "c2c5b44a-beb2-4c9c-84d4-242ffb476f90",
   "metadata": {},
   "outputs": [
    {
     "name": "stdout",
     "output_type": "stream",
     "text": [
      "[1, 2]\n",
      "[3, 4, 5]\n",
      "[3, 4, 5, 1, 2]\n"
     ]
    }
   ],
   "source": [
    "k = 7\n",
    "a = [1,2,3,4,5]\n",
    "b = [] \n",
    "c = []\n",
    "if k > len(a):\n",
    "    k = k % len(a)\n",
    "for i in range (k):\n",
    "    b.append(a[i])\n",
    "print(b)\n",
    "for i in range(k,len(a)):\n",
    "    c.append(a[i])\n",
    "print(c)\n",
    "d = c + b\n",
    "print(d)"
   ]
  },
  {
   "cell_type": "code",
   "execution_count": 179,
   "id": "0f6570b3-6d17-40bc-a974-5cfce509ba7c",
   "metadata": {},
   "outputs": [
    {
     "name": "stdout",
     "output_type": "stream",
     "text": [
      "[3, 4, 5, 1, 2]\n"
     ]
    }
   ],
   "source": [
    "k = 7\n",
    "a = [1,2,3,4,5]\n",
    "if k > len(a):\n",
    "    k = k % len(a)\n",
    "    \n",
    "first_part = a[:k]\n",
    "second_part = a[k:]\n",
    "rotated_list = second_part + first_part\n",
    "print(rotated_list)"
   ]
  },
  {
   "cell_type": "markdown",
   "id": "81499b35-e528-4f32-92d7-688170bccb99",
   "metadata": {},
   "source": [
    "### 27. Write a function to find the missing number from a list of 1 to N."
   ]
  },
  {
   "cell_type": "code",
   "execution_count": 182,
   "id": "1db10275-4c7b-4560-8ef3-c14677ee183a",
   "metadata": {},
   "outputs": [
    {
     "name": "stdin",
     "output_type": "stream",
     "text": [
      "enter the range 10\n"
     ]
    },
    {
     "name": "stdout",
     "output_type": "stream",
     "text": [
      "4 is a missing number in our list\n",
      "6 is a missing number in our list\n",
      "9 is a missing number in our list\n"
     ]
    }
   ],
   "source": [
    "our_list = [1,2,3,5,7,8,10]\n",
    "computer_list = []\n",
    "n = int(input(\"enter the range\"))\n",
    "for i in range (1,n+1):\n",
    "    computer_list.append(i)\n",
    "for nums in computer_list:\n",
    "    if nums not in our_list:\n",
    "        print(f\"{nums} is a missing number in our list\")"
   ]
  },
  {
   "cell_type": "code",
   "execution_count": 183,
   "id": "359b86cc-5d88-4225-b975-f3d97deaa41f",
   "metadata": {},
   "outputs": [
    {
     "name": "stdout",
     "output_type": "stream",
     "text": [
      "4 is missing\n",
      "6 is missing\n",
      "9 is missing\n"
     ]
    }
   ],
   "source": [
    "def find_missing(our_list, n):\n",
    "    for i in range(1, n+1):\n",
    "        if i not in our_list:\n",
    "            print(f\"{i} is missing\")\n",
    "\n",
    "find_missing([1,2,3,5,7,8,10],10)"
   ]
  },
  {
   "cell_type": "markdown",
   "id": "03d8a3f3-5d67-4f6e-93b7-1e5a26571e39",
   "metadata": {},
   "source": [
    "### 28. Write a program to remove all None values from a list."
   ]
  },
  {
   "cell_type": "code",
   "execution_count": 189,
   "id": "41a77378-018d-4dcd-ad8b-f82371d44849",
   "metadata": {},
   "outputs": [
    {
     "name": "stdout",
     "output_type": "stream",
     "text": [
      "[1, 3, 0, '', [], False]\n"
     ]
    }
   ],
   "source": [
    "my_list = [1, None, 3, 0, \"\",[], False]\n",
    "b = []\n",
    "for items in my_list:\n",
    "    if items is not None:\n",
    "        b.append(items)\n",
    "print(b)"
   ]
  },
  {
   "cell_type": "code",
   "execution_count": 191,
   "id": "97eaad7e-463d-4079-bd76-b71718df6ee4",
   "metadata": {},
   "outputs": [
    {
     "name": "stdout",
     "output_type": "stream",
     "text": [
      "[1, 3, 0, '', [], False]\n"
     ]
    }
   ],
   "source": [
    "my_list = [1, None, 3, 0, \"\",[], False]\n",
    "b = [item for item in my_list if item is not None]\n",
    "print(b)"
   ]
  },
  {
   "cell_type": "markdown",
   "id": "70d5d6c9-9c94-4625-b6b1-630346adc912",
   "metadata": {},
   "source": [
    "### 29. Write a function to merge two dictionaries and handle key collisions by summing values."
   ]
  },
  {
   "cell_type": "code",
   "execution_count": 199,
   "id": "dc704d10-a893-4620-b16b-4d4039c5cc1c",
   "metadata": {},
   "outputs": [
    {
     "name": "stdout",
     "output_type": "stream",
     "text": [
      "{'a': 1, 'b': 5, 'c': 9, 'd': 7, 'e': 10}\n"
     ]
    }
   ],
   "source": [
    "def merge_dicts_sum(dict1,dict2):\n",
    "    merged = dict1.copy()\n",
    "    for key,value in dict2.items():\n",
    "        if key in merged:\n",
    "            merged[key] += value\n",
    "        else:\n",
    "            merged[key] = value \n",
    "    return merged\n",
    "\n",
    "dict1 = {\"a\": 1, \"b\": 2, \"c\": 5}\n",
    "dict2 = {\"b\": 3, \"c\": 4, \"d\": 7, \"e\":10}\n",
    "\n",
    "result = merge_dicts_sum(dict1, dict2)\n",
    "print(result)"
   ]
  },
  {
   "cell_type": "markdown",
   "id": "ee73627d-3e26-4a8b-8323-a2e45c8fb468",
   "metadata": {},
   "source": [
    "### 30. Create a function to find unique elements present in only one of two lists."
   ]
  },
  {
   "cell_type": "code",
   "execution_count": 202,
   "id": "7ab7a2b5-9cb2-4fb0-ae40-8967d46e7fa6",
   "metadata": {},
   "outputs": [
    {
     "name": "stdout",
     "output_type": "stream",
     "text": [
      "[1, 2, 3, 4, 8, 9, 0]\n"
     ]
    }
   ],
   "source": [
    "list1 = [1,2,3,4,5,6,7]\n",
    "list2 = [5,6,7,8,9,0]\n",
    "list1unq = []\n",
    "list2unq = []\n",
    "for i in list1:\n",
    "    if i not in list2:\n",
    "        list1unq.append(i)\n",
    "        \n",
    "for i in list2:\n",
    "    if i not in list1:\n",
    "        list2unq.append(i)\n",
    "\n",
    "reslist = list1unq + list2unq\n",
    "print(reslist)\n"
   ]
  },
  {
   "cell_type": "code",
   "execution_count": 205,
   "id": "74f0a79f-30b9-4cbc-b95d-b35d9d575cce",
   "metadata": {},
   "outputs": [
    {
     "name": "stdout",
     "output_type": "stream",
     "text": [
      "[0, 1, 2, 3, 4, 8, 9]\n"
     ]
    }
   ],
   "source": [
    "# A ^ B = (A - B) ∪ (B - A)\n",
    "\n",
    "reslist1 = list(set(list1) ^ set(list2))\n",
    "print(reslist1)"
   ]
  }
 ],
 "metadata": {
  "kernelspec": {
   "display_name": "Python 3 (ipykernel)",
   "language": "python",
   "name": "python3"
  },
  "language_info": {
   "codemirror_mode": {
    "name": "ipython",
    "version": 3
   },
   "file_extension": ".py",
   "mimetype": "text/x-python",
   "name": "python",
   "nbconvert_exporter": "python",
   "pygments_lexer": "ipython3",
   "version": "3.13.5"
  }
 },
 "nbformat": 4,
 "nbformat_minor": 5
}
